{
 "cells": [
  {
   "cell_type": "markdown",
   "metadata": {
    "collapsed": true
   },
   "source": [
    "## Importing Required Libraries"
   ]
  },
  {
   "cell_type": "code",
   "execution_count": 1,
   "metadata": {},
   "outputs": [],
   "source": [
    "import pandas as pd\n",
    "import numpy as np\n",
    "import matplotlib.pyplot as plt\n",
    "%matplotlib inline"
   ]
  },
  {
   "cell_type": "markdown",
   "metadata": {},
   "source": [
    "### Reading File"
   ]
  },
  {
   "cell_type": "code",
   "execution_count": 2,
   "metadata": {},
   "outputs": [],
   "source": [
    "df=pd.read_csv(\"bank-additional-full.csv\",sep=';')"
   ]
  },
  {
   "cell_type": "code",
   "execution_count": 3,
   "metadata": {},
   "outputs": [
    {
     "data": {
      "text/html": [
       "<div>\n",
       "<style scoped>\n",
       "    .dataframe tbody tr th:only-of-type {\n",
       "        vertical-align: middle;\n",
       "    }\n",
       "\n",
       "    .dataframe tbody tr th {\n",
       "        vertical-align: top;\n",
       "    }\n",
       "\n",
       "    .dataframe thead th {\n",
       "        text-align: right;\n",
       "    }\n",
       "</style>\n",
       "<table border=\"1\" class=\"dataframe\">\n",
       "  <thead>\n",
       "    <tr style=\"text-align: right;\">\n",
       "      <th></th>\n",
       "      <th>age</th>\n",
       "      <th>job</th>\n",
       "      <th>marital</th>\n",
       "      <th>education</th>\n",
       "      <th>default</th>\n",
       "      <th>housing</th>\n",
       "      <th>loan</th>\n",
       "      <th>contact</th>\n",
       "      <th>month</th>\n",
       "      <th>day_of_week</th>\n",
       "      <th>...</th>\n",
       "      <th>campaign</th>\n",
       "      <th>pdays</th>\n",
       "      <th>previous</th>\n",
       "      <th>poutcome</th>\n",
       "      <th>emp.var.rate</th>\n",
       "      <th>cons.price.idx</th>\n",
       "      <th>cons.conf.idx</th>\n",
       "      <th>euribor3m</th>\n",
       "      <th>nr.employed</th>\n",
       "      <th>y</th>\n",
       "    </tr>\n",
       "  </thead>\n",
       "  <tbody>\n",
       "    <tr>\n",
       "      <td>0</td>\n",
       "      <td>56</td>\n",
       "      <td>housemaid</td>\n",
       "      <td>married</td>\n",
       "      <td>basic.4y</td>\n",
       "      <td>no</td>\n",
       "      <td>no</td>\n",
       "      <td>no</td>\n",
       "      <td>telephone</td>\n",
       "      <td>may</td>\n",
       "      <td>mon</td>\n",
       "      <td>...</td>\n",
       "      <td>1</td>\n",
       "      <td>999</td>\n",
       "      <td>0</td>\n",
       "      <td>nonexistent</td>\n",
       "      <td>1.1</td>\n",
       "      <td>93.994</td>\n",
       "      <td>-36.4</td>\n",
       "      <td>4.857</td>\n",
       "      <td>5191.0</td>\n",
       "      <td>no</td>\n",
       "    </tr>\n",
       "    <tr>\n",
       "      <td>1</td>\n",
       "      <td>57</td>\n",
       "      <td>services</td>\n",
       "      <td>married</td>\n",
       "      <td>high.school</td>\n",
       "      <td>unknown</td>\n",
       "      <td>no</td>\n",
       "      <td>no</td>\n",
       "      <td>telephone</td>\n",
       "      <td>may</td>\n",
       "      <td>mon</td>\n",
       "      <td>...</td>\n",
       "      <td>1</td>\n",
       "      <td>999</td>\n",
       "      <td>0</td>\n",
       "      <td>nonexistent</td>\n",
       "      <td>1.1</td>\n",
       "      <td>93.994</td>\n",
       "      <td>-36.4</td>\n",
       "      <td>4.857</td>\n",
       "      <td>5191.0</td>\n",
       "      <td>no</td>\n",
       "    </tr>\n",
       "    <tr>\n",
       "      <td>2</td>\n",
       "      <td>37</td>\n",
       "      <td>services</td>\n",
       "      <td>married</td>\n",
       "      <td>high.school</td>\n",
       "      <td>no</td>\n",
       "      <td>yes</td>\n",
       "      <td>no</td>\n",
       "      <td>telephone</td>\n",
       "      <td>may</td>\n",
       "      <td>mon</td>\n",
       "      <td>...</td>\n",
       "      <td>1</td>\n",
       "      <td>999</td>\n",
       "      <td>0</td>\n",
       "      <td>nonexistent</td>\n",
       "      <td>1.1</td>\n",
       "      <td>93.994</td>\n",
       "      <td>-36.4</td>\n",
       "      <td>4.857</td>\n",
       "      <td>5191.0</td>\n",
       "      <td>no</td>\n",
       "    </tr>\n",
       "    <tr>\n",
       "      <td>3</td>\n",
       "      <td>40</td>\n",
       "      <td>admin.</td>\n",
       "      <td>married</td>\n",
       "      <td>basic.6y</td>\n",
       "      <td>no</td>\n",
       "      <td>no</td>\n",
       "      <td>no</td>\n",
       "      <td>telephone</td>\n",
       "      <td>may</td>\n",
       "      <td>mon</td>\n",
       "      <td>...</td>\n",
       "      <td>1</td>\n",
       "      <td>999</td>\n",
       "      <td>0</td>\n",
       "      <td>nonexistent</td>\n",
       "      <td>1.1</td>\n",
       "      <td>93.994</td>\n",
       "      <td>-36.4</td>\n",
       "      <td>4.857</td>\n",
       "      <td>5191.0</td>\n",
       "      <td>no</td>\n",
       "    </tr>\n",
       "    <tr>\n",
       "      <td>4</td>\n",
       "      <td>56</td>\n",
       "      <td>services</td>\n",
       "      <td>married</td>\n",
       "      <td>high.school</td>\n",
       "      <td>no</td>\n",
       "      <td>no</td>\n",
       "      <td>yes</td>\n",
       "      <td>telephone</td>\n",
       "      <td>may</td>\n",
       "      <td>mon</td>\n",
       "      <td>...</td>\n",
       "      <td>1</td>\n",
       "      <td>999</td>\n",
       "      <td>0</td>\n",
       "      <td>nonexistent</td>\n",
       "      <td>1.1</td>\n",
       "      <td>93.994</td>\n",
       "      <td>-36.4</td>\n",
       "      <td>4.857</td>\n",
       "      <td>5191.0</td>\n",
       "      <td>no</td>\n",
       "    </tr>\n",
       "  </tbody>\n",
       "</table>\n",
       "<p>5 rows × 21 columns</p>\n",
       "</div>"
      ],
      "text/plain": [
       "   age        job  marital    education  default housing loan    contact  \\\n",
       "0   56  housemaid  married     basic.4y       no      no   no  telephone   \n",
       "1   57   services  married  high.school  unknown      no   no  telephone   \n",
       "2   37   services  married  high.school       no     yes   no  telephone   \n",
       "3   40     admin.  married     basic.6y       no      no   no  telephone   \n",
       "4   56   services  married  high.school       no      no  yes  telephone   \n",
       "\n",
       "  month day_of_week  ...  campaign  pdays  previous     poutcome emp.var.rate  \\\n",
       "0   may         mon  ...         1    999         0  nonexistent          1.1   \n",
       "1   may         mon  ...         1    999         0  nonexistent          1.1   \n",
       "2   may         mon  ...         1    999         0  nonexistent          1.1   \n",
       "3   may         mon  ...         1    999         0  nonexistent          1.1   \n",
       "4   may         mon  ...         1    999         0  nonexistent          1.1   \n",
       "\n",
       "   cons.price.idx  cons.conf.idx  euribor3m  nr.employed   y  \n",
       "0          93.994          -36.4      4.857       5191.0  no  \n",
       "1          93.994          -36.4      4.857       5191.0  no  \n",
       "2          93.994          -36.4      4.857       5191.0  no  \n",
       "3          93.994          -36.4      4.857       5191.0  no  \n",
       "4          93.994          -36.4      4.857       5191.0  no  \n",
       "\n",
       "[5 rows x 21 columns]"
      ]
     },
     "execution_count": 3,
     "metadata": {},
     "output_type": "execute_result"
    }
   ],
   "source": [
    "df.head()"
   ]
  },
  {
   "cell_type": "code",
   "execution_count": 4,
   "metadata": {},
   "outputs": [
    {
     "data": {
      "text/plain": [
       "(41188, 21)"
      ]
     },
     "execution_count": 4,
     "metadata": {},
     "output_type": "execute_result"
    }
   ],
   "source": [
    "df.shape"
   ]
  },
  {
   "cell_type": "code",
   "execution_count": 5,
   "metadata": {},
   "outputs": [
    {
     "data": {
      "text/plain": [
       "array(['married', 'single', 'divorced', 'unknown'], dtype=object)"
      ]
     },
     "execution_count": 5,
     "metadata": {},
     "output_type": "execute_result"
    }
   ],
   "source": [
    "df.marital.unique()"
   ]
  },
  {
   "cell_type": "code",
   "execution_count": 6,
   "metadata": {},
   "outputs": [
    {
     "data": {
      "text/plain": [
       "no     36548\n",
       "yes     4640\n",
       "Name: y, dtype: int64"
      ]
     },
     "execution_count": 6,
     "metadata": {},
     "output_type": "execute_result"
    }
   ],
   "source": [
    "df['y'].value_counts()"
   ]
  },
  {
   "cell_type": "markdown",
   "metadata": {},
   "source": [
    "### Understanding the Data"
   ]
  },
  {
   "cell_type": "code",
   "execution_count": 25,
   "metadata": {},
   "outputs": [
    {
     "name": "stdout",
     "output_type": "stream",
     "text": [
      "<class 'pandas.core.frame.DataFrame'>\n",
      "RangeIndex: 41188 entries, 0 to 41187\n",
      "Data columns (total 21 columns):\n",
      "age               41188 non-null int64\n",
      "job               41188 non-null object\n",
      "marital           41188 non-null object\n",
      "education         41188 non-null object\n",
      "default           41188 non-null object\n",
      "housing           41188 non-null object\n",
      "loan              41188 non-null object\n",
      "contact           41188 non-null object\n",
      "month             41188 non-null object\n",
      "day_of_week       41188 non-null object\n",
      "duration          41188 non-null int64\n",
      "campaign          41188 non-null int32\n",
      "pdays             41188 non-null int64\n",
      "previous          41188 non-null int64\n",
      "poutcome          41188 non-null object\n",
      "emp.var.rate      41188 non-null float64\n",
      "cons.price.idx    41188 non-null float64\n",
      "cons.conf.idx     41188 non-null float64\n",
      "euribor3m         41188 non-null float64\n",
      "nr.employed       41188 non-null float64\n",
      "y                 41188 non-null object\n",
      "dtypes: float64(5), int32(1), int64(4), object(11)\n",
      "memory usage: 6.4+ MB\n"
     ]
    }
   ],
   "source": [
    "df.info()"
   ]
  },
  {
   "cell_type": "code",
   "execution_count": 8,
   "metadata": {},
   "outputs": [
    {
     "data": {
      "text/plain": [
       "array([ 1,  2,  3,  4,  5,  6,  7,  8,  9, 10, 11, 12, 13, 19, 18, 23, 14,\n",
       "       22, 25, 16, 17, 15, 20, 56, 39, 35, 42, 28, 26, 27, 32, 21, 24, 29,\n",
       "       31, 30, 41, 37, 40, 33, 34, 43], dtype=int64)"
      ]
     },
     "execution_count": 8,
     "metadata": {},
     "output_type": "execute_result"
    }
   ],
   "source": [
    "df[\"campaign\"].unique()"
   ]
  },
  {
   "cell_type": "code",
   "execution_count": 9,
   "metadata": {},
   "outputs": [
    {
     "data": {
      "text/plain": [
       "no         32588\n",
       "unknown     8597\n",
       "yes            3\n",
       "Name: default, dtype: int64"
      ]
     },
     "execution_count": 9,
     "metadata": {},
     "output_type": "execute_result"
    }
   ],
   "source": [
    "df[\"default\"].value_counts()"
   ]
  },
  {
   "cell_type": "code",
   "execution_count": 10,
   "metadata": {},
   "outputs": [
    {
     "data": {
      "text/plain": [
       "array(['housemaid', 'services', 'admin.', 'blue-collar', 'technician',\n",
       "       'retired', 'management', 'unemployed', 'self-employed', 'unknown',\n",
       "       'entrepreneur', 'student'], dtype=object)"
      ]
     },
     "execution_count": 10,
     "metadata": {},
     "output_type": "execute_result"
    }
   ],
   "source": [
    "df[\"job\"].unique()"
   ]
  },
  {
   "cell_type": "code",
   "execution_count": 11,
   "metadata": {},
   "outputs": [
    {
     "data": {
      "text/plain": [
       "array(['married', 'single', 'divorced', 'unknown'], dtype=object)"
      ]
     },
     "execution_count": 11,
     "metadata": {},
     "output_type": "execute_result"
    }
   ],
   "source": [
    "df[\"marital\"].unique()"
   ]
  },
  {
   "cell_type": "code",
   "execution_count": 12,
   "metadata": {},
   "outputs": [
    {
     "data": {
      "text/plain": [
       "array(['basic.4y', 'high.school', 'basic.6y', 'basic.9y',\n",
       "       'professional.course', 'unknown', 'university.degree',\n",
       "       'illiterate'], dtype=object)"
      ]
     },
     "execution_count": 12,
     "metadata": {},
     "output_type": "execute_result"
    }
   ],
   "source": [
    "df[\"education\"].unique()"
   ]
  },
  {
   "cell_type": "code",
   "execution_count": 13,
   "metadata": {},
   "outputs": [
    {
     "data": {
      "text/plain": [
       "university.degree      12168\n",
       "high.school             9515\n",
       "basic.9y                6045\n",
       "professional.course     5243\n",
       "basic.4y                4176\n",
       "basic.6y                2292\n",
       "unknown                 1731\n",
       "illiterate                18\n",
       "Name: education, dtype: int64"
      ]
     },
     "execution_count": 13,
     "metadata": {},
     "output_type": "execute_result"
    }
   ],
   "source": [
    "df[\"education\"].value_counts()"
   ]
  },
  {
   "cell_type": "code",
   "execution_count": 14,
   "metadata": {},
   "outputs": [
    {
     "data": {
      "text/plain": [
       "array(['no', 'yes', 'unknown'], dtype=object)"
      ]
     },
     "execution_count": 14,
     "metadata": {},
     "output_type": "execute_result"
    }
   ],
   "source": [
    "df[\"housing\"].unique()"
   ]
  },
  {
   "cell_type": "code",
   "execution_count": 15,
   "metadata": {},
   "outputs": [
    {
     "data": {
      "text/plain": [
       "array(['no', 'yes', 'unknown'], dtype=object)"
      ]
     },
     "execution_count": 15,
     "metadata": {},
     "output_type": "execute_result"
    }
   ],
   "source": [
    "df[\"loan\"].unique()"
   ]
  },
  {
   "cell_type": "code",
   "execution_count": 16,
   "metadata": {},
   "outputs": [
    {
     "data": {
      "text/plain": [
       "array(['telephone', 'cellular'], dtype=object)"
      ]
     },
     "execution_count": 16,
     "metadata": {},
     "output_type": "execute_result"
    }
   ],
   "source": [
    "df[\"contact\"].unique()"
   ]
  },
  {
   "cell_type": "code",
   "execution_count": 17,
   "metadata": {},
   "outputs": [
    {
     "data": {
      "text/plain": [
       "array(['may', 'jun', 'jul', 'aug', 'oct', 'nov', 'dec', 'mar', 'apr',\n",
       "       'sep'], dtype=object)"
      ]
     },
     "execution_count": 17,
     "metadata": {},
     "output_type": "execute_result"
    }
   ],
   "source": [
    "df[\"month\"].unique()"
   ]
  },
  {
   "cell_type": "code",
   "execution_count": 18,
   "metadata": {},
   "outputs": [
    {
     "data": {
      "text/plain": [
       "array(['mon', 'tue', 'wed', 'thu', 'fri'], dtype=object)"
      ]
     },
     "execution_count": 18,
     "metadata": {},
     "output_type": "execute_result"
    }
   ],
   "source": [
    "df[\"day_of_week\"].unique()"
   ]
  },
  {
   "cell_type": "code",
   "execution_count": 19,
   "metadata": {},
   "outputs": [
    {
     "data": {
      "text/plain": [
       "array(['nonexistent', 'failure', 'success'], dtype=object)"
      ]
     },
     "execution_count": 19,
     "metadata": {},
     "output_type": "execute_result"
    }
   ],
   "source": [
    "df[\"poutcome\"].unique()"
   ]
  },
  {
   "cell_type": "code",
   "execution_count": 20,
   "metadata": {},
   "outputs": [
    {
     "data": {
      "text/plain": [
       "array(['no', 'yes'], dtype=object)"
      ]
     },
     "execution_count": 20,
     "metadata": {},
     "output_type": "execute_result"
    }
   ],
   "source": [
    "df[\"y\"].unique()"
   ]
  },
  {
   "cell_type": "code",
   "execution_count": 21,
   "metadata": {},
   "outputs": [
    {
     "data": {
      "text/plain": [
       "array(['no', 'unknown', 'yes'], dtype=object)"
      ]
     },
     "execution_count": 21,
     "metadata": {},
     "output_type": "execute_result"
    }
   ],
   "source": [
    "df[\"default\"].unique()"
   ]
  },
  {
   "cell_type": "code",
   "execution_count": 22,
   "metadata": {},
   "outputs": [
    {
     "data": {
      "text/plain": [
       "age               0\n",
       "job               0\n",
       "marital           0\n",
       "education         0\n",
       "default           0\n",
       "housing           0\n",
       "loan              0\n",
       "contact           0\n",
       "month             0\n",
       "day_of_week       0\n",
       "duration          0\n",
       "campaign          0\n",
       "pdays             0\n",
       "previous          0\n",
       "poutcome          0\n",
       "emp.var.rate      0\n",
       "cons.price.idx    0\n",
       "cons.conf.idx     0\n",
       "euribor3m         0\n",
       "nr.employed       0\n",
       "y                 0\n",
       "dtype: int64"
      ]
     },
     "execution_count": 22,
     "metadata": {},
     "output_type": "execute_result"
    }
   ],
   "source": [
    "df.isnull().sum()"
   ]
  },
  {
   "cell_type": "code",
   "execution_count": 23,
   "metadata": {},
   "outputs": [
    {
     "data": {
      "text/plain": [
       "array(['married', 'single', 'divorced', 'unknown'], dtype=object)"
      ]
     },
     "execution_count": 23,
     "metadata": {},
     "output_type": "execute_result"
    }
   ],
   "source": [
    "df['marital'].unique()"
   ]
  },
  {
   "cell_type": "code",
   "execution_count": 24,
   "metadata": {},
   "outputs": [
    {
     "data": {
      "text/plain": [
       "no     88.7%\n",
       "yes    11.3%\n",
       "Name: y, dtype: object"
      ]
     },
     "execution_count": 24,
     "metadata": {},
     "output_type": "execute_result"
    }
   ],
   "source": [
    "df[\"y\"].value_counts(normalize=True).mul(100).round(1).astype(str) + \"%\""
   ]
  },
  {
   "cell_type": "code",
   "execution_count": 25,
   "metadata": {},
   "outputs": [
    {
     "data": {
      "text/html": [
       "<div>\n",
       "<style scoped>\n",
       "    .dataframe tbody tr th:only-of-type {\n",
       "        vertical-align: middle;\n",
       "    }\n",
       "\n",
       "    .dataframe tbody tr th {\n",
       "        vertical-align: top;\n",
       "    }\n",
       "\n",
       "    .dataframe thead th {\n",
       "        text-align: right;\n",
       "    }\n",
       "</style>\n",
       "<table border=\"1\" class=\"dataframe\">\n",
       "  <thead>\n",
       "    <tr style=\"text-align: right;\">\n",
       "      <th></th>\n",
       "      <th>age</th>\n",
       "      <th>duration</th>\n",
       "      <th>campaign</th>\n",
       "      <th>pdays</th>\n",
       "      <th>previous</th>\n",
       "      <th>emp.var.rate</th>\n",
       "      <th>cons.price.idx</th>\n",
       "      <th>cons.conf.idx</th>\n",
       "      <th>euribor3m</th>\n",
       "      <th>nr.employed</th>\n",
       "    </tr>\n",
       "  </thead>\n",
       "  <tbody>\n",
       "    <tr>\n",
       "      <td>count</td>\n",
       "      <td>41188.00000</td>\n",
       "      <td>41188.000000</td>\n",
       "      <td>41188.000000</td>\n",
       "      <td>41188.000000</td>\n",
       "      <td>41188.000000</td>\n",
       "      <td>41188.000000</td>\n",
       "      <td>41188.000000</td>\n",
       "      <td>41188.000000</td>\n",
       "      <td>41188.000000</td>\n",
       "      <td>41188.000000</td>\n",
       "    </tr>\n",
       "    <tr>\n",
       "      <td>mean</td>\n",
       "      <td>40.02406</td>\n",
       "      <td>258.285010</td>\n",
       "      <td>2.567593</td>\n",
       "      <td>962.475454</td>\n",
       "      <td>0.172963</td>\n",
       "      <td>0.081886</td>\n",
       "      <td>93.575664</td>\n",
       "      <td>-40.502600</td>\n",
       "      <td>3.621291</td>\n",
       "      <td>5167.035911</td>\n",
       "    </tr>\n",
       "    <tr>\n",
       "      <td>std</td>\n",
       "      <td>10.42125</td>\n",
       "      <td>259.279249</td>\n",
       "      <td>2.770014</td>\n",
       "      <td>186.910907</td>\n",
       "      <td>0.494901</td>\n",
       "      <td>1.570960</td>\n",
       "      <td>0.578840</td>\n",
       "      <td>4.628198</td>\n",
       "      <td>1.734447</td>\n",
       "      <td>72.251528</td>\n",
       "    </tr>\n",
       "    <tr>\n",
       "      <td>min</td>\n",
       "      <td>17.00000</td>\n",
       "      <td>0.000000</td>\n",
       "      <td>1.000000</td>\n",
       "      <td>0.000000</td>\n",
       "      <td>0.000000</td>\n",
       "      <td>-3.400000</td>\n",
       "      <td>92.201000</td>\n",
       "      <td>-50.800000</td>\n",
       "      <td>0.634000</td>\n",
       "      <td>4963.600000</td>\n",
       "    </tr>\n",
       "    <tr>\n",
       "      <td>25%</td>\n",
       "      <td>32.00000</td>\n",
       "      <td>102.000000</td>\n",
       "      <td>1.000000</td>\n",
       "      <td>999.000000</td>\n",
       "      <td>0.000000</td>\n",
       "      <td>-1.800000</td>\n",
       "      <td>93.075000</td>\n",
       "      <td>-42.700000</td>\n",
       "      <td>1.344000</td>\n",
       "      <td>5099.100000</td>\n",
       "    </tr>\n",
       "    <tr>\n",
       "      <td>50%</td>\n",
       "      <td>38.00000</td>\n",
       "      <td>180.000000</td>\n",
       "      <td>2.000000</td>\n",
       "      <td>999.000000</td>\n",
       "      <td>0.000000</td>\n",
       "      <td>1.100000</td>\n",
       "      <td>93.749000</td>\n",
       "      <td>-41.800000</td>\n",
       "      <td>4.857000</td>\n",
       "      <td>5191.000000</td>\n",
       "    </tr>\n",
       "    <tr>\n",
       "      <td>75%</td>\n",
       "      <td>47.00000</td>\n",
       "      <td>319.000000</td>\n",
       "      <td>3.000000</td>\n",
       "      <td>999.000000</td>\n",
       "      <td>0.000000</td>\n",
       "      <td>1.400000</td>\n",
       "      <td>93.994000</td>\n",
       "      <td>-36.400000</td>\n",
       "      <td>4.961000</td>\n",
       "      <td>5228.100000</td>\n",
       "    </tr>\n",
       "    <tr>\n",
       "      <td>max</td>\n",
       "      <td>98.00000</td>\n",
       "      <td>4918.000000</td>\n",
       "      <td>56.000000</td>\n",
       "      <td>999.000000</td>\n",
       "      <td>7.000000</td>\n",
       "      <td>1.400000</td>\n",
       "      <td>94.767000</td>\n",
       "      <td>-26.900000</td>\n",
       "      <td>5.045000</td>\n",
       "      <td>5228.100000</td>\n",
       "    </tr>\n",
       "  </tbody>\n",
       "</table>\n",
       "</div>"
      ],
      "text/plain": [
       "               age      duration      campaign         pdays      previous  \\\n",
       "count  41188.00000  41188.000000  41188.000000  41188.000000  41188.000000   \n",
       "mean      40.02406    258.285010      2.567593    962.475454      0.172963   \n",
       "std       10.42125    259.279249      2.770014    186.910907      0.494901   \n",
       "min       17.00000      0.000000      1.000000      0.000000      0.000000   \n",
       "25%       32.00000    102.000000      1.000000    999.000000      0.000000   \n",
       "50%       38.00000    180.000000      2.000000    999.000000      0.000000   \n",
       "75%       47.00000    319.000000      3.000000    999.000000      0.000000   \n",
       "max       98.00000   4918.000000     56.000000    999.000000      7.000000   \n",
       "\n",
       "       emp.var.rate  cons.price.idx  cons.conf.idx     euribor3m   nr.employed  \n",
       "count  41188.000000    41188.000000   41188.000000  41188.000000  41188.000000  \n",
       "mean       0.081886       93.575664     -40.502600      3.621291   5167.035911  \n",
       "std        1.570960        0.578840       4.628198      1.734447     72.251528  \n",
       "min       -3.400000       92.201000     -50.800000      0.634000   4963.600000  \n",
       "25%       -1.800000       93.075000     -42.700000      1.344000   5099.100000  \n",
       "50%        1.100000       93.749000     -41.800000      4.857000   5191.000000  \n",
       "75%        1.400000       93.994000     -36.400000      4.961000   5228.100000  \n",
       "max        1.400000       94.767000     -26.900000      5.045000   5228.100000  "
      ]
     },
     "execution_count": 25,
     "metadata": {},
     "output_type": "execute_result"
    }
   ],
   "source": [
    "df.describe()"
   ]
  },
  {
   "cell_type": "markdown",
   "metadata": {},
   "source": [
    "### Data Visualization"
   ]
  },
  {
   "cell_type": "code",
   "execution_count": 20,
   "metadata": {},
   "outputs": [
    {
     "data": {
      "image/png": "[encoded data removed]",
      "text/plain": [
       "<Figure size 432x288 with 1 Axes>"
      ]
     },
     "metadata": {
      "needs_background": "light"
     },
     "output_type": "display_data"
    }
   ],
   "source": [
    "box_list=[df[\"campaign\"],df[\"duration\"],df[\"age\"],df[\"pdays\"],df[\"previous\"],df[\"emp.var.rate\"],df[\"cons.price.idx\"],df[\"euribor3m\"],df[\"nr.employed\"]]\n",
    "labels=[\"campaign\", \"duration\", \"age\", \"pdays\", \"previous\", \"emp.var.rate\", \"cons.price.idx\", \"euribor3m\", \"nr.employed\"]\n",
    "plt.boxplot(box_list, patch_artist=True, labels=labels, vert=1,)\n",
    "plt.show()"
   ]
  },
  {
   "cell_type": "markdown",
   "metadata": {},
   "source": [
    "### Data Manipulation"
   ]
  },
  {
   "cell_type": "code",
   "execution_count": 17,
   "metadata": {},
   "outputs": [
    {
     "name": "stdout",
     "output_type": "stream",
     "text": [
      "102.0\n",
      "319.0\n",
      "37       1666\n",
      "57        787\n",
      "61        812\n",
      "75       1575\n",
      "83       1042\n",
      "         ... \n",
      "41147     712\n",
      "41153     655\n",
      "41160     843\n",
      "41164    1868\n",
      "41166     651\n",
      "Name: duration, Length: 2963, dtype: int64\n"
     ]
    }
   ],
   "source": [
    "Q1=df[\"duration\"].quantile(.25)\n",
    "print(Q1)\n",
    "Q3=df[\"duration\"].quantile(.75)\n",
    "print(Q3)\n",
    "IQR=Q3-Q1\n",
    "outliers=df[\"duration\"][((df[\"duration\"]<(Q1-1.5*IQR)) | (df[\"duration\"]>(Q3+1.5*IQR)))]\n",
    "print(outliers)"
   ]
  },
  {
   "cell_type": "code",
   "execution_count": 28,
   "metadata": {},
   "outputs": [
    {
     "data": {
      "text/plain": [
       "Int64Index([    0,     1,     2,     3,     4,     5,     6,     7,     8,\n",
       "                9,\n",
       "            ...\n",
       "            41178, 41179, 41180, 41181, 41182, 41183, 41184, 41185, 41186,\n",
       "            41187],\n",
       "           dtype='int64', length=38225)"
      ]
     },
     "execution_count": 28,
     "metadata": {},
     "output_type": "execute_result"
    }
   ],
   "source": [
    "outliers.index"
   ]
  },
  {
   "cell_type": "code",
   "execution_count": 18,
   "metadata": {},
   "outputs": [],
   "source": [
    "median_duration=df[\"duration\"].median()"
   ]
  },
  {
   "cell_type": "code",
   "execution_count": 30,
   "metadata": {},
   "outputs": [
    {
     "data": {
      "text/plain": [
       "180.0"
      ]
     },
     "execution_count": 30,
     "metadata": {},
     "output_type": "execute_result"
    }
   ],
   "source": [
    "median_duration"
   ]
  },
  {
   "cell_type": "code",
   "execution_count": 19,
   "metadata": {},
   "outputs": [
    {
     "name": "stderr",
     "output_type": "stream",
     "text": [
      "C:\\Users\\lenovo\\Anaconda3\\lib\\site-packages\\ipykernel_launcher.py:2: SettingWithCopyWarning: \n",
      "A value is trying to be set on a copy of a slice from a DataFrame\n",
      "\n",
      "See the caveats in the documentation: http://pandas.pydata.org/pandas-docs/stable/user_guide/indexing.html#returning-a-view-versus-a-copy\n",
      "  \n"
     ]
    }
   ],
   "source": [
    "for i in outliers.index:\n",
    "    df['duration'][i]=median_duration"
   ]
  },
  {
   "cell_type": "code",
   "execution_count": 4,
   "metadata": {},
   "outputs": [],
   "source": [
    "df.replace(to_replace=\"unknown\", value=np.NaN, inplace=True)"
   ]
  },
  {
   "cell_type": "code",
   "execution_count": 13,
   "metadata": {},
   "outputs": [
    {
     "data": {
      "text/plain": [
       "age                0.000000\n",
       "job                0.000000\n",
       "marital            0.194231\n",
       "education          4.202680\n",
       "default           20.872584\n",
       "housing            2.403613\n",
       "loan               2.403613\n",
       "contact            0.000000\n",
       "month              0.000000\n",
       "day_of_week        0.000000\n",
       "duration           0.000000\n",
       "campaign           0.000000\n",
       "pdays              0.000000\n",
       "previous           0.000000\n",
       "poutcome           0.000000\n",
       "emp.var.rate       0.000000\n",
       "cons.price.idx     0.000000\n",
       "cons.conf.idx      0.000000\n",
       "euribor3m          0.000000\n",
       "nr.employed        0.000000\n",
       "y                  0.000000\n",
       "dtype: float64"
      ]
     },
     "execution_count": 13,
     "metadata": {},
     "output_type": "execute_result"
    }
   ],
   "source": [
    "(df.isnull().sum()*100/len(df))"
   ]
  },
  {
   "cell_type": "code",
   "execution_count": 11,
   "metadata": {},
   "outputs": [
    {
     "data": {
      "text/plain": [
       "'admin.'"
      ]
     },
     "execution_count": 11,
     "metadata": {},
     "output_type": "execute_result"
    }
   ],
   "source": [
    "df['job'].value_counts().index[0]"
   ]
  },
  {
   "cell_type": "code",
   "execution_count": 34,
   "metadata": {},
   "outputs": [],
   "source": [
    "df.dropna(inplace=True)"
   ]
  },
  {
   "cell_type": "code",
   "execution_count": 35,
   "metadata": {},
   "outputs": [
    {
     "data": {
      "text/plain": [
       "array(['basic.4y', 'high.school', 'basic.6y', 'professional.course',\n",
       "       'basic.9y', 'university.degree', 'illiterate'], dtype=object)"
      ]
     },
     "execution_count": 35,
     "metadata": {},
     "output_type": "execute_result"
    }
   ],
   "source": [
    "df[\"education\"].unique()"
   ]
  },
  {
   "cell_type": "markdown",
   "metadata": {},
   "source": [
    "__Label Encoding__"
   ]
  },
  {
   "cell_type": "code",
   "execution_count": 36,
   "metadata": {},
   "outputs": [],
   "source": [
    "df[\"education\"]=df[\"education\"].map({\"illiterate\":0, \"basic.4y\":1, \"basic.6y\":2, \"basic.9y\":3, \"high.school\":4, \"university.degree\":5, \"professional.course\":6})"
   ]
  },
  {
   "cell_type": "code",
   "execution_count": 37,
   "metadata": {},
   "outputs": [
    {
     "data": {
      "text/plain": [
       "array([1, 4, 2, 6, 3, 5, 0], dtype=int64)"
      ]
     },
     "execution_count": 37,
     "metadata": {},
     "output_type": "execute_result"
    }
   ],
   "source": [
    "df.education.unique()"
   ]
  },
  {
   "cell_type": "code",
   "execution_count": 42,
   "metadata": {},
   "outputs": [
    {
     "data": {
      "text/plain": [
       "5    10412\n",
       "4     7699\n",
       "6     4321\n",
       "3     4276\n",
       "1     2380\n",
       "2     1389\n",
       "0       11\n",
       "Name: education, dtype: int64"
      ]
     },
     "execution_count": 42,
     "metadata": {},
     "output_type": "execute_result"
    }
   ],
   "source": [
    "df[\"education\"].value_counts()"
   ]
  },
  {
   "cell_type": "code",
   "execution_count": 44,
   "metadata": {},
   "outputs": [
    {
     "data": {
      "text/plain": [
       "5"
      ]
     },
     "execution_count": 44,
     "metadata": {},
     "output_type": "execute_result"
    }
   ],
   "source": [
    "df[\"education\"].value_counts().index[0]"
   ]
  },
  {
   "cell_type": "code",
   "execution_count": 12,
   "metadata": {},
   "outputs": [],
   "source": [
    "df[\"job\"].fillna(df[\"job\"].value_counts().index[0], inplace=True)"
   ]
  },
  {
   "cell_type": "code",
   "execution_count": 143,
   "metadata": {},
   "outputs": [
    {
     "data": {
      "text/plain": [
       "array(['housemaid', 'services', 'admin.', 'technician', 'blue-collar',\n",
       "       'unemployed', 'retired', 'entrepreneur', 'management', 'student',\n",
       "       'self-employed'], dtype=object)"
      ]
     },
     "execution_count": 143,
     "metadata": {},
     "output_type": "execute_result"
    }
   ],
   "source": [
    "df[\"job\"].unique()"
   ]
  },
  {
   "cell_type": "code",
   "execution_count": 14,
   "metadata": {},
   "outputs": [],
   "source": [
    "na_list=[\"education\", \"marital\", \"default\", \"housing\", \"loan\"]\n",
    "for i in na_list:\n",
    "    df[i]=df[i].fillna(df[i].value_counts().index[0])"
   ]
  },
  {
   "cell_type": "code",
   "execution_count": 15,
   "metadata": {},
   "outputs": [
    {
     "data": {
      "text/plain": [
       "age               0\n",
       "job               0\n",
       "marital           0\n",
       "education         0\n",
       "default           0\n",
       "housing           0\n",
       "loan              0\n",
       "contact           0\n",
       "month             0\n",
       "day_of_week       0\n",
       "duration          0\n",
       "campaign          0\n",
       "pdays             0\n",
       "previous          0\n",
       "poutcome          0\n",
       "emp.var.rate      0\n",
       "cons.price.idx    0\n",
       "cons.conf.idx     0\n",
       "euribor3m         0\n",
       "nr.employed       0\n",
       "y                 0\n",
       "dtype: int64"
      ]
     },
     "execution_count": 15,
     "metadata": {},
     "output_type": "execute_result"
    }
   ],
   "source": [
    "df.isnull().sum()"
   ]
  },
  {
   "cell_type": "code",
   "execution_count": 146,
   "metadata": {},
   "outputs": [
    {
     "data": {
      "text/plain": [
       "39.03001180792443"
      ]
     },
     "execution_count": 146,
     "metadata": {},
     "output_type": "execute_result"
    }
   ],
   "source": [
    "df['age'].mean()"
   ]
  },
  {
   "cell_type": "markdown",
   "metadata": {},
   "source": [
    "# Exploratory Data Analysis##"
   ]
  },
  {
   "cell_type": "markdown",
   "metadata": {},
   "source": [
    "### Univariate Analysis"
   ]
  },
  {
   "cell_type": "code",
   "execution_count": 147,
   "metadata": {},
   "outputs": [
    {
     "data": {
      "text/plain": [
       "Index(['age', 'job', 'marital', 'education', 'default', 'housing', 'loan',\n",
       "       'contact', 'month', 'day_of_week', 'duration', 'campaign', 'pdays',\n",
       "       'previous', 'poutcome', 'emp.var.rate', 'cons.price.idx',\n",
       "       'cons.conf.idx', 'euribor3m', 'nr.employed', 'y'],\n",
       "      dtype='object')"
      ]
     },
     "execution_count": 147,
     "metadata": {},
     "output_type": "execute_result"
    }
   ],
   "source": [
    "df.columns"
   ]
  },
  {
   "cell_type": "code",
   "execution_count": 148,
   "metadata": {},
   "outputs": [
    {
     "name": "stderr",
     "output_type": "stream",
     "text": [
      "C:\\Users\\lenovo\\Anaconda3\\lib\\site-packages\\ipykernel_launcher.py:2: MatplotlibDeprecationWarning: Adding an axes using the same arguments as a previous axes currently reuses the earlier instance.  In a future version, a new instance will always be created and returned.  Meanwhile, this warning can be suppressed, and the future behavior ensured, by passing a unique label to each axes instance.\n",
      "  \n"
     ]
    },
    {
     "data": {
      "image/png": "[encoded data removed]",
      "text/plain": [
       "<Figure size 432x288 with 1 Axes>"
      ]
     },
     "metadata": {
      "needs_background": "light"
     },
     "output_type": "display_data"
    }
   ],
   "source": [
    "plt.hist(df[\"age\"],10, histtype=\"bar\", edgecolor=\"black\")\n",
    "ax=plt.axes()\n",
    "ax.set_xticks([0,10,20,30,40,50,60,70,80,90,100])\n",
    "plt.xlabel(\"Age\")\n",
    "plt.ylabel(\"Counts\")\n",
    "plt.title(\"Distribution of Age\")\n",
    "plt.show()"
   ]
  },
  {
   "cell_type": "code",
   "execution_count": 149,
   "metadata": {},
   "outputs": [],
   "source": [
    "# This data describes the age of customers in a bank. Max no. of age customers around 25 to 55 age."
   ]
  },
  {
   "cell_type": "code",
   "execution_count": 150,
   "metadata": {},
   "outputs": [
    {
     "name": "stderr",
     "output_type": "stream",
     "text": [
      "C:\\Users\\lenovo\\Anaconda3\\lib\\site-packages\\ipykernel_launcher.py:2: MatplotlibDeprecationWarning: Adding an axes using the same arguments as a previous axes currently reuses the earlier instance.  In a future version, a new instance will always be created and returned.  Meanwhile, this warning can be suppressed, and the future behavior ensured, by passing a unique label to each axes instance.\n",
      "  \n"
     ]
    },
    {
     "data": {
      "image/png": "[encoded data removed]",
      "text/plain": [
       "<Figure size 432x288 with 1 Axes>"
      ]
     },
     "metadata": {
      "needs_background": "light"
     },
     "output_type": "display_data"
    }
   ],
   "source": [
    "plt.hist(df[\"duration\"], 10, histtype=\"bar\", edgecolor=\"yellow\")\n",
    "ax=plt.axes()\n",
    "ax.set_xticks([0,500,1000,1500,2000,2500,3000,3500,4000,4500,5000])\n",
    "plt.xlabel(\"Duration\")\n",
    "plt.ylabel(\"Range\")\n",
    "plt.title(\"Range of Duration\")\n",
    "plt.show()\n"
   ]
  },
  {
   "cell_type": "code",
   "execution_count": 151,
   "metadata": {},
   "outputs": [],
   "source": [
    "# Max no. of customers are staying with this bank of an average of 500 days"
   ]
  },
  {
   "cell_type": "code",
   "execution_count": 152,
   "metadata": {},
   "outputs": [],
   "source": [
    "# df[\"campaign\"]=df[\"campaign\"].apply(str)"
   ]
  },
  {
   "cell_type": "code",
   "execution_count": 23,
   "metadata": {},
   "outputs": [],
   "source": [
    "df[\"campaign\"]=df[\"campaign\"].astype(\"int\")"
   ]
  },
  {
   "cell_type": "code",
   "execution_count": 24,
   "metadata": {},
   "outputs": [
    {
     "data": {
      "text/plain": [
       "1     17642\n",
       "2     10570\n",
       "3      5341\n",
       "4      2651\n",
       "5      1599\n",
       "6       979\n",
       "7       629\n",
       "8       400\n",
       "9       283\n",
       "10      225\n",
       "11      177\n",
       "12      125\n",
       "13       92\n",
       "14       69\n",
       "17       58\n",
       "15       51\n",
       "16       51\n",
       "18       33\n",
       "20       30\n",
       "19       26\n",
       "21       24\n",
       "22       17\n",
       "23       16\n",
       "24       15\n",
       "27       11\n",
       "29       10\n",
       "25        8\n",
       "26        8\n",
       "28        8\n",
       "30        7\n",
       "31        7\n",
       "35        5\n",
       "33        4\n",
       "32        4\n",
       "34        3\n",
       "40        2\n",
       "42        2\n",
       "43        2\n",
       "37        1\n",
       "39        1\n",
       "41        1\n",
       "56        1\n",
       "Name: campaign, dtype: int64"
      ]
     },
     "execution_count": 24,
     "metadata": {},
     "output_type": "execute_result"
    }
   ],
   "source": [
    "df[\"campaign\"].value_counts()"
   ]
  },
  {
   "cell_type": "code",
   "execution_count": 155,
   "metadata": {},
   "outputs": [
    {
     "data": {
      "text/plain": [
       "<matplotlib.axes._subplots.AxesSubplot at 0x2c419cf4188>"
      ]
     },
     "execution_count": 155,
     "metadata": {},
     "output_type": "execute_result"
    },
    {
     "data": {
      "image/png": "[encoded data removed]",
      "text/plain": [
       "<Figure size 1080x504 with 1 Axes>"
      ]
     },
     "metadata": {
      "needs_background": "light"
     },
     "output_type": "display_data"
    }
   ],
   "source": [
    "df[\"campaign\"].value_counts().plot(kind=\"bar\", figsize=(15,7))\n"
   ]
  },
  {
   "cell_type": "code",
   "execution_count": 156,
   "metadata": {},
   "outputs": [
    {
     "data": {
      "text/plain": [
       "[1, 2, 3, 4, 5, ..., 27, 40, 43, 34, 33]\n",
       "Length: 41\n",
       "Categories (41, int64): [1, 2, 3, 4, ..., 40, 43, 34, 33]"
      ]
     },
     "execution_count": 156,
     "metadata": {},
     "output_type": "execute_result"
    }
   ],
   "source": [
    "list_campaign=df[\"campaign\"].unique()\n",
    "list_campaign"
   ]
  },
  {
   "cell_type": "code",
   "execution_count": 157,
   "metadata": {},
   "outputs": [],
   "source": [
    "# df[\"campaign\"]=\"Category\" + df[\"campaign\"].astype(str)\n",
    "# df[\"campaign\"].unique()"
   ]
  },
  {
   "cell_type": "code",
   "execution_count": 158,
   "metadata": {},
   "outputs": [
    {
     "data": {
      "text/plain": [
       "admin.           8737\n",
       "blue-collar      5675\n",
       "technician       5473\n",
       "services         2857\n",
       "management       2311\n",
       "retired          1216\n",
       "self-employed    1092\n",
       "entrepreneur     1089\n",
       "unemployed        738\n",
       "housemaid         690\n",
       "student           610\n",
       "Name: job, dtype: int64"
      ]
     },
     "execution_count": 158,
     "metadata": {},
     "output_type": "execute_result"
    }
   ],
   "source": [
    "df['job'].value_counts()"
   ]
  },
  {
   "cell_type": "code",
   "execution_count": 159,
   "metadata": {},
   "outputs": [
    {
     "data": {
      "text/plain": [
       "<matplotlib.axes._subplots.AxesSubplot at 0x2c41c181dc8>"
      ]
     },
     "execution_count": 159,
     "metadata": {},
     "output_type": "execute_result"
    },
    {
     "data": {
      "image/png": "[encoded data removed]",
      "text/plain": [
       "<Figure size 1080x504 with 1 Axes>"
      ]
     },
     "metadata": {
      "needs_background": "light"
     },
     "output_type": "display_data"
    }
   ],
   "source": [
    "df[\"job\"].value_counts().plot(kind=\"bar\", figsize=(15,7))"
   ]
  },
  {
   "cell_type": "code",
   "execution_count": 160,
   "metadata": {},
   "outputs": [
    {
     "data": {
      "text/plain": [
       "<matplotlib.axes._subplots.AxesSubplot at 0x2c41e4019c8>"
      ]
     },
     "execution_count": 160,
     "metadata": {},
     "output_type": "execute_result"
    },
    {
     "data": {
      "image/png": "[encoded data removed]",
      "text/plain": [
       "<Figure size 360x360 with 1 Axes>"
      ]
     },
     "metadata": {
      "needs_background": "light"
     },
     "output_type": "display_data"
    }
   ],
   "source": [
    "df[\"marital\"].value_counts().plot(kind=\"bar\", figsize=(5,5))"
   ]
  },
  {
   "cell_type": "code",
   "execution_count": 161,
   "metadata": {},
   "outputs": [
    {
     "data": {
      "text/plain": [
       "5    10412\n",
       "4     7699\n",
       "6     4321\n",
       "3     4276\n",
       "1     2380\n",
       "2     1389\n",
       "0       11\n",
       "Name: education, dtype: int64"
      ]
     },
     "execution_count": 161,
     "metadata": {},
     "output_type": "execute_result"
    }
   ],
   "source": [
    "df[\"education\"].value_counts()"
   ]
  },
  {
   "cell_type": "code",
   "execution_count": 162,
   "metadata": {},
   "outputs": [
    {
     "data": {
      "text/plain": [
       "<matplotlib.axes._subplots.AxesSubplot at 0x2c41e46d788>"
      ]
     },
     "execution_count": 162,
     "metadata": {},
     "output_type": "execute_result"
    },
    {
     "data": {
      "image/png": "[encoded data removed]",
      "text/plain": [
       "<Figure size 720x504 with 1 Axes>"
      ]
     },
     "metadata": {
      "needs_background": "light"
     },
     "output_type": "display_data"
    }
   ],
   "source": [
    "df[\"education\"].value_counts().plot(kind=\"bar\", figsize=(10,7))"
   ]
  },
  {
   "cell_type": "code",
   "execution_count": 163,
   "metadata": {},
   "outputs": [
    {
     "data": {
      "text/plain": [
       "<matplotlib.axes._subplots.AxesSubplot at 0x2c41e4dd988>"
      ]
     },
     "execution_count": 163,
     "metadata": {},
     "output_type": "execute_result"
    },
    {
     "data": {
      "image/png": "[encoded data removed]",
      "text/plain": [
       "<Figure size 360x360 with 1 Axes>"
      ]
     },
     "metadata": {
      "needs_background": "light"
     },
     "output_type": "display_data"
    }
   ],
   "source": [
    "df[\"default\"].value_counts().plot(kind=\"bar\", figsize=(5,5))"
   ]
  },
  {
   "cell_type": "code",
   "execution_count": 164,
   "metadata": {},
   "outputs": [
    {
     "data": {
      "text/plain": [
       "no     30485\n",
       "yes        3\n",
       "Name: default, dtype: int64"
      ]
     },
     "execution_count": 164,
     "metadata": {},
     "output_type": "execute_result"
    }
   ],
   "source": [
    "df[\"default\"].value_counts()"
   ]
  },
  {
   "cell_type": "code",
   "execution_count": 165,
   "metadata": {},
   "outputs": [
    {
     "data": {
      "text/plain": [
       "<matplotlib.axes._subplots.AxesSubplot at 0x2c41f17fb48>"
      ]
     },
     "execution_count": 165,
     "metadata": {},
     "output_type": "execute_result"
    },
    {
     "data": {
      "image/png": "[encoded data removed]",
      "text/plain": [
       "<Figure size 360x216 with 1 Axes>"
      ]
     },
     "metadata": {
      "needs_background": "light"
     },
     "output_type": "display_data"
    }
   ],
   "source": [
    "df[\"housing\"].value_counts().plot(kind=\"bar\", figsize=(5,3))"
   ]
  },
  {
   "cell_type": "code",
   "execution_count": 166,
   "metadata": {},
   "outputs": [
    {
     "data": {
      "text/plain": [
       "<matplotlib.axes._subplots.AxesSubplot at 0x2c41f1e9cc8>"
      ]
     },
     "execution_count": 166,
     "metadata": {},
     "output_type": "execute_result"
    },
    {
     "data": {
      "image/png": "[encoded data removed]",
      "text/plain": [
       "<Figure size 360x504 with 1 Axes>"
      ]
     },
     "metadata": {
      "needs_background": "light"
     },
     "output_type": "display_data"
    }
   ],
   "source": [
    "df[\"loan\"].value_counts().plot(kind=\"bar\", figsize=(5,7))"
   ]
  },
  {
   "cell_type": "code",
   "execution_count": 167,
   "metadata": {},
   "outputs": [
    {
     "data": {
      "text/plain": [
       "<matplotlib.axes._subplots.AxesSubplot at 0x2c41f240708>"
      ]
     },
     "execution_count": 167,
     "metadata": {},
     "output_type": "execute_result"
    },
    {
     "data": {
      "image/png": "[encoded data removed]",
      "text/plain": [
       "<Figure size 360x216 with 1 Axes>"
      ]
     },
     "metadata": {
      "needs_background": "light"
     },
     "output_type": "display_data"
    }
   ],
   "source": [
    "df[\"loan\"].value_counts().plot(kind=\"bar\", figsize=(5,3))"
   ]
  },
  {
   "cell_type": "code",
   "execution_count": 168,
   "metadata": {},
   "outputs": [
    {
     "data": {
      "text/plain": [
       "<matplotlib.axes._subplots.AxesSubplot at 0x2c41f2a6408>"
      ]
     },
     "execution_count": 168,
     "metadata": {},
     "output_type": "execute_result"
    },
    {
     "data": {
      "image/png": "[encoded data removed]",
      "text/plain": [
       "<Figure size 360x216 with 1 Axes>"
      ]
     },
     "metadata": {
      "needs_background": "light"
     },
     "output_type": "display_data"
    }
   ],
   "source": [
    "df[\"month\"].value_counts().plot(kind=\"bar\", figsize=(5,3))"
   ]
  },
  {
   "cell_type": "code",
   "execution_count": 169,
   "metadata": {},
   "outputs": [
    {
     "data": {
      "text/plain": [
       "<matplotlib.axes._subplots.AxesSubplot at 0x2c41f3223c8>"
      ]
     },
     "execution_count": 169,
     "metadata": {},
     "output_type": "execute_result"
    },
    {
     "data": {
      "image/png": "[encoded data removed]",
      "text/plain": [
       "<Figure size 360x216 with 1 Axes>"
      ]
     },
     "metadata": {
      "needs_background": "light"
     },
     "output_type": "display_data"
    }
   ],
   "source": [
    "df[\"day_of_week\"].value_counts().plot(kind=\"bar\", figsize=(5,3))"
   ]
  },
  {
   "cell_type": "code",
   "execution_count": 170,
   "metadata": {},
   "outputs": [
    {
     "name": "stdout",
     "output_type": "stream",
     "text": [
      "Requirement already satisfied: seaborn in c:\\users\\lenovo\\anaconda3\\lib\\site-packages (0.9.0)\n",
      "Requirement already satisfied: numpy>=1.9.3 in c:\\users\\lenovo\\anaconda3\\lib\\site-packages (from seaborn) (1.16.5)\n",
      "Requirement already satisfied: scipy>=0.14.0 in c:\\users\\lenovo\\anaconda3\\lib\\site-packages (from seaborn) (1.3.1)\n",
      "Requirement already satisfied: matplotlib>=1.4.3 in c:\\users\\lenovo\\anaconda3\\lib\\site-packages (from seaborn) (3.1.1)\n",
      "Requirement already satisfied: pandas>=0.15.2 in c:\\users\\lenovo\\anaconda3\\lib\\site-packages (from seaborn) (0.25.1)\n",
      "Requirement already satisfied: cycler>=0.10 in c:\\users\\lenovo\\anaconda3\\lib\\site-packages (from matplotlib>=1.4.3->seaborn) (0.10.0)\n",
      "Requirement already satisfied: kiwisolver>=1.0.1 in c:\\users\\lenovo\\anaconda3\\lib\\site-packages (from matplotlib>=1.4.3->seaborn) (1.1.0)\n",
      "Requirement already satisfied: pyparsing!=2.0.4,!=2.1.2,!=2.1.6,>=2.0.1 in c:\\users\\lenovo\\anaconda3\\lib\\site-packages (from matplotlib>=1.4.3->seaborn) (2.4.2)\n",
      "Requirement already satisfied: python-dateutil>=2.1 in c:\\users\\lenovo\\anaconda3\\lib\\site-packages (from matplotlib>=1.4.3->seaborn) (2.8.0)\n",
      "Requirement already satisfied: pytz>=2017.2 in c:\\users\\lenovo\\anaconda3\\lib\\site-packages (from pandas>=0.15.2->seaborn) (2019.3)\n",
      "Requirement already satisfied: six in c:\\users\\lenovo\\anaconda3\\lib\\site-packages (from cycler>=0.10->matplotlib>=1.4.3->seaborn) (1.12.0)\n",
      "Requirement already satisfied: setuptools in c:\\users\\lenovo\\anaconda3\\lib\\site-packages (from kiwisolver>=1.0.1->matplotlib>=1.4.3->seaborn) (41.4.0)\n"
     ]
    }
   ],
   "source": [
    "! pip install seaborn"
   ]
  },
  {
   "cell_type": "markdown",
   "metadata": {},
   "source": [
    "## Bivariate Analysis##"
   ]
  },
  {
   "cell_type": "code",
   "execution_count": 171,
   "metadata": {},
   "outputs": [],
   "source": [
    "import scipy as sp"
   ]
  },
  {
   "cell_type": "code",
   "execution_count": 172,
   "metadata": {},
   "outputs": [],
   "source": [
    "import seaborn as sns"
   ]
  },
  {
   "cell_type": "code",
   "execution_count": 173,
   "metadata": {},
   "outputs": [
    {
     "data": {
      "text/html": [
       "<div>\n",
       "<style scoped>\n",
       "    .dataframe tbody tr th:only-of-type {\n",
       "        vertical-align: middle;\n",
       "    }\n",
       "\n",
       "    .dataframe tbody tr th {\n",
       "        vertical-align: top;\n",
       "    }\n",
       "\n",
       "    .dataframe thead th {\n",
       "        text-align: right;\n",
       "    }\n",
       "</style>\n",
       "<table border=\"1\" class=\"dataframe\">\n",
       "  <thead>\n",
       "    <tr style=\"text-align: right;\">\n",
       "      <th></th>\n",
       "      <th>age</th>\n",
       "      <th>education</th>\n",
       "      <th>duration</th>\n",
       "      <th>pdays</th>\n",
       "      <th>previous</th>\n",
       "      <th>emp.var.rate</th>\n",
       "      <th>cons.price.idx</th>\n",
       "      <th>cons.conf.idx</th>\n",
       "      <th>euribor3m</th>\n",
       "      <th>nr.employed</th>\n",
       "    </tr>\n",
       "  </thead>\n",
       "  <tbody>\n",
       "    <tr>\n",
       "      <td>age</td>\n",
       "      <td>1.000000</td>\n",
       "      <td>-0.153304</td>\n",
       "      <td>0.007910</td>\n",
       "      <td>-0.050891</td>\n",
       "      <td>0.049231</td>\n",
       "      <td>-0.050409</td>\n",
       "      <td>-0.035762</td>\n",
       "      <td>0.125017</td>\n",
       "      <td>-0.036481</td>\n",
       "      <td>-0.064586</td>\n",
       "    </tr>\n",
       "    <tr>\n",
       "      <td>education</td>\n",
       "      <td>-0.153304</td>\n",
       "      <td>1.000000</td>\n",
       "      <td>-0.017383</td>\n",
       "      <td>-0.017895</td>\n",
       "      <td>0.009359</td>\n",
       "      <td>0.008747</td>\n",
       "      <td>-0.041988</td>\n",
       "      <td>0.063928</td>\n",
       "      <td>0.012061</td>\n",
       "      <td>0.009639</td>\n",
       "    </tr>\n",
       "    <tr>\n",
       "      <td>duration</td>\n",
       "      <td>0.007910</td>\n",
       "      <td>-0.017383</td>\n",
       "      <td>1.000000</td>\n",
       "      <td>-0.046239</td>\n",
       "      <td>0.018772</td>\n",
       "      <td>-0.023374</td>\n",
       "      <td>0.012768</td>\n",
       "      <td>-0.009525</td>\n",
       "      <td>-0.028922</td>\n",
       "      <td>-0.040367</td>\n",
       "    </tr>\n",
       "    <tr>\n",
       "      <td>pdays</td>\n",
       "      <td>-0.050891</td>\n",
       "      <td>-0.017895</td>\n",
       "      <td>-0.046239</td>\n",
       "      <td>1.000000</td>\n",
       "      <td>-0.590248</td>\n",
       "      <td>0.268763</td>\n",
       "      <td>0.068010</td>\n",
       "      <td>-0.102368</td>\n",
       "      <td>0.295188</td>\n",
       "      <td>0.370845</td>\n",
       "    </tr>\n",
       "    <tr>\n",
       "      <td>previous</td>\n",
       "      <td>0.049231</td>\n",
       "      <td>0.009359</td>\n",
       "      <td>0.018772</td>\n",
       "      <td>-0.590248</td>\n",
       "      <td>1.000000</td>\n",
       "      <td>-0.403502</td>\n",
       "      <td>-0.176775</td>\n",
       "      <td>-0.027930</td>\n",
       "      <td>-0.438863</td>\n",
       "      <td>-0.488365</td>\n",
       "    </tr>\n",
       "    <tr>\n",
       "      <td>emp.var.rate</td>\n",
       "      <td>-0.050409</td>\n",
       "      <td>0.008747</td>\n",
       "      <td>-0.023374</td>\n",
       "      <td>0.268763</td>\n",
       "      <td>-0.403502</td>\n",
       "      <td>1.000000</td>\n",
       "      <td>0.766055</td>\n",
       "      <td>0.157593</td>\n",
       "      <td>0.969412</td>\n",
       "      <td>0.900390</td>\n",
       "    </tr>\n",
       "    <tr>\n",
       "      <td>cons.price.idx</td>\n",
       "      <td>-0.035762</td>\n",
       "      <td>-0.041988</td>\n",
       "      <td>0.012768</td>\n",
       "      <td>0.068010</td>\n",
       "      <td>-0.176775</td>\n",
       "      <td>0.766055</td>\n",
       "      <td>1.000000</td>\n",
       "      <td>0.027217</td>\n",
       "      <td>0.667292</td>\n",
       "      <td>0.488871</td>\n",
       "    </tr>\n",
       "    <tr>\n",
       "      <td>cons.conf.idx</td>\n",
       "      <td>0.125017</td>\n",
       "      <td>0.063928</td>\n",
       "      <td>-0.009525</td>\n",
       "      <td>-0.102368</td>\n",
       "      <td>-0.027930</td>\n",
       "      <td>0.157593</td>\n",
       "      <td>0.027217</td>\n",
       "      <td>1.000000</td>\n",
       "      <td>0.243637</td>\n",
       "      <td>0.075283</td>\n",
       "    </tr>\n",
       "    <tr>\n",
       "      <td>euribor3m</td>\n",
       "      <td>-0.036481</td>\n",
       "      <td>0.012061</td>\n",
       "      <td>-0.028922</td>\n",
       "      <td>0.295188</td>\n",
       "      <td>-0.438863</td>\n",
       "      <td>0.969412</td>\n",
       "      <td>0.667292</td>\n",
       "      <td>0.243637</td>\n",
       "      <td>1.000000</td>\n",
       "      <td>0.944871</td>\n",
       "    </tr>\n",
       "    <tr>\n",
       "      <td>nr.employed</td>\n",
       "      <td>-0.064586</td>\n",
       "      <td>0.009639</td>\n",
       "      <td>-0.040367</td>\n",
       "      <td>0.370845</td>\n",
       "      <td>-0.488365</td>\n",
       "      <td>0.900390</td>\n",
       "      <td>0.488871</td>\n",
       "      <td>0.075283</td>\n",
       "      <td>0.944871</td>\n",
       "      <td>1.000000</td>\n",
       "    </tr>\n",
       "  </tbody>\n",
       "</table>\n",
       "</div>"
      ],
      "text/plain": [
       "                     age  education  duration     pdays  previous  \\\n",
       "age             1.000000  -0.153304  0.007910 -0.050891  0.049231   \n",
       "education      -0.153304   1.000000 -0.017383 -0.017895  0.009359   \n",
       "duration        0.007910  -0.017383  1.000000 -0.046239  0.018772   \n",
       "pdays          -0.050891  -0.017895 -0.046239  1.000000 -0.590248   \n",
       "previous        0.049231   0.009359  0.018772 -0.590248  1.000000   \n",
       "emp.var.rate   -0.050409   0.008747 -0.023374  0.268763 -0.403502   \n",
       "cons.price.idx -0.035762  -0.041988  0.012768  0.068010 -0.176775   \n",
       "cons.conf.idx   0.125017   0.063928 -0.009525 -0.102368 -0.027930   \n",
       "euribor3m      -0.036481   0.012061 -0.028922  0.295188 -0.438863   \n",
       "nr.employed    -0.064586   0.009639 -0.040367  0.370845 -0.488365   \n",
       "\n",
       "                emp.var.rate  cons.price.idx  cons.conf.idx  euribor3m  \\\n",
       "age                -0.050409       -0.035762       0.125017  -0.036481   \n",
       "education           0.008747       -0.041988       0.063928   0.012061   \n",
       "duration           -0.023374        0.012768      -0.009525  -0.028922   \n",
       "pdays               0.268763        0.068010      -0.102368   0.295188   \n",
       "previous           -0.403502       -0.176775      -0.027930  -0.438863   \n",
       "emp.var.rate        1.000000        0.766055       0.157593   0.969412   \n",
       "cons.price.idx      0.766055        1.000000       0.027217   0.667292   \n",
       "cons.conf.idx       0.157593        0.027217       1.000000   0.243637   \n",
       "euribor3m           0.969412        0.667292       0.243637   1.000000   \n",
       "nr.employed         0.900390        0.488871       0.075283   0.944871   \n",
       "\n",
       "                nr.employed  \n",
       "age               -0.064586  \n",
       "education          0.009639  \n",
       "duration          -0.040367  \n",
       "pdays              0.370845  \n",
       "previous          -0.488365  \n",
       "emp.var.rate       0.900390  \n",
       "cons.price.idx     0.488871  \n",
       "cons.conf.idx      0.075283  \n",
       "euribor3m          0.944871  \n",
       "nr.employed        1.000000  "
      ]
     },
     "execution_count": 173,
     "metadata": {},
     "output_type": "execute_result"
    }
   ],
   "source": [
    "df.corr()"
   ]
  },
  {
   "cell_type": "code",
   "execution_count": 174,
   "metadata": {},
   "outputs": [],
   "source": [
    "def heatMap(df):\n",
    "    corr=df.corr()\n",
    "    print(corr.columns)\n",
    "#     fig, ax=plt.subplots(figsize=(10,7))\n",
    "    sns.heatmap(corr, annot=True, fmt=\".2f\")\n",
    "    plt.xticks(range(len(corr.columns)), corr.columns);\n",
    "    plt.yticks(range(len(corr.columns)), corr.columns)\n",
    "    plt.show()"
   ]
  },
  {
   "cell_type": "code",
   "execution_count": 175,
   "metadata": {},
   "outputs": [
    {
     "name": "stdout",
     "output_type": "stream",
     "text": [
      "Index(['age', 'education', 'duration', 'pdays', 'previous', 'emp.var.rate',\n",
      "       'cons.price.idx', 'cons.conf.idx', 'euribor3m', 'nr.employed'],\n",
      "      dtype='object')\n"
     ]
    },
    {
     "data": {
      "image/png": "[encoded data removed]",
      "text/plain": [
       "<Figure size 432x288 with 2 Axes>"
      ]
     },
     "metadata": {
      "needs_background": "light"
     },
     "output_type": "display_data"
    }
   ],
   "source": [
    "heatMap(df)"
   ]
  },
  {
   "cell_type": "code",
   "execution_count": 176,
   "metadata": {},
   "outputs": [
    {
     "data": {
      "text/plain": [
       "<matplotlib.axes._subplots.AxesSubplot at 0x2c4198b3648>"
      ]
     },
     "execution_count": 176,
     "metadata": {},
     "output_type": "execute_result"
    },
    {
     "data": {
      "image/png": "[encoded data removed]",
      "text/plain": [
       "<Figure size 864x504 with 1 Axes>"
      ]
     },
     "metadata": {
      "needs_background": "light"
     },
     "output_type": "display_data"
    }
   ],
   "source": [
    "df.groupby([\"education\",'marital']).size().unstack(fill_value=0).plot(kind='bar',stacked=True,figsize=(12,7))"
   ]
  },
  {
   "cell_type": "code",
   "execution_count": 177,
   "metadata": {},
   "outputs": [
    {
     "data": {
      "text/plain": [
       "<matplotlib.axes._subplots.AxesSubplot at 0x2c42052aa48>"
      ]
     },
     "execution_count": 177,
     "metadata": {},
     "output_type": "execute_result"
    },
    {
     "data": {
      "image/png": "[encoded data removed]",
      "text/plain": [
       "<Figure size 864x360 with 1 Axes>"
      ]
     },
     "metadata": {
      "needs_background": "light"
     },
     "output_type": "display_data"
    }
   ],
   "source": [
    "df.groupby([\"education\",'loan']).size().unstack(fill_value=0).plot(kind='bar',stacked=True,figsize=(12,5))"
   ]
  },
  {
   "cell_type": "code",
   "execution_count": 178,
   "metadata": {},
   "outputs": [
    {
     "data": {
      "text/plain": [
       "<matplotlib.axes._subplots.AxesSubplot at 0x2c42052a308>"
      ]
     },
     "execution_count": 178,
     "metadata": {},
     "output_type": "execute_result"
    },
    {
     "data": {
      "image/png": "[encoded data removed]",
      "text/plain": [
       "<Figure size 1080x504 with 1 Axes>"
      ]
     },
     "metadata": {
      "needs_background": "light"
     },
     "output_type": "display_data"
    }
   ],
   "source": [
    "df.groupby([\"education\",'marital']).size().unstack().plot(kind=\"bar\", stacked=True, grid=True, figsize=(15,7))"
   ]
  },
  {
   "cell_type": "code",
   "execution_count": 179,
   "metadata": {},
   "outputs": [
    {
     "name": "stdout",
     "output_type": "stream",
     "text": [
      "default          no  yes\n",
      "job                     \n",
      "admin.         8737    0\n",
      "blue-collar    5675    0\n",
      "entrepreneur   1089    0\n",
      "housemaid       690    0\n",
      "management     2311    0\n",
      "retired        1216    0\n",
      "self-employed  1092    0\n",
      "services       2857    0\n",
      "student         610    0\n",
      "technician     5471    2\n",
      "unemployed      737    1\n"
     ]
    },
    {
     "data": {
      "text/plain": [
       "<matplotlib.axes._subplots.AxesSubplot at 0x2c42060fd48>"
      ]
     },
     "execution_count": 179,
     "metadata": {},
     "output_type": "execute_result"
    },
    {
     "data": {
      "image/png": "[encoded data removed]",
      "text/plain": [
       "<Figure size 720x504 with 1 Axes>"
      ]
     },
     "metadata": {
      "needs_background": "light"
     },
     "output_type": "display_data"
    }
   ],
   "source": [
    "print(df.groupby([\"job\", \"default\"]).size().unstack(fill_value=0))\n",
    "df.groupby([\"job\", \"default\"]).size().unstack().plot(kind=\"bar\", stacked=True, grid=True, figsize=(10,7))"
   ]
  },
  {
   "cell_type": "code",
   "execution_count": 180,
   "metadata": {},
   "outputs": [
    {
     "data": {
      "text/html": [
       "<div>\n",
       "<style scoped>\n",
       "    .dataframe tbody tr th:only-of-type {\n",
       "        vertical-align: middle;\n",
       "    }\n",
       "\n",
       "    .dataframe tbody tr th {\n",
       "        vertical-align: top;\n",
       "    }\n",
       "\n",
       "    .dataframe thead th {\n",
       "        text-align: right;\n",
       "    }\n",
       "</style>\n",
       "<table border=\"1\" class=\"dataframe\">\n",
       "  <thead>\n",
       "    <tr style=\"text-align: right;\">\n",
       "      <th>default</th>\n",
       "      <th>no</th>\n",
       "      <th>yes</th>\n",
       "    </tr>\n",
       "    <tr>\n",
       "      <th>housing</th>\n",
       "      <th></th>\n",
       "      <th></th>\n",
       "    </tr>\n",
       "  </thead>\n",
       "  <tbody>\n",
       "    <tr>\n",
       "      <td>no</td>\n",
       "      <td>13965</td>\n",
       "      <td>2</td>\n",
       "    </tr>\n",
       "    <tr>\n",
       "      <td>yes</td>\n",
       "      <td>16520</td>\n",
       "      <td>1</td>\n",
       "    </tr>\n",
       "  </tbody>\n",
       "</table>\n",
       "</div>"
      ],
      "text/plain": [
       "default     no  yes\n",
       "housing            \n",
       "no       13965    2\n",
       "yes      16520    1"
      ]
     },
     "execution_count": 180,
     "metadata": {},
     "output_type": "execute_result"
    }
   ],
   "source": [
    "df.groupby([\"housing\", \"default\"]).size().unstack()"
   ]
  },
  {
   "cell_type": "code",
   "execution_count": 181,
   "metadata": {},
   "outputs": [
    {
     "data": {
      "text/plain": [
       "<matplotlib.axes._subplots.AxesSubplot at 0x2c4206b9208>"
      ]
     },
     "execution_count": 181,
     "metadata": {},
     "output_type": "execute_result"
    },
    {
     "data": {
      "image/png": "[encoded data removed]",
      "text/plain": [
       "<Figure size 720x504 with 1 Axes>"
      ]
     },
     "metadata": {
      "needs_background": "light"
     },
     "output_type": "display_data"
    }
   ],
   "source": [
    "df.groupby([\"housing\", \"default\"]).size().unstack().plot(kind=\"bar\", stacked=True, grid=True, figsize=(10,7))"
   ]
  },
  {
   "cell_type": "code",
   "execution_count": 182,
   "metadata": {},
   "outputs": [
    {
     "name": "stdout",
     "output_type": "stream",
     "text": [
      "day_of_week   fri   mon   thu   tue   wed\n",
      "month                                    \n",
      "apr           455   550   637   213   260\n",
      "aug           804   922  1014   994   939\n",
      "dec            23    46    40    23    25\n",
      "jul           718  1036  1197  1034  1096\n",
      "jun           757   874   620   673   690\n",
      "mar            86   118    87   121    70\n",
      "may          2046  1893  1780  1963  2051\n",
      "nov           622   635   773   702   764\n",
      "oct           122   122   142   133   123\n",
      "sep           101    83   105    99   107\n"
     ]
    },
    {
     "data": {
      "text/plain": [
       "<matplotlib.axes._subplots.AxesSubplot at 0x2c4208b8348>"
      ]
     },
     "execution_count": 182,
     "metadata": {},
     "output_type": "execute_result"
    },
    {
     "data": {
      "image/png": "[encoded data removed]",
      "text/plain": [
       "<Figure size 720x504 with 1 Axes>"
      ]
     },
     "metadata": {
      "needs_background": "light"
     },
     "output_type": "display_data"
    }
   ],
   "source": [
    "print(df.groupby([\"month\", \"day_of_week\"]).size().unstack())\n",
    "df.groupby([\"month\", \"day_of_week\"]).size().unstack().plot(kind=\"bar\", stacked=True, grid=True, figsize=(10,7))"
   ]
  },
  {
   "cell_type": "code",
   "execution_count": null,
   "metadata": {},
   "outputs": [],
   "source": []
  },
  {
   "cell_type": "code",
   "execution_count": 183,
   "metadata": {},
   "outputs": [
    {
     "data": {
      "text/plain": [
       "<matplotlib.axes._subplots.AxesSubplot at 0x2c420f80f08>"
      ]
     },
     "execution_count": 183,
     "metadata": {},
     "output_type": "execute_result"
    },
    {
     "data": {
      "image/png": "[encoded data removed]",
      "text/plain": [
       "<Figure size 720x504 with 1 Axes>"
      ]
     },
     "metadata": {
      "needs_background": "light"
     },
     "output_type": "display_data"
    }
   ],
   "source": [
    "df.groupby([\"default\",\"contact\"]).size().unstack().plot(kind=\"bar\", stacked=True, grid=True, figsize=(10,7))"
   ]
  },
  {
   "cell_type": "code",
   "execution_count": 184,
   "metadata": {},
   "outputs": [
    {
     "data": {
      "text/html": [
       "<div>\n",
       "<style scoped>\n",
       "    .dataframe tbody tr th:only-of-type {\n",
       "        vertical-align: middle;\n",
       "    }\n",
       "\n",
       "    .dataframe tbody tr th {\n",
       "        vertical-align: top;\n",
       "    }\n",
       "\n",
       "    .dataframe thead th {\n",
       "        text-align: right;\n",
       "    }\n",
       "</style>\n",
       "<table border=\"1\" class=\"dataframe\">\n",
       "  <thead>\n",
       "    <tr style=\"text-align: right;\">\n",
       "      <th>loan</th>\n",
       "      <th>no</th>\n",
       "      <th>yes</th>\n",
       "    </tr>\n",
       "    <tr>\n",
       "      <th>job</th>\n",
       "      <th></th>\n",
       "      <th></th>\n",
       "    </tr>\n",
       "  </thead>\n",
       "  <tbody>\n",
       "    <tr>\n",
       "      <td>admin.</td>\n",
       "      <td>7253</td>\n",
       "      <td>1484</td>\n",
       "    </tr>\n",
       "    <tr>\n",
       "      <td>blue-collar</td>\n",
       "      <td>4782</td>\n",
       "      <td>893</td>\n",
       "    </tr>\n",
       "    <tr>\n",
       "      <td>entrepreneur</td>\n",
       "      <td>930</td>\n",
       "      <td>159</td>\n",
       "    </tr>\n",
       "    <tr>\n",
       "      <td>housemaid</td>\n",
       "      <td>593</td>\n",
       "      <td>97</td>\n",
       "    </tr>\n",
       "    <tr>\n",
       "      <td>management</td>\n",
       "      <td>1956</td>\n",
       "      <td>355</td>\n",
       "    </tr>\n",
       "    <tr>\n",
       "      <td>retired</td>\n",
       "      <td>1050</td>\n",
       "      <td>166</td>\n",
       "    </tr>\n",
       "    <tr>\n",
       "      <td>self-employed</td>\n",
       "      <td>938</td>\n",
       "      <td>154</td>\n",
       "    </tr>\n",
       "    <tr>\n",
       "      <td>services</td>\n",
       "      <td>2424</td>\n",
       "      <td>433</td>\n",
       "    </tr>\n",
       "    <tr>\n",
       "      <td>student</td>\n",
       "      <td>508</td>\n",
       "      <td>102</td>\n",
       "    </tr>\n",
       "    <tr>\n",
       "      <td>technician</td>\n",
       "      <td>4662</td>\n",
       "      <td>811</td>\n",
       "    </tr>\n",
       "    <tr>\n",
       "      <td>unemployed</td>\n",
       "      <td>624</td>\n",
       "      <td>114</td>\n",
       "    </tr>\n",
       "  </tbody>\n",
       "</table>\n",
       "</div>"
      ],
      "text/plain": [
       "loan             no   yes\n",
       "job                      \n",
       "admin.         7253  1484\n",
       "blue-collar    4782   893\n",
       "entrepreneur    930   159\n",
       "housemaid       593    97\n",
       "management     1956   355\n",
       "retired        1050   166\n",
       "self-employed   938   154\n",
       "services       2424   433\n",
       "student         508   102\n",
       "technician     4662   811\n",
       "unemployed      624   114"
      ]
     },
     "execution_count": 184,
     "metadata": {},
     "output_type": "execute_result"
    }
   ],
   "source": [
    "df.groupby([\"job\",'loan']).size().unstack()"
   ]
  },
  {
   "cell_type": "code",
   "execution_count": 185,
   "metadata": {},
   "outputs": [
    {
     "data": {
      "text/plain": [
       "<matplotlib.axes._subplots.AxesSubplot at 0x2c420e55788>"
      ]
     },
     "execution_count": 185,
     "metadata": {},
     "output_type": "execute_result"
    },
    {
     "data": {
      "image/png": "[encoded data removed]",
      "text/plain": [
       "<Figure size 720x504 with 1 Axes>"
      ]
     },
     "metadata": {
      "needs_background": "light"
     },
     "output_type": "display_data"
    }
   ],
   "source": [
    "df.groupby([\"marital\",'loan']).size().unstack().plot(kind=\"bar\", stacked=True, grid=True, figsize=(10,7))"
   ]
  },
  {
   "cell_type": "code",
   "execution_count": 196,
   "metadata": {},
   "outputs": [
    {
     "data": {
      "text/html": [
       "<div>\n",
       "<style scoped>\n",
       "    .dataframe tbody tr th:only-of-type {\n",
       "        vertical-align: middle;\n",
       "    }\n",
       "\n",
       "    .dataframe tbody tr th {\n",
       "        vertical-align: top;\n",
       "    }\n",
       "\n",
       "    .dataframe thead th {\n",
       "        text-align: right;\n",
       "    }\n",
       "</style>\n",
       "<table border=\"1\" class=\"dataframe\">\n",
       "  <thead>\n",
       "    <tr style=\"text-align: right;\">\n",
       "      <th></th>\n",
       "      <th>duration</th>\n",
       "    </tr>\n",
       "    <tr>\n",
       "      <th>default</th>\n",
       "      <th></th>\n",
       "    </tr>\n",
       "  </thead>\n",
       "  <tbody>\n",
       "    <tr>\n",
       "      <td>no</td>\n",
       "      <td>7910841</td>\n",
       "    </tr>\n",
       "    <tr>\n",
       "      <td>yes</td>\n",
       "      <td>310</td>\n",
       "    </tr>\n",
       "  </tbody>\n",
       "</table>\n",
       "</div>"
      ],
      "text/plain": [
       "         duration\n",
       "default          \n",
       "no        7910841\n",
       "yes           310"
      ]
     },
     "execution_count": 196,
     "metadata": {},
     "output_type": "execute_result"
    }
   ],
   "source": [
    "pd.pivot_table(df, index=[\"default\"],values=['duration'],aggfunc=np.sum)"
   ]
  },
  {
   "cell_type": "code",
   "execution_count": 83,
   "metadata": {},
   "outputs": [],
   "source": [
    "# df.pairplot(df, hue=\"loan\", size=3)\n",
    "# plt.show()"
   ]
  },
  {
   "cell_type": "code",
   "execution_count": 84,
   "metadata": {},
   "outputs": [
    {
     "data": {
      "text/html": [
       "<div>\n",
       "<style scoped>\n",
       "    .dataframe tbody tr th:only-of-type {\n",
       "        vertical-align: middle;\n",
       "    }\n",
       "\n",
       "    .dataframe tbody tr th {\n",
       "        vertical-align: top;\n",
       "    }\n",
       "\n",
       "    .dataframe thead tr th {\n",
       "        text-align: left;\n",
       "    }\n",
       "\n",
       "    .dataframe thead tr:last-of-type th {\n",
       "        text-align: right;\n",
       "    }\n",
       "</style>\n",
       "<table border=\"1\" class=\"dataframe\">\n",
       "  <thead>\n",
       "    <tr>\n",
       "      <th></th>\n",
       "      <th></th>\n",
       "      <th colspan=\"2\" halign=\"left\">age</th>\n",
       "      <th colspan=\"2\" halign=\"left\">cons.conf.idx</th>\n",
       "      <th colspan=\"2\" halign=\"left\">cons.price.idx</th>\n",
       "      <th colspan=\"2\" halign=\"left\">duration</th>\n",
       "      <th colspan=\"2\" halign=\"left\">emp.var.rate</th>\n",
       "      <th colspan=\"2\" halign=\"left\">euribor3m</th>\n",
       "      <th colspan=\"2\" halign=\"left\">nr.employed</th>\n",
       "      <th colspan=\"2\" halign=\"left\">pdays</th>\n",
       "      <th colspan=\"2\" halign=\"left\">previous</th>\n",
       "    </tr>\n",
       "    <tr>\n",
       "      <th></th>\n",
       "      <th>loan</th>\n",
       "      <th>no</th>\n",
       "      <th>yes</th>\n",
       "      <th>no</th>\n",
       "      <th>yes</th>\n",
       "      <th>no</th>\n",
       "      <th>yes</th>\n",
       "      <th>no</th>\n",
       "      <th>yes</th>\n",
       "      <th>no</th>\n",
       "      <th>yes</th>\n",
       "      <th>no</th>\n",
       "      <th>yes</th>\n",
       "      <th>no</th>\n",
       "      <th>yes</th>\n",
       "      <th>no</th>\n",
       "      <th>yes</th>\n",
       "      <th>no</th>\n",
       "      <th>yes</th>\n",
       "    </tr>\n",
       "    <tr>\n",
       "      <th>housing</th>\n",
       "      <th>default</th>\n",
       "      <th></th>\n",
       "      <th></th>\n",
       "      <th></th>\n",
       "      <th></th>\n",
       "      <th></th>\n",
       "      <th></th>\n",
       "      <th></th>\n",
       "      <th></th>\n",
       "      <th></th>\n",
       "      <th></th>\n",
       "      <th></th>\n",
       "      <th></th>\n",
       "      <th></th>\n",
       "      <th></th>\n",
       "      <th></th>\n",
       "      <th></th>\n",
       "      <th></th>\n",
       "      <th></th>\n",
       "    </tr>\n",
       "  </thead>\n",
       "  <tbody>\n",
       "    <tr>\n",
       "      <td rowspan=\"2\" valign=\"top\">no</td>\n",
       "      <td>no</td>\n",
       "      <td>40.082861</td>\n",
       "      <td>39.801721</td>\n",
       "      <td>-40.302857</td>\n",
       "      <td>-40.556785</td>\n",
       "      <td>93.624157</td>\n",
       "      <td>93.629338</td>\n",
       "      <td>260.847974</td>\n",
       "      <td>259.640594</td>\n",
       "      <td>0.180863</td>\n",
       "      <td>0.203989</td>\n",
       "      <td>3.731637</td>\n",
       "      <td>3.737090</td>\n",
       "      <td>5170.487487</td>\n",
       "      <td>5171.724951</td>\n",
       "      <td>964.884766</td>\n",
       "      <td>962.491983</td>\n",
       "      <td>0.160182</td>\n",
       "      <td>0.166993</td>\n",
       "    </tr>\n",
       "    <tr>\n",
       "      <td>yes</td>\n",
       "      <td>39.500000</td>\n",
       "      <td>NaN</td>\n",
       "      <td>-39.050000</td>\n",
       "      <td>NaN</td>\n",
       "      <td>93.322000</td>\n",
       "      <td>NaN</td>\n",
       "      <td>88.500000</td>\n",
       "      <td>NaN</td>\n",
       "      <td>0.650000</td>\n",
       "      <td>NaN</td>\n",
       "      <td>4.558000</td>\n",
       "      <td>NaN</td>\n",
       "      <td>5211.950000</td>\n",
       "      <td>NaN</td>\n",
       "      <td>999.000000</td>\n",
       "      <td>NaN</td>\n",
       "      <td>0.500000</td>\n",
       "      <td>NaN</td>\n",
       "    </tr>\n",
       "    <tr>\n",
       "      <td rowspan=\"2\" valign=\"top\">yes</td>\n",
       "      <td>no</td>\n",
       "      <td>40.032373</td>\n",
       "      <td>39.877811</td>\n",
       "      <td>-40.623445</td>\n",
       "      <td>-40.718369</td>\n",
       "      <td>93.537121</td>\n",
       "      <td>93.524709</td>\n",
       "      <td>256.103794</td>\n",
       "      <td>257.471688</td>\n",
       "      <td>-0.003947</td>\n",
       "      <td>0.004795</td>\n",
       "      <td>3.527870</td>\n",
       "      <td>3.537689</td>\n",
       "      <td>5163.852564</td>\n",
       "      <td>5165.003685</td>\n",
       "      <td>960.431758</td>\n",
       "      <td>962.399621</td>\n",
       "      <td>0.184646</td>\n",
       "      <td>0.172853</td>\n",
       "    </tr>\n",
       "    <tr>\n",
       "      <td>yes</td>\n",
       "      <td>48.000000</td>\n",
       "      <td>NaN</td>\n",
       "      <td>-36.100000</td>\n",
       "      <td>NaN</td>\n",
       "      <td>93.444000</td>\n",
       "      <td>NaN</td>\n",
       "      <td>133.000000</td>\n",
       "      <td>NaN</td>\n",
       "      <td>1.400000</td>\n",
       "      <td>NaN</td>\n",
       "      <td>4.963000</td>\n",
       "      <td>NaN</td>\n",
       "      <td>5228.100000</td>\n",
       "      <td>NaN</td>\n",
       "      <td>999.000000</td>\n",
       "      <td>NaN</td>\n",
       "      <td>0.000000</td>\n",
       "      <td>NaN</td>\n",
       "    </tr>\n",
       "  </tbody>\n",
       "</table>\n",
       "</div>"
      ],
      "text/plain": [
       "                       age            cons.conf.idx            cons.price.idx  \\\n",
       "loan                    no        yes            no        yes             no   \n",
       "housing default                                                                 \n",
       "no      no       40.082861  39.801721    -40.302857 -40.556785      93.624157   \n",
       "        yes      39.500000        NaN    -39.050000        NaN      93.322000   \n",
       "yes     no       40.032373  39.877811    -40.623445 -40.718369      93.537121   \n",
       "        yes      48.000000        NaN    -36.100000        NaN      93.444000   \n",
       "\n",
       "                              duration             emp.var.rate            \\\n",
       "loan                   yes          no         yes           no       yes   \n",
       "housing default                                                             \n",
       "no      no       93.629338  260.847974  259.640594     0.180863  0.203989   \n",
       "        yes            NaN   88.500000         NaN     0.650000       NaN   \n",
       "yes     no       93.524709  256.103794  257.471688    -0.003947  0.004795   \n",
       "        yes            NaN  133.000000         NaN     1.400000       NaN   \n",
       "\n",
       "                euribor3m            nr.employed                    pdays  \\\n",
       "loan                   no       yes           no          yes          no   \n",
       "housing default                                                             \n",
       "no      no       3.731637  3.737090  5170.487487  5171.724951  964.884766   \n",
       "        yes      4.558000       NaN  5211.950000          NaN  999.000000   \n",
       "yes     no       3.527870  3.537689  5163.852564  5165.003685  960.431758   \n",
       "        yes      4.963000       NaN  5228.100000          NaN  999.000000   \n",
       "\n",
       "                             previous            \n",
       "loan                    yes        no       yes  \n",
       "housing default                                  \n",
       "no      no       962.491983  0.160182  0.166993  \n",
       "        yes             NaN  0.500000       NaN  \n",
       "yes     no       962.399621  0.184646  0.172853  \n",
       "        yes             NaN  0.000000       NaN  "
      ]
     },
     "execution_count": 84,
     "metadata": {},
     "output_type": "execute_result"
    }
   ],
   "source": [
    "df.pivot_table(df, columns=[\"loan\"], index=[\"housing\", \"default\"])"
   ]
  },
  {
   "cell_type": "code",
   "execution_count": 85,
   "metadata": {},
   "outputs": [
    {
     "data": {
      "text/html": [
       "<div>\n",
       "<style scoped>\n",
       "    .dataframe tbody tr th:only-of-type {\n",
       "        vertical-align: middle;\n",
       "    }\n",
       "\n",
       "    .dataframe tbody tr th {\n",
       "        vertical-align: top;\n",
       "    }\n",
       "\n",
       "    .dataframe thead tr th {\n",
       "        text-align: left;\n",
       "    }\n",
       "\n",
       "    .dataframe thead tr:last-of-type th {\n",
       "        text-align: right;\n",
       "    }\n",
       "</style>\n",
       "<table border=\"1\" class=\"dataframe\">\n",
       "  <thead>\n",
       "    <tr>\n",
       "      <th></th>\n",
       "      <th></th>\n",
       "      <th colspan=\"2\" halign=\"left\">age</th>\n",
       "      <th colspan=\"2\" halign=\"left\">cons.conf.idx</th>\n",
       "      <th colspan=\"2\" halign=\"left\">cons.price.idx</th>\n",
       "      <th colspan=\"2\" halign=\"left\">duration</th>\n",
       "      <th colspan=\"2\" halign=\"left\">emp.var.rate</th>\n",
       "      <th colspan=\"2\" halign=\"left\">euribor3m</th>\n",
       "      <th colspan=\"2\" halign=\"left\">nr.employed</th>\n",
       "      <th colspan=\"2\" halign=\"left\">pdays</th>\n",
       "      <th colspan=\"2\" halign=\"left\">previous</th>\n",
       "    </tr>\n",
       "    <tr>\n",
       "      <th></th>\n",
       "      <th>loan</th>\n",
       "      <th>no</th>\n",
       "      <th>yes</th>\n",
       "      <th>no</th>\n",
       "      <th>yes</th>\n",
       "      <th>no</th>\n",
       "      <th>yes</th>\n",
       "      <th>no</th>\n",
       "      <th>yes</th>\n",
       "      <th>no</th>\n",
       "      <th>yes</th>\n",
       "      <th>no</th>\n",
       "      <th>yes</th>\n",
       "      <th>no</th>\n",
       "      <th>yes</th>\n",
       "      <th>no</th>\n",
       "      <th>yes</th>\n",
       "      <th>no</th>\n",
       "      <th>yes</th>\n",
       "    </tr>\n",
       "    <tr>\n",
       "      <th>month</th>\n",
       "      <th>day_of_week</th>\n",
       "      <th></th>\n",
       "      <th></th>\n",
       "      <th></th>\n",
       "      <th></th>\n",
       "      <th></th>\n",
       "      <th></th>\n",
       "      <th></th>\n",
       "      <th></th>\n",
       "      <th></th>\n",
       "      <th></th>\n",
       "      <th></th>\n",
       "      <th></th>\n",
       "      <th></th>\n",
       "      <th></th>\n",
       "      <th></th>\n",
       "      <th></th>\n",
       "      <th></th>\n",
       "      <th></th>\n",
       "    </tr>\n",
       "  </thead>\n",
       "  <tbody>\n",
       "    <tr>\n",
       "      <td rowspan=\"5\" valign=\"top\">apr</td>\n",
       "      <td>fri</td>\n",
       "      <td>40.060665</td>\n",
       "      <td>37.919192</td>\n",
       "      <td>-46.659687</td>\n",
       "      <td>-46.216162</td>\n",
       "      <td>93.098742</td>\n",
       "      <td>93.122657</td>\n",
       "      <td>312.019569</td>\n",
       "      <td>283.626263</td>\n",
       "      <td>-1.800000</td>\n",
       "      <td>-1.800000</td>\n",
       "      <td>1.386033</td>\n",
       "      <td>1.358616</td>\n",
       "      <td>5095.915656</td>\n",
       "      <td>5092.708081</td>\n",
       "      <td>981.493151</td>\n",
       "      <td>968.909091</td>\n",
       "      <td>0.356164</td>\n",
       "      <td>0.373737</td>\n",
       "    </tr>\n",
       "    <tr>\n",
       "      <td>mon</td>\n",
       "      <td>40.205042</td>\n",
       "      <td>41.822430</td>\n",
       "      <td>-46.238655</td>\n",
       "      <td>-46.632710</td>\n",
       "      <td>93.121444</td>\n",
       "      <td>93.100196</td>\n",
       "      <td>245.028571</td>\n",
       "      <td>242.943925</td>\n",
       "      <td>-1.800000</td>\n",
       "      <td>-1.800000</td>\n",
       "      <td>1.356995</td>\n",
       "      <td>1.381561</td>\n",
       "      <td>5092.870756</td>\n",
       "      <td>5095.720561</td>\n",
       "      <td>970.657143</td>\n",
       "      <td>962.018692</td>\n",
       "      <td>0.294118</td>\n",
       "      <td>0.411215</td>\n",
       "    </tr>\n",
       "    <tr>\n",
       "      <td>thu</td>\n",
       "      <td>40.100763</td>\n",
       "      <td>41.247788</td>\n",
       "      <td>-46.241221</td>\n",
       "      <td>-45.993805</td>\n",
       "      <td>93.121305</td>\n",
       "      <td>93.134646</td>\n",
       "      <td>324.404580</td>\n",
       "      <td>331.106195</td>\n",
       "      <td>-1.800000</td>\n",
       "      <td>-1.800000</td>\n",
       "      <td>1.346858</td>\n",
       "      <td>1.332602</td>\n",
       "      <td>5092.889313</td>\n",
       "      <td>5091.100000</td>\n",
       "      <td>923.039695</td>\n",
       "      <td>902.300885</td>\n",
       "      <td>0.340458</td>\n",
       "      <td>0.336283</td>\n",
       "    </tr>\n",
       "    <tr>\n",
       "      <td>tue</td>\n",
       "      <td>43.370892</td>\n",
       "      <td>40.769231</td>\n",
       "      <td>-45.574178</td>\n",
       "      <td>-44.535897</td>\n",
       "      <td>93.157272</td>\n",
       "      <td>93.213256</td>\n",
       "      <td>264.896714</td>\n",
       "      <td>365.923077</td>\n",
       "      <td>-1.800000</td>\n",
       "      <td>-1.800000</td>\n",
       "      <td>1.333108</td>\n",
       "      <td>1.268333</td>\n",
       "      <td>5088.065258</td>\n",
       "      <td>5080.556410</td>\n",
       "      <td>961.741784</td>\n",
       "      <td>897.282051</td>\n",
       "      <td>0.291080</td>\n",
       "      <td>0.333333</td>\n",
       "    </tr>\n",
       "    <tr>\n",
       "      <td>wed</td>\n",
       "      <td>42.224409</td>\n",
       "      <td>37.847826</td>\n",
       "      <td>-46.460236</td>\n",
       "      <td>-46.556522</td>\n",
       "      <td>93.109496</td>\n",
       "      <td>93.104304</td>\n",
       "      <td>304.751969</td>\n",
       "      <td>312.934783</td>\n",
       "      <td>-1.800000</td>\n",
       "      <td>-1.800000</td>\n",
       "      <td>1.392209</td>\n",
       "      <td>1.402565</td>\n",
       "      <td>5094.473228</td>\n",
       "      <td>5095.169565</td>\n",
       "      <td>967.744094</td>\n",
       "      <td>977.413043</td>\n",
       "      <td>0.259843</td>\n",
       "      <td>0.239130</td>\n",
       "    </tr>\n",
       "    <tr>\n",
       "      <td rowspan=\"5\" valign=\"top\">aug</td>\n",
       "      <td>fri</td>\n",
       "      <td>41.117325</td>\n",
       "      <td>41.246835</td>\n",
       "      <td>-35.408991</td>\n",
       "      <td>-35.412025</td>\n",
       "      <td>93.261294</td>\n",
       "      <td>93.262082</td>\n",
       "      <td>212.380482</td>\n",
       "      <td>220.056962</td>\n",
       "      <td>0.577193</td>\n",
       "      <td>0.641139</td>\n",
       "      <td>4.138360</td>\n",
       "      <td>4.211405</td>\n",
       "      <td>5194.299561</td>\n",
       "      <td>5198.077848</td>\n",
       "      <td>955.440789</td>\n",
       "      <td>973.879747</td>\n",
       "      <td>0.139254</td>\n",
       "      <td>0.107595</td>\n",
       "    </tr>\n",
       "    <tr>\n",
       "      <td>mon</td>\n",
       "      <td>41.548325</td>\n",
       "      <td>40.966102</td>\n",
       "      <td>-35.669761</td>\n",
       "      <td>-35.832768</td>\n",
       "      <td>93.330274</td>\n",
       "      <td>93.373339</td>\n",
       "      <td>231.148325</td>\n",
       "      <td>207.192090</td>\n",
       "      <td>0.751962</td>\n",
       "      <td>1.097740</td>\n",
       "      <td>4.291390</td>\n",
       "      <td>4.664322</td>\n",
       "      <td>5198.888517</td>\n",
       "      <td>5215.987571</td>\n",
       "      <td>958.151196</td>\n",
       "      <td>987.745763</td>\n",
       "      <td>0.132057</td>\n",
       "      <td>0.050847</td>\n",
       "    </tr>\n",
       "    <tr>\n",
       "      <td>thu</td>\n",
       "      <td>41.218667</td>\n",
       "      <td>40.864865</td>\n",
       "      <td>-35.593067</td>\n",
       "      <td>-35.642793</td>\n",
       "      <td>93.309976</td>\n",
       "      <td>93.323099</td>\n",
       "      <td>224.836444</td>\n",
       "      <td>267.527027</td>\n",
       "      <td>0.745333</td>\n",
       "      <td>0.912613</td>\n",
       "      <td>4.299138</td>\n",
       "      <td>4.485622</td>\n",
       "      <td>5200.232533</td>\n",
       "      <td>5209.166667</td>\n",
       "      <td>961.936889</td>\n",
       "      <td>967.662162</td>\n",
       "      <td>0.107556</td>\n",
       "      <td>0.081081</td>\n",
       "    </tr>\n",
       "    <tr>\n",
       "      <td>tue</td>\n",
       "      <td>42.484821</td>\n",
       "      <td>40.732955</td>\n",
       "      <td>-35.630268</td>\n",
       "      <td>-35.600000</td>\n",
       "      <td>93.319818</td>\n",
       "      <td>93.311812</td>\n",
       "      <td>246.083036</td>\n",
       "      <td>253.562500</td>\n",
       "      <td>0.764821</td>\n",
       "      <td>0.739205</td>\n",
       "      <td>4.315256</td>\n",
       "      <td>4.291318</td>\n",
       "      <td>5200.559643</td>\n",
       "      <td>5199.706250</td>\n",
       "      <td>972.415179</td>\n",
       "      <td>942.579545</td>\n",
       "      <td>0.096429</td>\n",
       "      <td>0.142045</td>\n",
       "    </tr>\n",
       "    <tr>\n",
       "      <td>wed</td>\n",
       "      <td>42.333969</td>\n",
       "      <td>41.189744</td>\n",
       "      <td>-35.603340</td>\n",
       "      <td>-35.770769</td>\n",
       "      <td>93.312693</td>\n",
       "      <td>93.356959</td>\n",
       "      <td>238.503817</td>\n",
       "      <td>239.743590</td>\n",
       "      <td>0.755344</td>\n",
       "      <td>0.967692</td>\n",
       "      <td>4.309628</td>\n",
       "      <td>4.525077</td>\n",
       "      <td>5200.601336</td>\n",
       "      <td>5209.572308</td>\n",
       "      <td>951.587786</td>\n",
       "      <td>958.179487</td>\n",
       "      <td>0.123092</td>\n",
       "      <td>0.107692</td>\n",
       "    </tr>\n",
       "    <tr>\n",
       "      <td rowspan=\"5\" valign=\"top\">dec</td>\n",
       "      <td>fri</td>\n",
       "      <td>44.700000</td>\n",
       "      <td>46.500000</td>\n",
       "      <td>-34.290000</td>\n",
       "      <td>-36.225000</td>\n",
       "      <td>92.717300</td>\n",
       "      <td>92.723750</td>\n",
       "      <td>304.950000</td>\n",
       "      <td>398.000000</td>\n",
       "      <td>-2.720000</td>\n",
       "      <td>-2.300000</td>\n",
       "      <td>0.985250</td>\n",
       "      <td>1.425250</td>\n",
       "      <td>5038.780000</td>\n",
       "      <td>5061.700000</td>\n",
       "      <td>701.000000</td>\n",
       "      <td>750.750000</td>\n",
       "      <td>0.500000</td>\n",
       "      <td>0.750000</td>\n",
       "    </tr>\n",
       "    <tr>\n",
       "      <td>mon</td>\n",
       "      <td>43.200000</td>\n",
       "      <td>47.769231</td>\n",
       "      <td>-33.322500</td>\n",
       "      <td>-34.984615</td>\n",
       "      <td>92.714075</td>\n",
       "      <td>92.719615</td>\n",
       "      <td>416.300000</td>\n",
       "      <td>331.153846</td>\n",
       "      <td>-2.930000</td>\n",
       "      <td>-2.569231</td>\n",
       "      <td>0.789900</td>\n",
       "      <td>1.104923</td>\n",
       "      <td>5027.320000</td>\n",
       "      <td>5047.007692</td>\n",
       "      <td>726.075000</td>\n",
       "      <td>770.000000</td>\n",
       "      <td>0.700000</td>\n",
       "      <td>0.461538</td>\n",
       "    </tr>\n",
       "    <tr>\n",
       "      <td>thu</td>\n",
       "      <td>52.424242</td>\n",
       "      <td>56.583333</td>\n",
       "      <td>-33.390909</td>\n",
       "      <td>-34.075000</td>\n",
       "      <td>92.714303</td>\n",
       "      <td>92.716583</td>\n",
       "      <td>321.393939</td>\n",
       "      <td>420.416667</td>\n",
       "      <td>-2.915152</td>\n",
       "      <td>-2.766667</td>\n",
       "      <td>0.792091</td>\n",
       "      <td>0.959667</td>\n",
       "      <td>5028.130303</td>\n",
       "      <td>5036.233333</td>\n",
       "      <td>758.242424</td>\n",
       "      <td>667.833333</td>\n",
       "      <td>0.757576</td>\n",
       "      <td>1.000000</td>\n",
       "    </tr>\n",
       "    <tr>\n",
       "      <td>tue</td>\n",
       "      <td>40.772727</td>\n",
       "      <td>51.000000</td>\n",
       "      <td>-33.586364</td>\n",
       "      <td>-33.000000</td>\n",
       "      <td>92.714955</td>\n",
       "      <td>92.713000</td>\n",
       "      <td>351.181818</td>\n",
       "      <td>194.333333</td>\n",
       "      <td>-2.872727</td>\n",
       "      <td>-3.000000</td>\n",
       "      <td>0.832773</td>\n",
       "      <td>0.709667</td>\n",
       "      <td>5030.445455</td>\n",
       "      <td>5023.500000</td>\n",
       "      <td>773.454545</td>\n",
       "      <td>337.000000</td>\n",
       "      <td>0.363636</td>\n",
       "      <td>1.333333</td>\n",
       "    </tr>\n",
       "    <tr>\n",
       "      <td>wed</td>\n",
       "      <td>50.060606</td>\n",
       "      <td>35.000000</td>\n",
       "      <td>-33.390909</td>\n",
       "      <td>-33.000000</td>\n",
       "      <td>92.714303</td>\n",
       "      <td>92.713000</td>\n",
       "      <td>288.000000</td>\n",
       "      <td>394.500000</td>\n",
       "      <td>-2.915152</td>\n",
       "      <td>-3.000000</td>\n",
       "      <td>0.805485</td>\n",
       "      <td>0.718000</td>\n",
       "      <td>5028.130303</td>\n",
       "      <td>5023.500000</td>\n",
       "      <td>818.484848</td>\n",
       "      <td>999.000000</td>\n",
       "      <td>0.484848</td>\n",
       "      <td>0.000000</td>\n",
       "    </tr>\n",
       "    <tr>\n",
       "      <td rowspan=\"5\" valign=\"top\">jul</td>\n",
       "      <td>fri</td>\n",
       "      <td>39.396450</td>\n",
       "      <td>41.053892</td>\n",
       "      <td>-42.272308</td>\n",
       "      <td>-42.375449</td>\n",
       "      <td>93.891692</td>\n",
       "      <td>93.927323</td>\n",
       "      <td>300.559763</td>\n",
       "      <td>276.808383</td>\n",
       "      <td>1.076923</td>\n",
       "      <td>1.070060</td>\n",
       "      <td>4.587335</td>\n",
       "      <td>4.544293</td>\n",
       "      <td>5208.872308</td>\n",
       "      <td>5205.038323</td>\n",
       "      <td>970.862722</td>\n",
       "      <td>993.065868</td>\n",
       "      <td>0.071006</td>\n",
       "      <td>0.035928</td>\n",
       "    </tr>\n",
       "    <tr>\n",
       "      <td>mon</td>\n",
       "      <td>40.062954</td>\n",
       "      <td>40.061372</td>\n",
       "      <td>-42.517353</td>\n",
       "      <td>-42.504332</td>\n",
       "      <td>93.913584</td>\n",
       "      <td>93.923621</td>\n",
       "      <td>259.443099</td>\n",
       "      <td>267.007220</td>\n",
       "      <td>1.242292</td>\n",
       "      <td>1.201083</td>\n",
       "      <td>4.769957</td>\n",
       "      <td>4.709271</td>\n",
       "      <td>5217.916626</td>\n",
       "      <td>5214.196390</td>\n",
       "      <td>989.430186</td>\n",
       "      <td>984.649819</td>\n",
       "      <td>0.029863</td>\n",
       "      <td>0.046931</td>\n",
       "    </tr>\n",
       "    <tr>\n",
       "      <td>thu</td>\n",
       "      <td>38.533808</td>\n",
       "      <td>40.595506</td>\n",
       "      <td>-42.363274</td>\n",
       "      <td>-42.319476</td>\n",
       "      <td>93.899186</td>\n",
       "      <td>93.887933</td>\n",
       "      <td>264.804270</td>\n",
       "      <td>264.434457</td>\n",
       "      <td>1.140142</td>\n",
       "      <td>1.131835</td>\n",
       "      <td>4.660877</td>\n",
       "      <td>4.660419</td>\n",
       "      <td>5212.412669</td>\n",
       "      <td>5212.919476</td>\n",
       "      <td>978.549466</td>\n",
       "      <td>972.966292</td>\n",
       "      <td>0.062633</td>\n",
       "      <td>0.078652</td>\n",
       "    </tr>\n",
       "    <tr>\n",
       "      <td>tue</td>\n",
       "      <td>39.134540</td>\n",
       "      <td>39.768293</td>\n",
       "      <td>-42.328639</td>\n",
       "      <td>-42.240244</td>\n",
       "      <td>93.882913</td>\n",
       "      <td>93.880683</td>\n",
       "      <td>278.101495</td>\n",
       "      <td>288.512195</td>\n",
       "      <td>1.154917</td>\n",
       "      <td>1.078862</td>\n",
       "      <td>4.691218</td>\n",
       "      <td>4.595565</td>\n",
       "      <td>5214.946184</td>\n",
       "      <td>5210.044715</td>\n",
       "      <td>983.398899</td>\n",
       "      <td>970.825203</td>\n",
       "      <td>0.039339</td>\n",
       "      <td>0.073171</td>\n",
       "    </tr>\n",
       "    <tr>\n",
       "      <td>wed</td>\n",
       "      <td>37.553398</td>\n",
       "      <td>37.294118</td>\n",
       "      <td>-42.354207</td>\n",
       "      <td>-42.324887</td>\n",
       "      <td>93.881621</td>\n",
       "      <td>93.882855</td>\n",
       "      <td>273.933657</td>\n",
       "      <td>272.719457</td>\n",
       "      <td>1.182524</td>\n",
       "      <td>1.151584</td>\n",
       "      <td>4.727307</td>\n",
       "      <td>4.690267</td>\n",
       "      <td>5216.924272</td>\n",
       "      <td>5214.727602</td>\n",
       "      <td>990.984628</td>\n",
       "      <td>980.986425</td>\n",
       "      <td>0.028317</td>\n",
       "      <td>0.045249</td>\n",
       "    </tr>\n",
       "    <tr>\n",
       "      <td rowspan=\"5\" valign=\"top\">jun</td>\n",
       "      <td>fri</td>\n",
       "      <td>40.550620</td>\n",
       "      <td>40.022346</td>\n",
       "      <td>-41.668802</td>\n",
       "      <td>-41.649162</td>\n",
       "      <td>94.318855</td>\n",
       "      <td>94.339883</td>\n",
       "      <td>204.236570</td>\n",
       "      <td>195.351955</td>\n",
       "      <td>0.943802</td>\n",
       "      <td>0.966480</td>\n",
       "      <td>4.538610</td>\n",
       "      <td>4.527123</td>\n",
       "      <td>5209.491942</td>\n",
       "      <td>5207.819553</td>\n",
       "      <td>983.610537</td>\n",
       "      <td>960.072626</td>\n",
       "      <td>0.037190</td>\n",
       "      <td>0.072626</td>\n",
       "    </tr>\n",
       "    <tr>\n",
       "      <td>mon</td>\n",
       "      <td>39.667286</td>\n",
       "      <td>38.645714</td>\n",
       "      <td>-41.557435</td>\n",
       "      <td>-41.600000</td>\n",
       "      <td>94.197099</td>\n",
       "      <td>94.283183</td>\n",
       "      <td>239.628253</td>\n",
       "      <td>231.765714</td>\n",
       "      <td>0.561431</td>\n",
       "      <td>0.791429</td>\n",
       "      <td>4.152864</td>\n",
       "      <td>4.331577</td>\n",
       "      <td>5193.756227</td>\n",
       "      <td>5200.796571</td>\n",
       "      <td>974.053903</td>\n",
       "      <td>970.605714</td>\n",
       "      <td>0.073420</td>\n",
       "      <td>0.085714</td>\n",
       "    </tr>\n",
       "    <tr>\n",
       "      <td>thu</td>\n",
       "      <td>40.900718</td>\n",
       "      <td>39.450382</td>\n",
       "      <td>-41.670813</td>\n",
       "      <td>-41.540458</td>\n",
       "      <td>94.342328</td>\n",
       "      <td>94.213779</td>\n",
       "      <td>259.901914</td>\n",
       "      <td>270.938931</td>\n",
       "      <td>0.995813</td>\n",
       "      <td>0.577863</td>\n",
       "      <td>4.534597</td>\n",
       "      <td>4.143435</td>\n",
       "      <td>5210.328110</td>\n",
       "      <td>5192.271756</td>\n",
       "      <td>984.741627</td>\n",
       "      <td>983.862595</td>\n",
       "      <td>0.037081</td>\n",
       "      <td>0.068702</td>\n",
       "    </tr>\n",
       "    <tr>\n",
       "      <td>tue</td>\n",
       "      <td>39.471883</td>\n",
       "      <td>39.776316</td>\n",
       "      <td>-41.439364</td>\n",
       "      <td>-41.457895</td>\n",
       "      <td>94.123108</td>\n",
       "      <td>94.070618</td>\n",
       "      <td>254.536675</td>\n",
       "      <td>282.572368</td>\n",
       "      <td>0.272861</td>\n",
       "      <td>0.182237</td>\n",
       "      <td>3.832543</td>\n",
       "      <td>3.806730</td>\n",
       "      <td>5178.502689</td>\n",
       "      <td>5179.233553</td>\n",
       "      <td>947.980440</td>\n",
       "      <td>946.684211</td>\n",
       "      <td>0.160147</td>\n",
       "      <td>0.164474</td>\n",
       "    </tr>\n",
       "    <tr>\n",
       "      <td>wed</td>\n",
       "      <td>38.648084</td>\n",
       "      <td>38.057377</td>\n",
       "      <td>-41.564228</td>\n",
       "      <td>-41.545902</td>\n",
       "      <td>94.246445</td>\n",
       "      <td>94.295967</td>\n",
       "      <td>260.967480</td>\n",
       "      <td>247.926230</td>\n",
       "      <td>0.673635</td>\n",
       "      <td>0.758197</td>\n",
       "      <td>4.230779</td>\n",
       "      <td>4.245426</td>\n",
       "      <td>5195.803600</td>\n",
       "      <td>5195.018852</td>\n",
       "      <td>962.068525</td>\n",
       "      <td>966.368852</td>\n",
       "      <td>0.101045</td>\n",
       "      <td>0.131148</td>\n",
       "    </tr>\n",
       "    <tr>\n",
       "      <td rowspan=\"5\" valign=\"top\">mar</td>\n",
       "      <td>fri</td>\n",
       "      <td>37.447059</td>\n",
       "      <td>39.777778</td>\n",
       "      <td>-42.847059</td>\n",
       "      <td>-44.933333</td>\n",
       "      <td>93.090529</td>\n",
       "      <td>93.018333</td>\n",
       "      <td>236.647059</td>\n",
       "      <td>602.222222</td>\n",
       "      <td>-1.800000</td>\n",
       "      <td>-1.800000</td>\n",
       "      <td>1.145153</td>\n",
       "      <td>1.313556</td>\n",
       "      <td>5056.558824</td>\n",
       "      <td>5068.966667</td>\n",
       "      <td>823.964706</td>\n",
       "      <td>999.000000</td>\n",
       "      <td>0.505882</td>\n",
       "      <td>0.111111</td>\n",
       "    </tr>\n",
       "    <tr>\n",
       "      <td>mon</td>\n",
       "      <td>42.488189</td>\n",
       "      <td>38.937500</td>\n",
       "      <td>-42.220472</td>\n",
       "      <td>-46.200000</td>\n",
       "      <td>93.112213</td>\n",
       "      <td>92.974500</td>\n",
       "      <td>230.417323</td>\n",
       "      <td>173.062500</td>\n",
       "      <td>-1.800000</td>\n",
       "      <td>-1.800000</td>\n",
       "      <td>1.149953</td>\n",
       "      <td>1.424250</td>\n",
       "      <td>5052.832283</td>\n",
       "      <td>5076.500000</td>\n",
       "      <td>827.023622</td>\n",
       "      <td>936.750000</td>\n",
       "      <td>0.543307</td>\n",
       "      <td>0.500000</td>\n",
       "    </tr>\n",
       "    <tr>\n",
       "      <td>thu</td>\n",
       "      <td>38.964286</td>\n",
       "      <td>39.400000</td>\n",
       "      <td>-41.676190</td>\n",
       "      <td>-44.933333</td>\n",
       "      <td>93.131048</td>\n",
       "      <td>93.018333</td>\n",
       "      <td>242.392857</td>\n",
       "      <td>200.000000</td>\n",
       "      <td>-1.800000</td>\n",
       "      <td>-1.800000</td>\n",
       "      <td>1.099738</td>\n",
       "      <td>1.321467</td>\n",
       "      <td>5049.595238</td>\n",
       "      <td>5068.966667</td>\n",
       "      <td>845.571429</td>\n",
       "      <td>866.866667</td>\n",
       "      <td>0.535714</td>\n",
       "      <td>0.400000</td>\n",
       "    </tr>\n",
       "    <tr>\n",
       "      <td>tue</td>\n",
       "      <td>39.860870</td>\n",
       "      <td>35.600000</td>\n",
       "      <td>-42.730435</td>\n",
       "      <td>-42.096000</td>\n",
       "      <td>93.094565</td>\n",
       "      <td>93.116520</td>\n",
       "      <td>272.860870</td>\n",
       "      <td>227.400000</td>\n",
       "      <td>-1.800000</td>\n",
       "      <td>-1.800000</td>\n",
       "      <td>1.172183</td>\n",
       "      <td>1.112600</td>\n",
       "      <td>5055.865217</td>\n",
       "      <td>5052.092000</td>\n",
       "      <td>826.321739</td>\n",
       "      <td>721.560000</td>\n",
       "      <td>0.443478</td>\n",
       "      <td>0.600000</td>\n",
       "    </tr>\n",
       "    <tr>\n",
       "      <td>wed</td>\n",
       "      <td>47.966102</td>\n",
       "      <td>48.818182</td>\n",
       "      <td>-42.271186</td>\n",
       "      <td>-45.854545</td>\n",
       "      <td>93.110458</td>\n",
       "      <td>92.986455</td>\n",
       "      <td>232.661017</td>\n",
       "      <td>233.454545</td>\n",
       "      <td>-1.800000</td>\n",
       "      <td>-1.800000</td>\n",
       "      <td>1.134288</td>\n",
       "      <td>1.375273</td>\n",
       "      <td>5053.133898</td>\n",
       "      <td>5074.445455</td>\n",
       "      <td>847.694915</td>\n",
       "      <td>909.000000</td>\n",
       "      <td>0.372881</td>\n",
       "      <td>0.363636</td>\n",
       "    </tr>\n",
       "    <tr>\n",
       "      <td rowspan=\"5\" valign=\"top\">may</td>\n",
       "      <td>fri</td>\n",
       "      <td>38.838028</td>\n",
       "      <td>38.504505</td>\n",
       "      <td>-40.376802</td>\n",
       "      <td>-40.528378</td>\n",
       "      <td>93.551609</td>\n",
       "      <td>93.537286</td>\n",
       "      <td>264.574151</td>\n",
       "      <td>252.551802</td>\n",
       "      <td>-0.104930</td>\n",
       "      <td>-0.167117</td>\n",
       "      <td>3.361957</td>\n",
       "      <td>3.278586</td>\n",
       "      <td>5151.430613</td>\n",
       "      <td>5148.605856</td>\n",
       "      <td>988.723695</td>\n",
       "      <td>983.353604</td>\n",
       "      <td>0.168186</td>\n",
       "      <td>0.137387</td>\n",
       "    </tr>\n",
       "    <tr>\n",
       "      <td>mon</td>\n",
       "      <td>39.648282</td>\n",
       "      <td>39.690698</td>\n",
       "      <td>-41.038246</td>\n",
       "      <td>-40.979535</td>\n",
       "      <td>93.476404</td>\n",
       "      <td>93.484833</td>\n",
       "      <td>251.614828</td>\n",
       "      <td>236.139535</td>\n",
       "      <td>-0.294937</td>\n",
       "      <td>-0.289302</td>\n",
       "      <td>3.132542</td>\n",
       "      <td>3.138333</td>\n",
       "      <td>5145.691501</td>\n",
       "      <td>5145.291628</td>\n",
       "      <td>975.214738</td>\n",
       "      <td>971.320930</td>\n",
       "      <td>0.154611</td>\n",
       "      <td>0.167442</td>\n",
       "    </tr>\n",
       "    <tr>\n",
       "      <td>thu</td>\n",
       "      <td>38.189744</td>\n",
       "      <td>37.905612</td>\n",
       "      <td>-40.852401</td>\n",
       "      <td>-41.689286</td>\n",
       "      <td>93.499796</td>\n",
       "      <td>93.404880</td>\n",
       "      <td>266.936597</td>\n",
       "      <td>262.280612</td>\n",
       "      <td>-0.256037</td>\n",
       "      <td>-0.497959</td>\n",
       "      <td>3.179143</td>\n",
       "      <td>2.883194</td>\n",
       "      <td>5146.131142</td>\n",
       "      <td>5138.746939</td>\n",
       "      <td>980.033566</td>\n",
       "      <td>981.270408</td>\n",
       "      <td>0.172494</td>\n",
       "      <td>0.211735</td>\n",
       "    </tr>\n",
       "    <tr>\n",
       "      <td>tue</td>\n",
       "      <td>39.620732</td>\n",
       "      <td>39.410053</td>\n",
       "      <td>-40.175895</td>\n",
       "      <td>-40.074603</td>\n",
       "      <td>93.573207</td>\n",
       "      <td>93.582685</td>\n",
       "      <td>263.159605</td>\n",
       "      <td>262.740741</td>\n",
       "      <td>-0.039243</td>\n",
       "      <td>0.002910</td>\n",
       "      <td>3.454872</td>\n",
       "      <td>3.510468</td>\n",
       "      <td>5153.819375</td>\n",
       "      <td>5155.755291</td>\n",
       "      <td>982.242698</td>\n",
       "      <td>983.238095</td>\n",
       "      <td>0.153023</td>\n",
       "      <td>0.137566</td>\n",
       "    </tr>\n",
       "    <tr>\n",
       "      <td>wed</td>\n",
       "      <td>38.967690</td>\n",
       "      <td>38.756152</td>\n",
       "      <td>-40.295315</td>\n",
       "      <td>-40.976286</td>\n",
       "      <td>93.561464</td>\n",
       "      <td>93.481150</td>\n",
       "      <td>264.164782</td>\n",
       "      <td>267.228188</td>\n",
       "      <td>-0.085299</td>\n",
       "      <td>-0.262416</td>\n",
       "      <td>3.393201</td>\n",
       "      <td>3.184702</td>\n",
       "      <td>5151.831826</td>\n",
       "      <td>5147.421029</td>\n",
       "      <td>978.154685</td>\n",
       "      <td>990.109620</td>\n",
       "      <td>0.172456</td>\n",
       "      <td>0.170022</td>\n",
       "    </tr>\n",
       "    <tr>\n",
       "      <td rowspan=\"5\" valign=\"top\">nov</td>\n",
       "      <td>fri</td>\n",
       "      <td>43.699357</td>\n",
       "      <td>43.187970</td>\n",
       "      <td>-41.474437</td>\n",
       "      <td>-41.529323</td>\n",
       "      <td>93.214814</td>\n",
       "      <td>93.186925</td>\n",
       "      <td>230.228296</td>\n",
       "      <td>217.263158</td>\n",
       "      <td>-0.361897</td>\n",
       "      <td>-0.256391</td>\n",
       "      <td>3.694563</td>\n",
       "      <td>3.850962</td>\n",
       "      <td>5175.634244</td>\n",
       "      <td>5186.010526</td>\n",
       "      <td>957.442122</td>\n",
       "      <td>961.601504</td>\n",
       "      <td>0.279743</td>\n",
       "      <td>0.233083</td>\n",
       "    </tr>\n",
       "    <tr>\n",
       "      <td>mon</td>\n",
       "      <td>42.654079</td>\n",
       "      <td>41.250000</td>\n",
       "      <td>-40.668429</td>\n",
       "      <td>-40.423077</td>\n",
       "      <td>93.192644</td>\n",
       "      <td>93.160433</td>\n",
       "      <td>241.891239</td>\n",
       "      <td>201.250000</td>\n",
       "      <td>-0.630363</td>\n",
       "      <td>-0.636538</td>\n",
       "      <td>3.538275</td>\n",
       "      <td>3.568173</td>\n",
       "      <td>5158.801057</td>\n",
       "      <td>5161.671154</td>\n",
       "      <td>935.957704</td>\n",
       "      <td>951.192308</td>\n",
       "      <td>0.338369</td>\n",
       "      <td>0.336538</td>\n",
       "    </tr>\n",
       "    <tr>\n",
       "      <td>thu</td>\n",
       "      <td>38.853129</td>\n",
       "      <td>38.833333</td>\n",
       "      <td>-41.537548</td>\n",
       "      <td>-41.750000</td>\n",
       "      <td>93.203762</td>\n",
       "      <td>93.207750</td>\n",
       "      <td>254.422733</td>\n",
       "      <td>311.358333</td>\n",
       "      <td>-0.302937</td>\n",
       "      <td>-0.226667</td>\n",
       "      <td>3.829737</td>\n",
       "      <td>3.911717</td>\n",
       "      <td>5180.966922</td>\n",
       "      <td>5185.986667</td>\n",
       "      <td>962.197957</td>\n",
       "      <td>982.433333</td>\n",
       "      <td>0.232439</td>\n",
       "      <td>0.175000</td>\n",
       "    </tr>\n",
       "    <tr>\n",
       "      <td>tue</td>\n",
       "      <td>41.166189</td>\n",
       "      <td>42.974138</td>\n",
       "      <td>-41.240401</td>\n",
       "      <td>-41.072414</td>\n",
       "      <td>93.213004</td>\n",
       "      <td>93.197034</td>\n",
       "      <td>227.746418</td>\n",
       "      <td>215.112069</td>\n",
       "      <td>-0.453582</td>\n",
       "      <td>-0.475862</td>\n",
       "      <td>3.704950</td>\n",
       "      <td>3.699948</td>\n",
       "      <td>5169.293410</td>\n",
       "      <td>5169.348276</td>\n",
       "      <td>940.614613</td>\n",
       "      <td>973.293103</td>\n",
       "      <td>0.353868</td>\n",
       "      <td>0.267241</td>\n",
       "    </tr>\n",
       "    <tr>\n",
       "      <td>wed</td>\n",
       "      <td>39.347945</td>\n",
       "      <td>37.766917</td>\n",
       "      <td>-41.320411</td>\n",
       "      <td>-40.790226</td>\n",
       "      <td>93.197125</td>\n",
       "      <td>93.161421</td>\n",
       "      <td>271.731507</td>\n",
       "      <td>272.436090</td>\n",
       "      <td>-0.373288</td>\n",
       "      <td>-0.487218</td>\n",
       "      <td>3.794441</td>\n",
       "      <td>3.696406</td>\n",
       "      <td>5176.640959</td>\n",
       "      <td>5172.199248</td>\n",
       "      <td>963.600000</td>\n",
       "      <td>916.744361</td>\n",
       "      <td>0.286301</td>\n",
       "      <td>0.375940</td>\n",
       "    </tr>\n",
       "    <tr>\n",
       "      <td rowspan=\"5\" valign=\"top\">oct</td>\n",
       "      <td>fri</td>\n",
       "      <td>41.984252</td>\n",
       "      <td>39.533333</td>\n",
       "      <td>-34.722835</td>\n",
       "      <td>-35.333333</td>\n",
       "      <td>93.190488</td>\n",
       "      <td>93.245467</td>\n",
       "      <td>294.488189</td>\n",
       "      <td>246.266667</td>\n",
       "      <td>-2.376378</td>\n",
       "      <td>-2.413333</td>\n",
       "      <td>1.300260</td>\n",
       "      <td>1.108933</td>\n",
       "      <td>5023.704724</td>\n",
       "      <td>5011.420000</td>\n",
       "      <td>764.519685</td>\n",
       "      <td>734.733333</td>\n",
       "      <td>0.645669</td>\n",
       "      <td>0.600000</td>\n",
       "    </tr>\n",
       "    <tr>\n",
       "      <td>mon</td>\n",
       "      <td>41.875000</td>\n",
       "      <td>43.120000</td>\n",
       "      <td>-38.064423</td>\n",
       "      <td>-39.544000</td>\n",
       "      <td>93.509106</td>\n",
       "      <td>93.659200</td>\n",
       "      <td>274.221154</td>\n",
       "      <td>391.320000</td>\n",
       "      <td>-2.097115</td>\n",
       "      <td>-1.728000</td>\n",
       "      <td>1.218317</td>\n",
       "      <td>1.696320</td>\n",
       "      <td>5009.089423</td>\n",
       "      <td>5029.444000</td>\n",
       "      <td>770.076923</td>\n",
       "      <td>800.120000</td>\n",
       "      <td>0.750000</td>\n",
       "      <td>0.520000</td>\n",
       "    </tr>\n",
       "    <tr>\n",
       "      <td>thu</td>\n",
       "      <td>46.682432</td>\n",
       "      <td>43.800000</td>\n",
       "      <td>-33.127027</td>\n",
       "      <td>-31.420000</td>\n",
       "      <td>93.032730</td>\n",
       "      <td>92.865000</td>\n",
       "      <td>259.986486</td>\n",
       "      <td>310.866667</td>\n",
       "      <td>-2.662162</td>\n",
       "      <td>-2.940000</td>\n",
       "      <td>1.022926</td>\n",
       "      <td>0.778333</td>\n",
       "      <td>5014.027027</td>\n",
       "      <td>5006.720000</td>\n",
       "      <td>743.952703</td>\n",
       "      <td>932.600000</td>\n",
       "      <td>0.668919</td>\n",
       "      <td>0.266667</td>\n",
       "    </tr>\n",
       "    <tr>\n",
       "      <td>tue</td>\n",
       "      <td>44.907692</td>\n",
       "      <td>46.526316</td>\n",
       "      <td>-32.593846</td>\n",
       "      <td>-32.847368</td>\n",
       "      <td>92.987508</td>\n",
       "      <td>93.002053</td>\n",
       "      <td>275.384615</td>\n",
       "      <td>221.315789</td>\n",
       "      <td>-2.553846</td>\n",
       "      <td>-2.794737</td>\n",
       "      <td>1.361092</td>\n",
       "      <td>0.805053</td>\n",
       "      <td>5033.066154</td>\n",
       "      <td>5003.315789</td>\n",
       "      <td>869.261538</td>\n",
       "      <td>580.368421</td>\n",
       "      <td>0.530769</td>\n",
       "      <td>1.210526</td>\n",
       "    </tr>\n",
       "    <tr>\n",
       "      <td>wed</td>\n",
       "      <td>45.218487</td>\n",
       "      <td>43.000000</td>\n",
       "      <td>-34.794958</td>\n",
       "      <td>-35.375000</td>\n",
       "      <td>93.195597</td>\n",
       "      <td>93.244750</td>\n",
       "      <td>334.352941</td>\n",
       "      <td>294.875000</td>\n",
       "      <td>-2.418487</td>\n",
       "      <td>-2.537500</td>\n",
       "      <td>1.194412</td>\n",
       "      <td>0.835437</td>\n",
       "      <td>5018.128571</td>\n",
       "      <td>4997.287500</td>\n",
       "      <td>790.470588</td>\n",
       "      <td>688.375000</td>\n",
       "      <td>0.638655</td>\n",
       "      <td>0.750000</td>\n",
       "    </tr>\n",
       "    <tr>\n",
       "      <td rowspan=\"5\" valign=\"top\">sep</td>\n",
       "      <td>fri</td>\n",
       "      <td>46.560000</td>\n",
       "      <td>46.000000</td>\n",
       "      <td>-32.572000</td>\n",
       "      <td>-32.880000</td>\n",
       "      <td>93.034200</td>\n",
       "      <td>93.107000</td>\n",
       "      <td>290.780000</td>\n",
       "      <td>206.933333</td>\n",
       "      <td>-2.572000</td>\n",
       "      <td>-2.480000</td>\n",
       "      <td>0.813560</td>\n",
       "      <td>0.827667</td>\n",
       "      <td>4998.096000</td>\n",
       "      <td>4995.940000</td>\n",
       "      <td>780.380000</td>\n",
       "      <td>866.600000</td>\n",
       "      <td>0.840000</td>\n",
       "      <td>0.466667</td>\n",
       "    </tr>\n",
       "    <tr>\n",
       "      <td>mon</td>\n",
       "      <td>41.679012</td>\n",
       "      <td>39.222222</td>\n",
       "      <td>-34.648148</td>\n",
       "      <td>-33.222222</td>\n",
       "      <td>93.524926</td>\n",
       "      <td>93.187889</td>\n",
       "      <td>281.814815</td>\n",
       "      <td>241.222222</td>\n",
       "      <td>-1.951852</td>\n",
       "      <td>-2.377778</td>\n",
       "      <td>0.845617</td>\n",
       "      <td>0.831556</td>\n",
       "      <td>4983.562963</td>\n",
       "      <td>4993.544444</td>\n",
       "      <td>802.802469</td>\n",
       "      <td>778.000000</td>\n",
       "      <td>0.802469</td>\n",
       "      <td>0.666667</td>\n",
       "    </tr>\n",
       "    <tr>\n",
       "      <td>thu</td>\n",
       "      <td>40.972222</td>\n",
       "      <td>40.428571</td>\n",
       "      <td>-35.503704</td>\n",
       "      <td>-34.200000</td>\n",
       "      <td>93.727148</td>\n",
       "      <td>93.419000</td>\n",
       "      <td>319.657407</td>\n",
       "      <td>329.285714</td>\n",
       "      <td>-1.696296</td>\n",
       "      <td>-2.085714</td>\n",
       "      <td>0.857630</td>\n",
       "      <td>0.839857</td>\n",
       "      <td>4977.574074</td>\n",
       "      <td>4986.700000</td>\n",
       "      <td>714.148148</td>\n",
       "      <td>503.428571</td>\n",
       "      <td>0.879630</td>\n",
       "      <td>0.928571</td>\n",
       "    </tr>\n",
       "    <tr>\n",
       "      <td>tue</td>\n",
       "      <td>46.607843</td>\n",
       "      <td>42.937500</td>\n",
       "      <td>-32.593137</td>\n",
       "      <td>-32.206250</td>\n",
       "      <td>93.039196</td>\n",
       "      <td>92.947750</td>\n",
       "      <td>285.460784</td>\n",
       "      <td>192.500000</td>\n",
       "      <td>-2.565686</td>\n",
       "      <td>-2.681250</td>\n",
       "      <td>0.819265</td>\n",
       "      <td>0.816313</td>\n",
       "      <td>4997.948039</td>\n",
       "      <td>5000.656250</td>\n",
       "      <td>648.127451</td>\n",
       "      <td>688.000000</td>\n",
       "      <td>0.823529</td>\n",
       "      <td>0.750000</td>\n",
       "    </tr>\n",
       "    <tr>\n",
       "      <td>wed</td>\n",
       "      <td>42.340206</td>\n",
       "      <td>44.642857</td>\n",
       "      <td>-34.562887</td>\n",
       "      <td>-34.200000</td>\n",
       "      <td>93.504773</td>\n",
       "      <td>93.419000</td>\n",
       "      <td>319.453608</td>\n",
       "      <td>364.107143</td>\n",
       "      <td>-1.977320</td>\n",
       "      <td>-2.085714</td>\n",
       "      <td>0.840887</td>\n",
       "      <td>0.838893</td>\n",
       "      <td>4984.159794</td>\n",
       "      <td>4986.700000</td>\n",
       "      <td>641.020619</td>\n",
       "      <td>821.714286</td>\n",
       "      <td>0.948454</td>\n",
       "      <td>0.571429</td>\n",
       "    </tr>\n",
       "  </tbody>\n",
       "</table>\n",
       "</div>"
      ],
      "text/plain": [
       "                         age            cons.conf.idx             \\\n",
       "loan                      no        yes            no        yes   \n",
       "month day_of_week                                                  \n",
       "apr   fri          40.060665  37.919192    -46.659687 -46.216162   \n",
       "      mon          40.205042  41.822430    -46.238655 -46.632710   \n",
       "      thu          40.100763  41.247788    -46.241221 -45.993805   \n",
       "      tue          43.370892  40.769231    -45.574178 -44.535897   \n",
       "      wed          42.224409  37.847826    -46.460236 -46.556522   \n",
       "aug   fri          41.117325  41.246835    -35.408991 -35.412025   \n",
       "      mon          41.548325  40.966102    -35.669761 -35.832768   \n",
       "      thu          41.218667  40.864865    -35.593067 -35.642793   \n",
       "      tue          42.484821  40.732955    -35.630268 -35.600000   \n",
       "      wed          42.333969  41.189744    -35.603340 -35.770769   \n",
       "dec   fri          44.700000  46.500000    -34.290000 -36.225000   \n",
       "      mon          43.200000  47.769231    -33.322500 -34.984615   \n",
       "      thu          52.424242  56.583333    -33.390909 -34.075000   \n",
       "      tue          40.772727  51.000000    -33.586364 -33.000000   \n",
       "      wed          50.060606  35.000000    -33.390909 -33.000000   \n",
       "jul   fri          39.396450  41.053892    -42.272308 -42.375449   \n",
       "      mon          40.062954  40.061372    -42.517353 -42.504332   \n",
       "      thu          38.533808  40.595506    -42.363274 -42.319476   \n",
       "      tue          39.134540  39.768293    -42.328639 -42.240244   \n",
       "      wed          37.553398  37.294118    -42.354207 -42.324887   \n",
       "jun   fri          40.550620  40.022346    -41.668802 -41.649162   \n",
       "      mon          39.667286  38.645714    -41.557435 -41.600000   \n",
       "      thu          40.900718  39.450382    -41.670813 -41.540458   \n",
       "      tue          39.471883  39.776316    -41.439364 -41.457895   \n",
       "      wed          38.648084  38.057377    -41.564228 -41.545902   \n",
       "mar   fri          37.447059  39.777778    -42.847059 -44.933333   \n",
       "      mon          42.488189  38.937500    -42.220472 -46.200000   \n",
       "      thu          38.964286  39.400000    -41.676190 -44.933333   \n",
       "      tue          39.860870  35.600000    -42.730435 -42.096000   \n",
       "      wed          47.966102  48.818182    -42.271186 -45.854545   \n",
       "may   fri          38.838028  38.504505    -40.376802 -40.528378   \n",
       "      mon          39.648282  39.690698    -41.038246 -40.979535   \n",
       "      thu          38.189744  37.905612    -40.852401 -41.689286   \n",
       "      tue          39.620732  39.410053    -40.175895 -40.074603   \n",
       "      wed          38.967690  38.756152    -40.295315 -40.976286   \n",
       "nov   fri          43.699357  43.187970    -41.474437 -41.529323   \n",
       "      mon          42.654079  41.250000    -40.668429 -40.423077   \n",
       "      thu          38.853129  38.833333    -41.537548 -41.750000   \n",
       "      tue          41.166189  42.974138    -41.240401 -41.072414   \n",
       "      wed          39.347945  37.766917    -41.320411 -40.790226   \n",
       "oct   fri          41.984252  39.533333    -34.722835 -35.333333   \n",
       "      mon          41.875000  43.120000    -38.064423 -39.544000   \n",
       "      thu          46.682432  43.800000    -33.127027 -31.420000   \n",
       "      tue          44.907692  46.526316    -32.593846 -32.847368   \n",
       "      wed          45.218487  43.000000    -34.794958 -35.375000   \n",
       "sep   fri          46.560000  46.000000    -32.572000 -32.880000   \n",
       "      mon          41.679012  39.222222    -34.648148 -33.222222   \n",
       "      thu          40.972222  40.428571    -35.503704 -34.200000   \n",
       "      tue          46.607843  42.937500    -32.593137 -32.206250   \n",
       "      wed          42.340206  44.642857    -34.562887 -34.200000   \n",
       "\n",
       "                  cons.price.idx               duration              \\\n",
       "loan                          no        yes          no         yes   \n",
       "month day_of_week                                                     \n",
       "apr   fri              93.098742  93.122657  312.019569  283.626263   \n",
       "      mon              93.121444  93.100196  245.028571  242.943925   \n",
       "      thu              93.121305  93.134646  324.404580  331.106195   \n",
       "      tue              93.157272  93.213256  264.896714  365.923077   \n",
       "      wed              93.109496  93.104304  304.751969  312.934783   \n",
       "aug   fri              93.261294  93.262082  212.380482  220.056962   \n",
       "      mon              93.330274  93.373339  231.148325  207.192090   \n",
       "      thu              93.309976  93.323099  224.836444  267.527027   \n",
       "      tue              93.319818  93.311812  246.083036  253.562500   \n",
       "      wed              93.312693  93.356959  238.503817  239.743590   \n",
       "dec   fri              92.717300  92.723750  304.950000  398.000000   \n",
       "      mon              92.714075  92.719615  416.300000  331.153846   \n",
       "      thu              92.714303  92.716583  321.393939  420.416667   \n",
       "      tue              92.714955  92.713000  351.181818  194.333333   \n",
       "      wed              92.714303  92.713000  288.000000  394.500000   \n",
       "jul   fri              93.891692  93.927323  300.559763  276.808383   \n",
       "      mon              93.913584  93.923621  259.443099  267.007220   \n",
       "      thu              93.899186  93.887933  264.804270  264.434457   \n",
       "      tue              93.882913  93.880683  278.101495  288.512195   \n",
       "      wed              93.881621  93.882855  273.933657  272.719457   \n",
       "jun   fri              94.318855  94.339883  204.236570  195.351955   \n",
       "      mon              94.197099  94.283183  239.628253  231.765714   \n",
       "      thu              94.342328  94.213779  259.901914  270.938931   \n",
       "      tue              94.123108  94.070618  254.536675  282.572368   \n",
       "      wed              94.246445  94.295967  260.967480  247.926230   \n",
       "mar   fri              93.090529  93.018333  236.647059  602.222222   \n",
       "      mon              93.112213  92.974500  230.417323  173.062500   \n",
       "      thu              93.131048  93.018333  242.392857  200.000000   \n",
       "      tue              93.094565  93.116520  272.860870  227.400000   \n",
       "      wed              93.110458  92.986455  232.661017  233.454545   \n",
       "may   fri              93.551609  93.537286  264.574151  252.551802   \n",
       "      mon              93.476404  93.484833  251.614828  236.139535   \n",
       "      thu              93.499796  93.404880  266.936597  262.280612   \n",
       "      tue              93.573207  93.582685  263.159605  262.740741   \n",
       "      wed              93.561464  93.481150  264.164782  267.228188   \n",
       "nov   fri              93.214814  93.186925  230.228296  217.263158   \n",
       "      mon              93.192644  93.160433  241.891239  201.250000   \n",
       "      thu              93.203762  93.207750  254.422733  311.358333   \n",
       "      tue              93.213004  93.197034  227.746418  215.112069   \n",
       "      wed              93.197125  93.161421  271.731507  272.436090   \n",
       "oct   fri              93.190488  93.245467  294.488189  246.266667   \n",
       "      mon              93.509106  93.659200  274.221154  391.320000   \n",
       "      thu              93.032730  92.865000  259.986486  310.866667   \n",
       "      tue              92.987508  93.002053  275.384615  221.315789   \n",
       "      wed              93.195597  93.244750  334.352941  294.875000   \n",
       "sep   fri              93.034200  93.107000  290.780000  206.933333   \n",
       "      mon              93.524926  93.187889  281.814815  241.222222   \n",
       "      thu              93.727148  93.419000  319.657407  329.285714   \n",
       "      tue              93.039196  92.947750  285.460784  192.500000   \n",
       "      wed              93.504773  93.419000  319.453608  364.107143   \n",
       "\n",
       "                  emp.var.rate           euribor3m            nr.employed  \\\n",
       "loan                        no       yes        no       yes           no   \n",
       "month day_of_week                                                           \n",
       "apr   fri            -1.800000 -1.800000  1.386033  1.358616  5095.915656   \n",
       "      mon            -1.800000 -1.800000  1.356995  1.381561  5092.870756   \n",
       "      thu            -1.800000 -1.800000  1.346858  1.332602  5092.889313   \n",
       "      tue            -1.800000 -1.800000  1.333108  1.268333  5088.065258   \n",
       "      wed            -1.800000 -1.800000  1.392209  1.402565  5094.473228   \n",
       "aug   fri             0.577193  0.641139  4.138360  4.211405  5194.299561   \n",
       "      mon             0.751962  1.097740  4.291390  4.664322  5198.888517   \n",
       "      thu             0.745333  0.912613  4.299138  4.485622  5200.232533   \n",
       "      tue             0.764821  0.739205  4.315256  4.291318  5200.559643   \n",
       "      wed             0.755344  0.967692  4.309628  4.525077  5200.601336   \n",
       "dec   fri            -2.720000 -2.300000  0.985250  1.425250  5038.780000   \n",
       "      mon            -2.930000 -2.569231  0.789900  1.104923  5027.320000   \n",
       "      thu            -2.915152 -2.766667  0.792091  0.959667  5028.130303   \n",
       "      tue            -2.872727 -3.000000  0.832773  0.709667  5030.445455   \n",
       "      wed            -2.915152 -3.000000  0.805485  0.718000  5028.130303   \n",
       "jul   fri             1.076923  1.070060  4.587335  4.544293  5208.872308   \n",
       "      mon             1.242292  1.201083  4.769957  4.709271  5217.916626   \n",
       "      thu             1.140142  1.131835  4.660877  4.660419  5212.412669   \n",
       "      tue             1.154917  1.078862  4.691218  4.595565  5214.946184   \n",
       "      wed             1.182524  1.151584  4.727307  4.690267  5216.924272   \n",
       "jun   fri             0.943802  0.966480  4.538610  4.527123  5209.491942   \n",
       "      mon             0.561431  0.791429  4.152864  4.331577  5193.756227   \n",
       "      thu             0.995813  0.577863  4.534597  4.143435  5210.328110   \n",
       "      tue             0.272861  0.182237  3.832543  3.806730  5178.502689   \n",
       "      wed             0.673635  0.758197  4.230779  4.245426  5195.803600   \n",
       "mar   fri            -1.800000 -1.800000  1.145153  1.313556  5056.558824   \n",
       "      mon            -1.800000 -1.800000  1.149953  1.424250  5052.832283   \n",
       "      thu            -1.800000 -1.800000  1.099738  1.321467  5049.595238   \n",
       "      tue            -1.800000 -1.800000  1.172183  1.112600  5055.865217   \n",
       "      wed            -1.800000 -1.800000  1.134288  1.375273  5053.133898   \n",
       "may   fri            -0.104930 -0.167117  3.361957  3.278586  5151.430613   \n",
       "      mon            -0.294937 -0.289302  3.132542  3.138333  5145.691501   \n",
       "      thu            -0.256037 -0.497959  3.179143  2.883194  5146.131142   \n",
       "      tue            -0.039243  0.002910  3.454872  3.510468  5153.819375   \n",
       "      wed            -0.085299 -0.262416  3.393201  3.184702  5151.831826   \n",
       "nov   fri            -0.361897 -0.256391  3.694563  3.850962  5175.634244   \n",
       "      mon            -0.630363 -0.636538  3.538275  3.568173  5158.801057   \n",
       "      thu            -0.302937 -0.226667  3.829737  3.911717  5180.966922   \n",
       "      tue            -0.453582 -0.475862  3.704950  3.699948  5169.293410   \n",
       "      wed            -0.373288 -0.487218  3.794441  3.696406  5176.640959   \n",
       "oct   fri            -2.376378 -2.413333  1.300260  1.108933  5023.704724   \n",
       "      mon            -2.097115 -1.728000  1.218317  1.696320  5009.089423   \n",
       "      thu            -2.662162 -2.940000  1.022926  0.778333  5014.027027   \n",
       "      tue            -2.553846 -2.794737  1.361092  0.805053  5033.066154   \n",
       "      wed            -2.418487 -2.537500  1.194412  0.835437  5018.128571   \n",
       "sep   fri            -2.572000 -2.480000  0.813560  0.827667  4998.096000   \n",
       "      mon            -1.951852 -2.377778  0.845617  0.831556  4983.562963   \n",
       "      thu            -1.696296 -2.085714  0.857630  0.839857  4977.574074   \n",
       "      tue            -2.565686 -2.681250  0.819265  0.816313  4997.948039   \n",
       "      wed            -1.977320 -2.085714  0.840887  0.838893  4984.159794   \n",
       "\n",
       "                                     pdays              previous            \n",
       "loan                       yes          no         yes        no       yes  \n",
       "month day_of_week                                                           \n",
       "apr   fri          5092.708081  981.493151  968.909091  0.356164  0.373737  \n",
       "      mon          5095.720561  970.657143  962.018692  0.294118  0.411215  \n",
       "      thu          5091.100000  923.039695  902.300885  0.340458  0.336283  \n",
       "      tue          5080.556410  961.741784  897.282051  0.291080  0.333333  \n",
       "      wed          5095.169565  967.744094  977.413043  0.259843  0.239130  \n",
       "aug   fri          5198.077848  955.440789  973.879747  0.139254  0.107595  \n",
       "      mon          5215.987571  958.151196  987.745763  0.132057  0.050847  \n",
       "      thu          5209.166667  961.936889  967.662162  0.107556  0.081081  \n",
       "      tue          5199.706250  972.415179  942.579545  0.096429  0.142045  \n",
       "      wed          5209.572308  951.587786  958.179487  0.123092  0.107692  \n",
       "dec   fri          5061.700000  701.000000  750.750000  0.500000  0.750000  \n",
       "      mon          5047.007692  726.075000  770.000000  0.700000  0.461538  \n",
       "      thu          5036.233333  758.242424  667.833333  0.757576  1.000000  \n",
       "      tue          5023.500000  773.454545  337.000000  0.363636  1.333333  \n",
       "      wed          5023.500000  818.484848  999.000000  0.484848  0.000000  \n",
       "jul   fri          5205.038323  970.862722  993.065868  0.071006  0.035928  \n",
       "      mon          5214.196390  989.430186  984.649819  0.029863  0.046931  \n",
       "      thu          5212.919476  978.549466  972.966292  0.062633  0.078652  \n",
       "      tue          5210.044715  983.398899  970.825203  0.039339  0.073171  \n",
       "      wed          5214.727602  990.984628  980.986425  0.028317  0.045249  \n",
       "jun   fri          5207.819553  983.610537  960.072626  0.037190  0.072626  \n",
       "      mon          5200.796571  974.053903  970.605714  0.073420  0.085714  \n",
       "      thu          5192.271756  984.741627  983.862595  0.037081  0.068702  \n",
       "      tue          5179.233553  947.980440  946.684211  0.160147  0.164474  \n",
       "      wed          5195.018852  962.068525  966.368852  0.101045  0.131148  \n",
       "mar   fri          5068.966667  823.964706  999.000000  0.505882  0.111111  \n",
       "      mon          5076.500000  827.023622  936.750000  0.543307  0.500000  \n",
       "      thu          5068.966667  845.571429  866.866667  0.535714  0.400000  \n",
       "      tue          5052.092000  826.321739  721.560000  0.443478  0.600000  \n",
       "      wed          5074.445455  847.694915  909.000000  0.372881  0.363636  \n",
       "may   fri          5148.605856  988.723695  983.353604  0.168186  0.137387  \n",
       "      mon          5145.291628  975.214738  971.320930  0.154611  0.167442  \n",
       "      thu          5138.746939  980.033566  981.270408  0.172494  0.211735  \n",
       "      tue          5155.755291  982.242698  983.238095  0.153023  0.137566  \n",
       "      wed          5147.421029  978.154685  990.109620  0.172456  0.170022  \n",
       "nov   fri          5186.010526  957.442122  961.601504  0.279743  0.233083  \n",
       "      mon          5161.671154  935.957704  951.192308  0.338369  0.336538  \n",
       "      thu          5185.986667  962.197957  982.433333  0.232439  0.175000  \n",
       "      tue          5169.348276  940.614613  973.293103  0.353868  0.267241  \n",
       "      wed          5172.199248  963.600000  916.744361  0.286301  0.375940  \n",
       "oct   fri          5011.420000  764.519685  734.733333  0.645669  0.600000  \n",
       "      mon          5029.444000  770.076923  800.120000  0.750000  0.520000  \n",
       "      thu          5006.720000  743.952703  932.600000  0.668919  0.266667  \n",
       "      tue          5003.315789  869.261538  580.368421  0.530769  1.210526  \n",
       "      wed          4997.287500  790.470588  688.375000  0.638655  0.750000  \n",
       "sep   fri          4995.940000  780.380000  866.600000  0.840000  0.466667  \n",
       "      mon          4993.544444  802.802469  778.000000  0.802469  0.666667  \n",
       "      thu          4986.700000  714.148148  503.428571  0.879630  0.928571  \n",
       "      tue          5000.656250  648.127451  688.000000  0.823529  0.750000  \n",
       "      wed          4986.700000  641.020619  821.714286  0.948454  0.571429  "
      ]
     },
     "execution_count": 85,
     "metadata": {},
     "output_type": "execute_result"
    }
   ],
   "source": [
    "df.pivot_table(df,columns=[\"loan\"], index=[\"month\", \"day_of_week\"])"
   ]
  },
  {
   "cell_type": "code",
   "execution_count": 86,
   "metadata": {},
   "outputs": [
    {
     "data": {
      "text/html": [
       "<div>\n",
       "<style scoped>\n",
       "    .dataframe tbody tr th:only-of-type {\n",
       "        vertical-align: middle;\n",
       "    }\n",
       "\n",
       "    .dataframe tbody tr th {\n",
       "        vertical-align: top;\n",
       "    }\n",
       "\n",
       "    .dataframe thead tr th {\n",
       "        text-align: left;\n",
       "    }\n",
       "\n",
       "    .dataframe thead tr:last-of-type th {\n",
       "        text-align: right;\n",
       "    }\n",
       "</style>\n",
       "<table border=\"1\" class=\"dataframe\">\n",
       "  <thead>\n",
       "    <tr>\n",
       "      <th></th>\n",
       "      <th></th>\n",
       "      <th colspan=\"2\" halign=\"left\">age</th>\n",
       "      <th colspan=\"2\" halign=\"left\">cons.conf.idx</th>\n",
       "      <th colspan=\"2\" halign=\"left\">cons.price.idx</th>\n",
       "      <th colspan=\"2\" halign=\"left\">duration</th>\n",
       "      <th colspan=\"2\" halign=\"left\">emp.var.rate</th>\n",
       "      <th colspan=\"2\" halign=\"left\">euribor3m</th>\n",
       "      <th colspan=\"2\" halign=\"left\">nr.employed</th>\n",
       "      <th colspan=\"2\" halign=\"left\">pdays</th>\n",
       "      <th colspan=\"2\" halign=\"left\">previous</th>\n",
       "    </tr>\n",
       "    <tr>\n",
       "      <th></th>\n",
       "      <th>loan</th>\n",
       "      <th>no</th>\n",
       "      <th>yes</th>\n",
       "      <th>no</th>\n",
       "      <th>yes</th>\n",
       "      <th>no</th>\n",
       "      <th>yes</th>\n",
       "      <th>no</th>\n",
       "      <th>yes</th>\n",
       "      <th>no</th>\n",
       "      <th>yes</th>\n",
       "      <th>no</th>\n",
       "      <th>yes</th>\n",
       "      <th>no</th>\n",
       "      <th>yes</th>\n",
       "      <th>no</th>\n",
       "      <th>yes</th>\n",
       "      <th>no</th>\n",
       "      <th>yes</th>\n",
       "    </tr>\n",
       "    <tr>\n",
       "      <th>job</th>\n",
       "      <th>default</th>\n",
       "      <th></th>\n",
       "      <th></th>\n",
       "      <th></th>\n",
       "      <th></th>\n",
       "      <th></th>\n",
       "      <th></th>\n",
       "      <th></th>\n",
       "      <th></th>\n",
       "      <th></th>\n",
       "      <th></th>\n",
       "      <th></th>\n",
       "      <th></th>\n",
       "      <th></th>\n",
       "      <th></th>\n",
       "      <th></th>\n",
       "      <th></th>\n",
       "      <th></th>\n",
       "      <th></th>\n",
       "    </tr>\n",
       "  </thead>\n",
       "  <tbody>\n",
       "    <tr>\n",
       "      <td>admin.</td>\n",
       "      <td>no</td>\n",
       "      <td>38.396772</td>\n",
       "      <td>38.499717</td>\n",
       "      <td>-40.188203</td>\n",
       "      <td>-40.266101</td>\n",
       "      <td>93.540593</td>\n",
       "      <td>93.535331</td>\n",
       "      <td>254.930106</td>\n",
       "      <td>248.436333</td>\n",
       "      <td>0.024797</td>\n",
       "      <td>0.032541</td>\n",
       "      <td>3.564063</td>\n",
       "      <td>3.554628</td>\n",
       "      <td>5164.333478</td>\n",
       "      <td>5164.711715</td>\n",
       "      <td>953.250751</td>\n",
       "      <td>956.840407</td>\n",
       "      <td>0.191430</td>\n",
       "      <td>0.170345</td>\n",
       "    </tr>\n",
       "    <tr>\n",
       "      <td>blue-collar</td>\n",
       "      <td>no</td>\n",
       "      <td>39.599391</td>\n",
       "      <td>39.303807</td>\n",
       "      <td>-41.340581</td>\n",
       "      <td>-41.579283</td>\n",
       "      <td>93.660500</td>\n",
       "      <td>93.634460</td>\n",
       "      <td>265.344574</td>\n",
       "      <td>259.909956</td>\n",
       "      <td>0.255756</td>\n",
       "      <td>0.209956</td>\n",
       "      <td>3.779910</td>\n",
       "      <td>3.726293</td>\n",
       "      <td>5175.818763</td>\n",
       "      <td>5174.439385</td>\n",
       "      <td>984.529158</td>\n",
       "      <td>988.805271</td>\n",
       "      <td>0.122084</td>\n",
       "      <td>0.125183</td>\n",
       "    </tr>\n",
       "    <tr>\n",
       "      <td>entrepreneur</td>\n",
       "      <td>no</td>\n",
       "      <td>41.674400</td>\n",
       "      <td>42.019417</td>\n",
       "      <td>-41.177520</td>\n",
       "      <td>-41.927670</td>\n",
       "      <td>93.609346</td>\n",
       "      <td>93.581257</td>\n",
       "      <td>266.552000</td>\n",
       "      <td>243.339806</td>\n",
       "      <td>0.162960</td>\n",
       "      <td>0.133010</td>\n",
       "      <td>3.800028</td>\n",
       "      <td>3.737063</td>\n",
       "      <td>5176.154800</td>\n",
       "      <td>5177.276699</td>\n",
       "      <td>979.140800</td>\n",
       "      <td>994.169903</td>\n",
       "      <td>0.135200</td>\n",
       "      <td>0.160194</td>\n",
       "    </tr>\n",
       "    <tr>\n",
       "      <td>housemaid</td>\n",
       "      <td>no</td>\n",
       "      <td>45.639073</td>\n",
       "      <td>44.681818</td>\n",
       "      <td>-39.498675</td>\n",
       "      <td>-39.475325</td>\n",
       "      <td>93.676225</td>\n",
       "      <td>93.678643</td>\n",
       "      <td>250.748344</td>\n",
       "      <td>248.727273</td>\n",
       "      <td>0.430574</td>\n",
       "      <td>0.450000</td>\n",
       "      <td>4.005522</td>\n",
       "      <td>4.033903</td>\n",
       "      <td>5179.197020</td>\n",
       "      <td>5181.486364</td>\n",
       "      <td>961.716336</td>\n",
       "      <td>953.889610</td>\n",
       "      <td>0.136865</td>\n",
       "      <td>0.142857</td>\n",
       "    </tr>\n",
       "    <tr>\n",
       "      <td>management</td>\n",
       "      <td>no</td>\n",
       "      <td>42.484909</td>\n",
       "      <td>41.671982</td>\n",
       "      <td>-40.407807</td>\n",
       "      <td>-40.951708</td>\n",
       "      <td>93.525144</td>\n",
       "      <td>93.509232</td>\n",
       "      <td>256.874447</td>\n",
       "      <td>258.097950</td>\n",
       "      <td>-0.023260</td>\n",
       "      <td>0.047153</td>\n",
       "      <td>3.598505</td>\n",
       "      <td>3.683838</td>\n",
       "      <td>5165.610342</td>\n",
       "      <td>5172.538497</td>\n",
       "      <td>961.024145</td>\n",
       "      <td>971.833713</td>\n",
       "      <td>0.185513</td>\n",
       "      <td>0.182232</td>\n",
       "    </tr>\n",
       "    <tr>\n",
       "      <td>retired</td>\n",
       "      <td>no</td>\n",
       "      <td>61.886486</td>\n",
       "      <td>62.895833</td>\n",
       "      <td>-38.549189</td>\n",
       "      <td>-38.720417</td>\n",
       "      <td>93.434916</td>\n",
       "      <td>93.405321</td>\n",
       "      <td>270.761486</td>\n",
       "      <td>291.908333</td>\n",
       "      <td>-0.686486</td>\n",
       "      <td>-0.771250</td>\n",
       "      <td>2.780694</td>\n",
       "      <td>2.704529</td>\n",
       "      <td>5122.398108</td>\n",
       "      <td>5121.423750</td>\n",
       "      <td>903.689189</td>\n",
       "      <td>862.458333</td>\n",
       "      <td>0.320946</td>\n",
       "      <td>0.366667</td>\n",
       "    </tr>\n",
       "    <tr>\n",
       "      <td>self-employed</td>\n",
       "      <td>no</td>\n",
       "      <td>39.962480</td>\n",
       "      <td>39.866667</td>\n",
       "      <td>-40.503426</td>\n",
       "      <td>-40.391795</td>\n",
       "      <td>93.551629</td>\n",
       "      <td>93.612497</td>\n",
       "      <td>259.930669</td>\n",
       "      <td>290.620513</td>\n",
       "      <td>0.083116</td>\n",
       "      <td>0.163590</td>\n",
       "      <td>3.679094</td>\n",
       "      <td>3.754026</td>\n",
       "      <td>5170.409217</td>\n",
       "      <td>5172.341538</td>\n",
       "      <td>978.742251</td>\n",
       "      <td>963.287179</td>\n",
       "      <td>0.143556</td>\n",
       "      <td>0.143590</td>\n",
       "    </tr>\n",
       "    <tr>\n",
       "      <td>services</td>\n",
       "      <td>no</td>\n",
       "      <td>37.913599</td>\n",
       "      <td>37.998336</td>\n",
       "      <td>-41.286045</td>\n",
       "      <td>-41.312479</td>\n",
       "      <td>93.633582</td>\n",
       "      <td>93.640694</td>\n",
       "      <td>257.706651</td>\n",
       "      <td>262.272879</td>\n",
       "      <td>0.169329</td>\n",
       "      <td>0.209151</td>\n",
       "      <td>3.693218</td>\n",
       "      <td>3.732636</td>\n",
       "      <td>5171.358640</td>\n",
       "      <td>5172.953411</td>\n",
       "      <td>980.116093</td>\n",
       "      <td>979.178037</td>\n",
       "      <td>0.154097</td>\n",
       "      <td>0.159734</td>\n",
       "    </tr>\n",
       "    <tr>\n",
       "      <td>student</td>\n",
       "      <td>no</td>\n",
       "      <td>25.863574</td>\n",
       "      <td>26.056338</td>\n",
       "      <td>-40.013506</td>\n",
       "      <td>-41.085915</td>\n",
       "      <td>93.311368</td>\n",
       "      <td>93.436113</td>\n",
       "      <td>281.361528</td>\n",
       "      <td>295.669014</td>\n",
       "      <td>-1.434379</td>\n",
       "      <td>-1.271831</td>\n",
       "      <td>1.875368</td>\n",
       "      <td>1.929937</td>\n",
       "      <td>5085.765757</td>\n",
       "      <td>5086.833803</td>\n",
       "      <td>846.045020</td>\n",
       "      <td>810.133803</td>\n",
       "      <td>0.519782</td>\n",
       "      <td>0.549296</td>\n",
       "    </tr>\n",
       "    <tr>\n",
       "      <td rowspan=\"2\" valign=\"top\">technician</td>\n",
       "      <td>no</td>\n",
       "      <td>38.505389</td>\n",
       "      <td>38.501517</td>\n",
       "      <td>-39.900608</td>\n",
       "      <td>-40.092113</td>\n",
       "      <td>93.564843</td>\n",
       "      <td>93.542100</td>\n",
       "      <td>248.441412</td>\n",
       "      <td>260.952477</td>\n",
       "      <td>0.271193</td>\n",
       "      <td>0.291911</td>\n",
       "      <td>3.816409</td>\n",
       "      <td>3.841304</td>\n",
       "      <td>5175.287291</td>\n",
       "      <td>5177.642467</td>\n",
       "      <td>964.486092</td>\n",
       "      <td>963.884732</td>\n",
       "      <td>0.155772</td>\n",
       "      <td>0.142568</td>\n",
       "    </tr>\n",
       "    <tr>\n",
       "      <td>yes</td>\n",
       "      <td>48.000000</td>\n",
       "      <td>NaN</td>\n",
       "      <td>-36.100000</td>\n",
       "      <td>NaN</td>\n",
       "      <td>93.444000</td>\n",
       "      <td>NaN</td>\n",
       "      <td>99.500000</td>\n",
       "      <td>NaN</td>\n",
       "      <td>1.400000</td>\n",
       "      <td>NaN</td>\n",
       "      <td>4.963000</td>\n",
       "      <td>NaN</td>\n",
       "      <td>5228.100000</td>\n",
       "      <td>NaN</td>\n",
       "      <td>999.000000</td>\n",
       "      <td>NaN</td>\n",
       "      <td>0.000000</td>\n",
       "      <td>NaN</td>\n",
       "    </tr>\n",
       "    <tr>\n",
       "      <td rowspan=\"2\" valign=\"top\">unemployed</td>\n",
       "      <td>no</td>\n",
       "      <td>39.733796</td>\n",
       "      <td>39.791946</td>\n",
       "      <td>-40.110532</td>\n",
       "      <td>-39.397315</td>\n",
       "      <td>93.562263</td>\n",
       "      <td>93.575027</td>\n",
       "      <td>253.225694</td>\n",
       "      <td>228.496644</td>\n",
       "      <td>-0.127546</td>\n",
       "      <td>-0.020134</td>\n",
       "      <td>3.442772</td>\n",
       "      <td>3.600047</td>\n",
       "      <td>5156.580787</td>\n",
       "      <td>5160.235570</td>\n",
       "      <td>932.313657</td>\n",
       "      <td>952.302013</td>\n",
       "      <td>0.201389</td>\n",
       "      <td>0.181208</td>\n",
       "    </tr>\n",
       "    <tr>\n",
       "      <td>yes</td>\n",
       "      <td>31.000000</td>\n",
       "      <td>NaN</td>\n",
       "      <td>-42.000000</td>\n",
       "      <td>NaN</td>\n",
       "      <td>93.200000</td>\n",
       "      <td>NaN</td>\n",
       "      <td>111.000000</td>\n",
       "      <td>NaN</td>\n",
       "      <td>-0.100000</td>\n",
       "      <td>NaN</td>\n",
       "      <td>4.153000</td>\n",
       "      <td>NaN</td>\n",
       "      <td>5195.800000</td>\n",
       "      <td>NaN</td>\n",
       "      <td>999.000000</td>\n",
       "      <td>NaN</td>\n",
       "      <td>1.000000</td>\n",
       "      <td>NaN</td>\n",
       "    </tr>\n",
       "  </tbody>\n",
       "</table>\n",
       "</div>"
      ],
      "text/plain": [
       "                             age            cons.conf.idx             \\\n",
       "loan                          no        yes            no        yes   \n",
       "job           default                                                  \n",
       "admin.        no       38.396772  38.499717    -40.188203 -40.266101   \n",
       "blue-collar   no       39.599391  39.303807    -41.340581 -41.579283   \n",
       "entrepreneur  no       41.674400  42.019417    -41.177520 -41.927670   \n",
       "housemaid     no       45.639073  44.681818    -39.498675 -39.475325   \n",
       "management    no       42.484909  41.671982    -40.407807 -40.951708   \n",
       "retired       no       61.886486  62.895833    -38.549189 -38.720417   \n",
       "self-employed no       39.962480  39.866667    -40.503426 -40.391795   \n",
       "services      no       37.913599  37.998336    -41.286045 -41.312479   \n",
       "student       no       25.863574  26.056338    -40.013506 -41.085915   \n",
       "technician    no       38.505389  38.501517    -39.900608 -40.092113   \n",
       "              yes      48.000000        NaN    -36.100000        NaN   \n",
       "unemployed    no       39.733796  39.791946    -40.110532 -39.397315   \n",
       "              yes      31.000000        NaN    -42.000000        NaN   \n",
       "\n",
       "                      cons.price.idx               duration              \\\n",
       "loan                              no        yes          no         yes   \n",
       "job           default                                                     \n",
       "admin.        no           93.540593  93.535331  254.930106  248.436333   \n",
       "blue-collar   no           93.660500  93.634460  265.344574  259.909956   \n",
       "entrepreneur  no           93.609346  93.581257  266.552000  243.339806   \n",
       "housemaid     no           93.676225  93.678643  250.748344  248.727273   \n",
       "management    no           93.525144  93.509232  256.874447  258.097950   \n",
       "retired       no           93.434916  93.405321  270.761486  291.908333   \n",
       "self-employed no           93.551629  93.612497  259.930669  290.620513   \n",
       "services      no           93.633582  93.640694  257.706651  262.272879   \n",
       "student       no           93.311368  93.436113  281.361528  295.669014   \n",
       "technician    no           93.564843  93.542100  248.441412  260.952477   \n",
       "              yes          93.444000        NaN   99.500000         NaN   \n",
       "unemployed    no           93.562263  93.575027  253.225694  228.496644   \n",
       "              yes          93.200000        NaN  111.000000         NaN   \n",
       "\n",
       "                      emp.var.rate           euribor3m            nr.employed  \\\n",
       "loan                            no       yes        no       yes           no   \n",
       "job           default                                                           \n",
       "admin.        no          0.024797  0.032541  3.564063  3.554628  5164.333478   \n",
       "blue-collar   no          0.255756  0.209956  3.779910  3.726293  5175.818763   \n",
       "entrepreneur  no          0.162960  0.133010  3.800028  3.737063  5176.154800   \n",
       "housemaid     no          0.430574  0.450000  4.005522  4.033903  5179.197020   \n",
       "management    no         -0.023260  0.047153  3.598505  3.683838  5165.610342   \n",
       "retired       no         -0.686486 -0.771250  2.780694  2.704529  5122.398108   \n",
       "self-employed no          0.083116  0.163590  3.679094  3.754026  5170.409217   \n",
       "services      no          0.169329  0.209151  3.693218  3.732636  5171.358640   \n",
       "student       no         -1.434379 -1.271831  1.875368  1.929937  5085.765757   \n",
       "technician    no          0.271193  0.291911  3.816409  3.841304  5175.287291   \n",
       "              yes         1.400000       NaN  4.963000       NaN  5228.100000   \n",
       "unemployed    no         -0.127546 -0.020134  3.442772  3.600047  5156.580787   \n",
       "              yes        -0.100000       NaN  4.153000       NaN  5195.800000   \n",
       "\n",
       "                                         pdays              previous            \n",
       "loan                           yes          no         yes        no       yes  \n",
       "job           default                                                           \n",
       "admin.        no       5164.711715  953.250751  956.840407  0.191430  0.170345  \n",
       "blue-collar   no       5174.439385  984.529158  988.805271  0.122084  0.125183  \n",
       "entrepreneur  no       5177.276699  979.140800  994.169903  0.135200  0.160194  \n",
       "housemaid     no       5181.486364  961.716336  953.889610  0.136865  0.142857  \n",
       "management    no       5172.538497  961.024145  971.833713  0.185513  0.182232  \n",
       "retired       no       5121.423750  903.689189  862.458333  0.320946  0.366667  \n",
       "self-employed no       5172.341538  978.742251  963.287179  0.143556  0.143590  \n",
       "services      no       5172.953411  980.116093  979.178037  0.154097  0.159734  \n",
       "student       no       5086.833803  846.045020  810.133803  0.519782  0.549296  \n",
       "technician    no       5177.642467  964.486092  963.884732  0.155772  0.142568  \n",
       "              yes              NaN  999.000000         NaN  0.000000       NaN  \n",
       "unemployed    no       5160.235570  932.313657  952.302013  0.201389  0.181208  \n",
       "              yes              NaN  999.000000         NaN  1.000000       NaN  "
      ]
     },
     "execution_count": 86,
     "metadata": {},
     "output_type": "execute_result"
    }
   ],
   "source": [
    "df.pivot_table(df, columns=[\"loan\"], index=[\"job\", \"default\"])"
   ]
  },
  {
   "cell_type": "code",
   "execution_count": 87,
   "metadata": {},
   "outputs": [
    {
     "data": {
      "text/html": [
       "<div>\n",
       "<style scoped>\n",
       "    .dataframe tbody tr th:only-of-type {\n",
       "        vertical-align: middle;\n",
       "    }\n",
       "\n",
       "    .dataframe tbody tr th {\n",
       "        vertical-align: top;\n",
       "    }\n",
       "\n",
       "    .dataframe thead tr th {\n",
       "        text-align: left;\n",
       "    }\n",
       "\n",
       "    .dataframe thead tr:last-of-type th {\n",
       "        text-align: right;\n",
       "    }\n",
       "</style>\n",
       "<table border=\"1\" class=\"dataframe\">\n",
       "  <thead>\n",
       "    <tr>\n",
       "      <th></th>\n",
       "      <th></th>\n",
       "      <th colspan=\"2\" halign=\"left\">age</th>\n",
       "      <th colspan=\"2\" halign=\"left\">cons.conf.idx</th>\n",
       "      <th colspan=\"2\" halign=\"left\">cons.price.idx</th>\n",
       "      <th colspan=\"2\" halign=\"left\">duration</th>\n",
       "      <th colspan=\"2\" halign=\"left\">emp.var.rate</th>\n",
       "      <th colspan=\"2\" halign=\"left\">euribor3m</th>\n",
       "      <th colspan=\"2\" halign=\"left\">nr.employed</th>\n",
       "      <th colspan=\"2\" halign=\"left\">pdays</th>\n",
       "      <th colspan=\"2\" halign=\"left\">previous</th>\n",
       "    </tr>\n",
       "    <tr>\n",
       "      <th></th>\n",
       "      <th>loan</th>\n",
       "      <th>no</th>\n",
       "      <th>yes</th>\n",
       "      <th>no</th>\n",
       "      <th>yes</th>\n",
       "      <th>no</th>\n",
       "      <th>yes</th>\n",
       "      <th>no</th>\n",
       "      <th>yes</th>\n",
       "      <th>no</th>\n",
       "      <th>yes</th>\n",
       "      <th>no</th>\n",
       "      <th>yes</th>\n",
       "      <th>no</th>\n",
       "      <th>yes</th>\n",
       "      <th>no</th>\n",
       "      <th>yes</th>\n",
       "      <th>no</th>\n",
       "      <th>yes</th>\n",
       "    </tr>\n",
       "    <tr>\n",
       "      <th>housing</th>\n",
       "      <th>contact</th>\n",
       "      <th></th>\n",
       "      <th></th>\n",
       "      <th></th>\n",
       "      <th></th>\n",
       "      <th></th>\n",
       "      <th></th>\n",
       "      <th></th>\n",
       "      <th></th>\n",
       "      <th></th>\n",
       "      <th></th>\n",
       "      <th></th>\n",
       "      <th></th>\n",
       "      <th></th>\n",
       "      <th></th>\n",
       "      <th></th>\n",
       "      <th></th>\n",
       "      <th></th>\n",
       "      <th></th>\n",
       "    </tr>\n",
       "  </thead>\n",
       "  <tbody>\n",
       "    <tr>\n",
       "      <td rowspan=\"2\" valign=\"top\">no</td>\n",
       "      <td>cellular</td>\n",
       "      <td>40.113801</td>\n",
       "      <td>39.897552</td>\n",
       "      <td>-41.275282</td>\n",
       "      <td>-41.481894</td>\n",
       "      <td>93.321797</td>\n",
       "      <td>93.352820</td>\n",
       "      <td>266.349721</td>\n",
       "      <td>265.806701</td>\n",
       "      <td>-0.361333</td>\n",
       "      <td>-0.281057</td>\n",
       "      <td>3.126006</td>\n",
       "      <td>3.191665</td>\n",
       "      <td>5153.270218</td>\n",
       "      <td>5156.707603</td>\n",
       "      <td>946.431519</td>\n",
       "      <td>943.969716</td>\n",
       "      <td>0.251921</td>\n",
       "      <td>0.257732</td>\n",
       "    </tr>\n",
       "    <tr>\n",
       "      <td>telephone</td>\n",
       "      <td>40.037923</td>\n",
       "      <td>39.653731</td>\n",
       "      <td>-38.895675</td>\n",
       "      <td>-39.128159</td>\n",
       "      <td>94.061487</td>\n",
       "      <td>94.056360</td>\n",
       "      <td>252.836125</td>\n",
       "      <td>250.118408</td>\n",
       "      <td>0.965398</td>\n",
       "      <td>0.953035</td>\n",
       "      <td>4.608052</td>\n",
       "      <td>4.579378</td>\n",
       "      <td>5195.408255</td>\n",
       "      <td>5194.915920</td>\n",
       "      <td>991.591380</td>\n",
       "      <td>991.095522</td>\n",
       "      <td>0.027566</td>\n",
       "      <td>0.026866</td>\n",
       "    </tr>\n",
       "    <tr>\n",
       "      <td rowspan=\"2\" valign=\"top\">yes</td>\n",
       "      <td>cellular</td>\n",
       "      <td>39.888907</td>\n",
       "      <td>39.862096</td>\n",
       "      <td>-41.431294</td>\n",
       "      <td>-41.518254</td>\n",
       "      <td>93.309516</td>\n",
       "      <td>93.303349</td>\n",
       "      <td>261.217339</td>\n",
       "      <td>263.023117</td>\n",
       "      <td>-0.418325</td>\n",
       "      <td>-0.394022</td>\n",
       "      <td>3.061388</td>\n",
       "      <td>3.089694</td>\n",
       "      <td>5150.907359</td>\n",
       "      <td>5152.721204</td>\n",
       "      <td>944.781786</td>\n",
       "      <td>949.119171</td>\n",
       "      <td>0.256675</td>\n",
       "      <td>0.234356</td>\n",
       "    </tr>\n",
       "    <tr>\n",
       "      <td>telephone</td>\n",
       "      <td>40.320617</td>\n",
       "      <td>39.911168</td>\n",
       "      <td>-39.006772</td>\n",
       "      <td>-39.020474</td>\n",
       "      <td>93.992390</td>\n",
       "      <td>93.994585</td>\n",
       "      <td>245.855508</td>\n",
       "      <td>245.687817</td>\n",
       "      <td>0.825163</td>\n",
       "      <td>0.851354</td>\n",
       "      <td>4.461211</td>\n",
       "      <td>4.488635</td>\n",
       "      <td>5189.757304</td>\n",
       "      <td>5191.075381</td>\n",
       "      <td>991.742807</td>\n",
       "      <td>990.589679</td>\n",
       "      <td>0.040534</td>\n",
       "      <td>0.042301</td>\n",
       "    </tr>\n",
       "  </tbody>\n",
       "</table>\n",
       "</div>"
      ],
      "text/plain": [
       "                         age            cons.conf.idx             \\\n",
       "loan                      no        yes            no        yes   \n",
       "housing contact                                                    \n",
       "no      cellular   40.113801  39.897552    -41.275282 -41.481894   \n",
       "        telephone  40.037923  39.653731    -38.895675 -39.128159   \n",
       "yes     cellular   39.888907  39.862096    -41.431294 -41.518254   \n",
       "        telephone  40.320617  39.911168    -39.006772 -39.020474   \n",
       "\n",
       "                  cons.price.idx               duration              \\\n",
       "loan                          no        yes          no         yes   \n",
       "housing contact                                                       \n",
       "no      cellular       93.321797  93.352820  266.349721  265.806701   \n",
       "        telephone      94.061487  94.056360  252.836125  250.118408   \n",
       "yes     cellular       93.309516  93.303349  261.217339  263.023117   \n",
       "        telephone      93.992390  93.994585  245.855508  245.687817   \n",
       "\n",
       "                  emp.var.rate           euribor3m            nr.employed  \\\n",
       "loan                        no       yes        no       yes           no   \n",
       "housing contact                                                             \n",
       "no      cellular     -0.361333 -0.281057  3.126006  3.191665  5153.270218   \n",
       "        telephone     0.965398  0.953035  4.608052  4.579378  5195.408255   \n",
       "yes     cellular     -0.418325 -0.394022  3.061388  3.089694  5150.907359   \n",
       "        telephone     0.825163  0.851354  4.461211  4.488635  5189.757304   \n",
       "\n",
       "                                     pdays              previous            \n",
       "loan                       yes          no         yes        no       yes  \n",
       "housing contact                                                             \n",
       "no      cellular   5156.707603  946.431519  943.969716  0.251921  0.257732  \n",
       "        telephone  5194.915920  991.591380  991.095522  0.027566  0.026866  \n",
       "yes     cellular   5152.721204  944.781786  949.119171  0.256675  0.234356  \n",
       "        telephone  5191.075381  991.742807  990.589679  0.040534  0.042301  "
      ]
     },
     "execution_count": 87,
     "metadata": {},
     "output_type": "execute_result"
    }
   ],
   "source": [
    "df.pivot_table(df, columns=[\"loan\"], index=[\"housing\", \"contact\"])"
   ]
  },
  {
   "cell_type": "code",
   "execution_count": 88,
   "metadata": {},
   "outputs": [
    {
     "data": {
      "text/html": [
       "<div>\n",
       "<style scoped>\n",
       "    .dataframe tbody tr th:only-of-type {\n",
       "        vertical-align: middle;\n",
       "    }\n",
       "\n",
       "    .dataframe tbody tr th {\n",
       "        vertical-align: top;\n",
       "    }\n",
       "\n",
       "    .dataframe thead tr th {\n",
       "        text-align: left;\n",
       "    }\n",
       "\n",
       "    .dataframe thead tr:last-of-type th {\n",
       "        text-align: right;\n",
       "    }\n",
       "</style>\n",
       "<table border=\"1\" class=\"dataframe\">\n",
       "  <thead>\n",
       "    <tr>\n",
       "      <th></th>\n",
       "      <th></th>\n",
       "      <th colspan=\"2\" halign=\"left\">age</th>\n",
       "      <th colspan=\"2\" halign=\"left\">cons.conf.idx</th>\n",
       "      <th colspan=\"2\" halign=\"left\">cons.price.idx</th>\n",
       "      <th colspan=\"2\" halign=\"left\">duration</th>\n",
       "      <th colspan=\"2\" halign=\"left\">emp.var.rate</th>\n",
       "      <th colspan=\"2\" halign=\"left\">euribor3m</th>\n",
       "      <th colspan=\"2\" halign=\"left\">nr.employed</th>\n",
       "      <th colspan=\"2\" halign=\"left\">pdays</th>\n",
       "      <th colspan=\"2\" halign=\"left\">previous</th>\n",
       "    </tr>\n",
       "    <tr>\n",
       "      <th></th>\n",
       "      <th>loan</th>\n",
       "      <th>no</th>\n",
       "      <th>yes</th>\n",
       "      <th>no</th>\n",
       "      <th>yes</th>\n",
       "      <th>no</th>\n",
       "      <th>yes</th>\n",
       "      <th>no</th>\n",
       "      <th>yes</th>\n",
       "      <th>no</th>\n",
       "      <th>yes</th>\n",
       "      <th>no</th>\n",
       "      <th>yes</th>\n",
       "      <th>no</th>\n",
       "      <th>yes</th>\n",
       "      <th>no</th>\n",
       "      <th>yes</th>\n",
       "      <th>no</th>\n",
       "      <th>yes</th>\n",
       "    </tr>\n",
       "    <tr>\n",
       "      <th>marital</th>\n",
       "      <th>month</th>\n",
       "      <th></th>\n",
       "      <th></th>\n",
       "      <th></th>\n",
       "      <th></th>\n",
       "      <th></th>\n",
       "      <th></th>\n",
       "      <th></th>\n",
       "      <th></th>\n",
       "      <th></th>\n",
       "      <th></th>\n",
       "      <th></th>\n",
       "      <th></th>\n",
       "      <th></th>\n",
       "      <th></th>\n",
       "      <th></th>\n",
       "      <th></th>\n",
       "      <th></th>\n",
       "      <th></th>\n",
       "    </tr>\n",
       "  </thead>\n",
       "  <tbody>\n",
       "    <tr>\n",
       "      <td rowspan=\"10\" valign=\"top\">divorced</td>\n",
       "      <td>apr</td>\n",
       "      <td>45.202335</td>\n",
       "      <td>45.888889</td>\n",
       "      <td>-46.175875</td>\n",
       "      <td>-45.711111</td>\n",
       "      <td>93.124829</td>\n",
       "      <td>93.149889</td>\n",
       "      <td>286.968872</td>\n",
       "      <td>333.074074</td>\n",
       "      <td>-1.800000</td>\n",
       "      <td>-1.800000</td>\n",
       "      <td>1.358374</td>\n",
       "      <td>1.329963</td>\n",
       "      <td>5092.416732</td>\n",
       "      <td>5089.055556</td>\n",
       "      <td>964.186770</td>\n",
       "      <td>962.444444</td>\n",
       "      <td>0.334630</td>\n",
       "      <td>0.425926</td>\n",
       "    </tr>\n",
       "    <tr>\n",
       "      <td>aug</td>\n",
       "      <td>43.873706</td>\n",
       "      <td>42.522727</td>\n",
       "      <td>-35.643685</td>\n",
       "      <td>-35.747727</td>\n",
       "      <td>93.323387</td>\n",
       "      <td>93.350875</td>\n",
       "      <td>213.706004</td>\n",
       "      <td>217.386364</td>\n",
       "      <td>0.686128</td>\n",
       "      <td>0.903409</td>\n",
       "      <td>4.219681</td>\n",
       "      <td>4.455455</td>\n",
       "      <td>5195.520290</td>\n",
       "      <td>5206.228409</td>\n",
       "      <td>949.668737</td>\n",
       "      <td>965.056818</td>\n",
       "      <td>0.140787</td>\n",
       "      <td>0.068182</td>\n",
       "    </tr>\n",
       "    <tr>\n",
       "      <td>dec</td>\n",
       "      <td>63.142857</td>\n",
       "      <td>66.400000</td>\n",
       "      <td>-33.921429</td>\n",
       "      <td>-35.580000</td>\n",
       "      <td>92.716071</td>\n",
       "      <td>92.721600</td>\n",
       "      <td>303.000000</td>\n",
       "      <td>262.000000</td>\n",
       "      <td>-2.800000</td>\n",
       "      <td>-2.440000</td>\n",
       "      <td>0.896214</td>\n",
       "      <td>1.305800</td>\n",
       "      <td>5034.414286</td>\n",
       "      <td>5054.060000</td>\n",
       "      <td>786.214286</td>\n",
       "      <td>800.400000</td>\n",
       "      <td>0.357143</td>\n",
       "      <td>0.800000</td>\n",
       "    </tr>\n",
       "    <tr>\n",
       "      <td>jul</td>\n",
       "      <td>44.560000</td>\n",
       "      <td>45.369318</td>\n",
       "      <td>-42.466133</td>\n",
       "      <td>-42.370455</td>\n",
       "      <td>93.898872</td>\n",
       "      <td>93.900256</td>\n",
       "      <td>275.906667</td>\n",
       "      <td>270.073864</td>\n",
       "      <td>1.237067</td>\n",
       "      <td>1.143750</td>\n",
       "      <td>4.778395</td>\n",
       "      <td>4.661733</td>\n",
       "      <td>5218.957867</td>\n",
       "      <td>5212.553977</td>\n",
       "      <td>992.398667</td>\n",
       "      <td>976.397727</td>\n",
       "      <td>0.017333</td>\n",
       "      <td>0.079545</td>\n",
       "    </tr>\n",
       "    <tr>\n",
       "      <td>jun</td>\n",
       "      <td>44.978000</td>\n",
       "      <td>43.557143</td>\n",
       "      <td>-41.646000</td>\n",
       "      <td>-41.557143</td>\n",
       "      <td>94.327076</td>\n",
       "      <td>94.322571</td>\n",
       "      <td>225.480000</td>\n",
       "      <td>232.042857</td>\n",
       "      <td>0.935800</td>\n",
       "      <td>0.827143</td>\n",
       "      <td>4.479470</td>\n",
       "      <td>4.305729</td>\n",
       "      <td>5207.130200</td>\n",
       "      <td>5196.978571</td>\n",
       "      <td>981.136000</td>\n",
       "      <td>970.671429</td>\n",
       "      <td>0.056000</td>\n",
       "      <td>0.071429</td>\n",
       "    </tr>\n",
       "    <tr>\n",
       "      <td>mar</td>\n",
       "      <td>58.320755</td>\n",
       "      <td>60.142857</td>\n",
       "      <td>-41.683019</td>\n",
       "      <td>-45.657143</td>\n",
       "      <td>93.130811</td>\n",
       "      <td>92.993286</td>\n",
       "      <td>252.490566</td>\n",
       "      <td>352.000000</td>\n",
       "      <td>-1.800000</td>\n",
       "      <td>-1.800000</td>\n",
       "      <td>1.094208</td>\n",
       "      <td>1.344571</td>\n",
       "      <td>5049.635849</td>\n",
       "      <td>5073.271429</td>\n",
       "      <td>830.547170</td>\n",
       "      <td>999.000000</td>\n",
       "      <td>0.528302</td>\n",
       "      <td>0.285714</td>\n",
       "    </tr>\n",
       "    <tr>\n",
       "      <td>may</td>\n",
       "      <td>43.533487</td>\n",
       "      <td>43.005291</td>\n",
       "      <td>-40.328868</td>\n",
       "      <td>-40.242328</td>\n",
       "      <td>93.555470</td>\n",
       "      <td>93.566873</td>\n",
       "      <td>256.662048</td>\n",
       "      <td>240.507937</td>\n",
       "      <td>-0.080985</td>\n",
       "      <td>-0.066138</td>\n",
       "      <td>3.398377</td>\n",
       "      <td>3.413111</td>\n",
       "      <td>5152.670285</td>\n",
       "      <td>5152.610582</td>\n",
       "      <td>989.855273</td>\n",
       "      <td>993.793651</td>\n",
       "      <td>0.150115</td>\n",
       "      <td>0.153439</td>\n",
       "    </tr>\n",
       "    <tr>\n",
       "      <td>nov</td>\n",
       "      <td>45.220833</td>\n",
       "      <td>45.342857</td>\n",
       "      <td>-41.289792</td>\n",
       "      <td>-41.401429</td>\n",
       "      <td>93.200935</td>\n",
       "      <td>93.205414</td>\n",
       "      <td>246.408333</td>\n",
       "      <td>276.285714</td>\n",
       "      <td>-0.397292</td>\n",
       "      <td>-0.364286</td>\n",
       "      <td>3.747417</td>\n",
       "      <td>3.784457</td>\n",
       "      <td>5174.540625</td>\n",
       "      <td>5176.430000</td>\n",
       "      <td>949.277083</td>\n",
       "      <td>956.357143</td>\n",
       "      <td>0.335417</td>\n",
       "      <td>0.300000</td>\n",
       "    </tr>\n",
       "    <tr>\n",
       "      <td>oct</td>\n",
       "      <td>60.224138</td>\n",
       "      <td>55.333333</td>\n",
       "      <td>-35.153448</td>\n",
       "      <td>-40.955556</td>\n",
       "      <td>93.232017</td>\n",
       "      <td>93.788444</td>\n",
       "      <td>294.758621</td>\n",
       "      <td>411.333333</td>\n",
       "      <td>-2.327586</td>\n",
       "      <td>-1.755556</td>\n",
       "      <td>1.317534</td>\n",
       "      <td>1.358111</td>\n",
       "      <td>5023.220690</td>\n",
       "      <td>5007.366667</td>\n",
       "      <td>844.758621</td>\n",
       "      <td>556.555556</td>\n",
       "      <td>0.586207</td>\n",
       "      <td>0.888889</td>\n",
       "    </tr>\n",
       "    <tr>\n",
       "      <td>sep</td>\n",
       "      <td>57.488372</td>\n",
       "      <td>50.857143</td>\n",
       "      <td>-34.097674</td>\n",
       "      <td>-34.200000</td>\n",
       "      <td>93.394814</td>\n",
       "      <td>93.419000</td>\n",
       "      <td>284.674419</td>\n",
       "      <td>290.714286</td>\n",
       "      <td>-2.116279</td>\n",
       "      <td>-2.085714</td>\n",
       "      <td>0.830512</td>\n",
       "      <td>0.826286</td>\n",
       "      <td>4987.416279</td>\n",
       "      <td>4986.700000</td>\n",
       "      <td>629.093023</td>\n",
       "      <td>857.142857</td>\n",
       "      <td>1.023256</td>\n",
       "      <td>0.571429</td>\n",
       "    </tr>\n",
       "    <tr>\n",
       "      <td rowspan=\"10\" valign=\"top\">married</td>\n",
       "      <td>apr</td>\n",
       "      <td>44.029664</td>\n",
       "      <td>42.675214</td>\n",
       "      <td>-46.368150</td>\n",
       "      <td>-46.565812</td>\n",
       "      <td>93.114461</td>\n",
       "      <td>93.103803</td>\n",
       "      <td>296.211553</td>\n",
       "      <td>276.141026</td>\n",
       "      <td>-1.800000</td>\n",
       "      <td>-1.800000</td>\n",
       "      <td>1.367101</td>\n",
       "      <td>1.379795</td>\n",
       "      <td>5093.807260</td>\n",
       "      <td>5095.236752</td>\n",
       "      <td>957.871194</td>\n",
       "      <td>956.555556</td>\n",
       "      <td>0.333333</td>\n",
       "      <td>0.337607</td>\n",
       "    </tr>\n",
       "    <tr>\n",
       "      <td>aug</td>\n",
       "      <td>44.832606</td>\n",
       "      <td>44.093697</td>\n",
       "      <td>-35.635429</td>\n",
       "      <td>-35.673595</td>\n",
       "      <td>93.321168</td>\n",
       "      <td>93.331245</td>\n",
       "      <td>231.776128</td>\n",
       "      <td>246.524702</td>\n",
       "      <td>0.833566</td>\n",
       "      <td>0.940204</td>\n",
       "      <td>4.394208</td>\n",
       "      <td>4.511191</td>\n",
       "      <td>5204.578282</td>\n",
       "      <td>5210.126746</td>\n",
       "      <td>968.642213</td>\n",
       "      <td>968.553663</td>\n",
       "      <td>0.091412</td>\n",
       "      <td>0.095400</td>\n",
       "    </tr>\n",
       "    <tr>\n",
       "      <td>dec</td>\n",
       "      <td>52.233333</td>\n",
       "      <td>49.291667</td>\n",
       "      <td>-33.573333</td>\n",
       "      <td>-34.612500</td>\n",
       "      <td>92.714911</td>\n",
       "      <td>92.718375</td>\n",
       "      <td>303.844444</td>\n",
       "      <td>395.500000</td>\n",
       "      <td>-2.875556</td>\n",
       "      <td>-2.650000</td>\n",
       "      <td>0.837544</td>\n",
       "      <td>1.044083</td>\n",
       "      <td>5030.291111</td>\n",
       "      <td>5042.600000</td>\n",
       "      <td>789.411111</td>\n",
       "      <td>668.000000</td>\n",
       "      <td>0.588889</td>\n",
       "      <td>0.750000</td>\n",
       "    </tr>\n",
       "    <tr>\n",
       "      <td>jul</td>\n",
       "      <td>41.540647</td>\n",
       "      <td>42.168210</td>\n",
       "      <td>-42.429163</td>\n",
       "      <td>-42.367130</td>\n",
       "      <td>93.897041</td>\n",
       "      <td>93.899583</td>\n",
       "      <td>274.524025</td>\n",
       "      <td>273.983025</td>\n",
       "      <td>1.207857</td>\n",
       "      <td>1.142593</td>\n",
       "      <td>4.744513</td>\n",
       "      <td>4.660869</td>\n",
       "      <td>5217.167694</td>\n",
       "      <td>5212.539815</td>\n",
       "      <td>987.032940</td>\n",
       "      <td>980.620370</td>\n",
       "      <td>0.035963</td>\n",
       "      <td>0.046296</td>\n",
       "    </tr>\n",
       "    <tr>\n",
       "      <td>jun</td>\n",
       "      <td>41.545045</td>\n",
       "      <td>41.586134</td>\n",
       "      <td>-41.636105</td>\n",
       "      <td>-41.638235</td>\n",
       "      <td>94.299724</td>\n",
       "      <td>94.309223</td>\n",
       "      <td>240.357242</td>\n",
       "      <td>244.142857</td>\n",
       "      <td>0.866771</td>\n",
       "      <td>0.889286</td>\n",
       "      <td>4.427733</td>\n",
       "      <td>4.443176</td>\n",
       "      <td>5205.303153</td>\n",
       "      <td>5205.790126</td>\n",
       "      <td>978.334026</td>\n",
       "      <td>980.180672</td>\n",
       "      <td>0.062717</td>\n",
       "      <td>0.065126</td>\n",
       "    </tr>\n",
       "    <tr>\n",
       "      <td>mar</td>\n",
       "      <td>46.514563</td>\n",
       "      <td>42.612903</td>\n",
       "      <td>-42.400000</td>\n",
       "      <td>-44.116129</td>\n",
       "      <td>93.106000</td>\n",
       "      <td>93.046613</td>\n",
       "      <td>241.330097</td>\n",
       "      <td>192.741935</td>\n",
       "      <td>-1.800000</td>\n",
       "      <td>-1.800000</td>\n",
       "      <td>1.146243</td>\n",
       "      <td>1.261581</td>\n",
       "      <td>5053.900000</td>\n",
       "      <td>5064.106452</td>\n",
       "      <td>835.135922</td>\n",
       "      <td>903.516129</td>\n",
       "      <td>0.480583</td>\n",
       "      <td>0.451613</td>\n",
       "    </tr>\n",
       "    <tr>\n",
       "      <td>may</td>\n",
       "      <td>40.613398</td>\n",
       "      <td>40.577659</td>\n",
       "      <td>-40.080829</td>\n",
       "      <td>-40.443305</td>\n",
       "      <td>93.584704</td>\n",
       "      <td>93.543473</td>\n",
       "      <td>263.795856</td>\n",
       "      <td>254.900536</td>\n",
       "      <td>-0.016340</td>\n",
       "      <td>-0.120352</td>\n",
       "      <td>3.478374</td>\n",
       "      <td>3.351461</td>\n",
       "      <td>5154.287555</td>\n",
       "      <td>5151.151645</td>\n",
       "      <td>980.623895</td>\n",
       "      <td>981.536343</td>\n",
       "      <td>0.149724</td>\n",
       "      <td>0.150727</td>\n",
       "    </tr>\n",
       "    <tr>\n",
       "      <td>nov</td>\n",
       "      <td>42.446561</td>\n",
       "      <td>42.585366</td>\n",
       "      <td>-41.357481</td>\n",
       "      <td>-41.104065</td>\n",
       "      <td>93.205812</td>\n",
       "      <td>93.167943</td>\n",
       "      <td>240.397770</td>\n",
       "      <td>249.991870</td>\n",
       "      <td>-0.383690</td>\n",
       "      <td>-0.376423</td>\n",
       "      <td>3.765648</td>\n",
       "      <td>3.812997</td>\n",
       "      <td>5175.007853</td>\n",
       "      <td>5179.416260</td>\n",
       "      <td>959.735595</td>\n",
       "      <td>969.336043</td>\n",
       "      <td>0.275093</td>\n",
       "      <td>0.268293</td>\n",
       "    </tr>\n",
       "    <tr>\n",
       "      <td>oct</td>\n",
       "      <td>49.340058</td>\n",
       "      <td>49.054545</td>\n",
       "      <td>-33.315562</td>\n",
       "      <td>-34.867273</td>\n",
       "      <td>93.054349</td>\n",
       "      <td>93.201145</td>\n",
       "      <td>281.824207</td>\n",
       "      <td>301.890909</td>\n",
       "      <td>-2.547262</td>\n",
       "      <td>-2.449091</td>\n",
       "      <td>1.226968</td>\n",
       "      <td>1.123273</td>\n",
       "      <td>5024.037464</td>\n",
       "      <td>5013.807273</td>\n",
       "      <td>758.677233</td>\n",
       "      <td>728.290909</td>\n",
       "      <td>0.674352</td>\n",
       "      <td>0.600000</td>\n",
       "    </tr>\n",
       "    <tr>\n",
       "      <td>sep</td>\n",
       "      <td>49.732852</td>\n",
       "      <td>47.962963</td>\n",
       "      <td>-33.358123</td>\n",
       "      <td>-32.794444</td>\n",
       "      <td>93.220011</td>\n",
       "      <td>93.086778</td>\n",
       "      <td>311.981949</td>\n",
       "      <td>291.407407</td>\n",
       "      <td>-2.337184</td>\n",
       "      <td>-2.505556</td>\n",
       "      <td>0.827935</td>\n",
       "      <td>0.826000</td>\n",
       "      <td>4992.593141</td>\n",
       "      <td>4996.538889</td>\n",
       "      <td>758.743682</td>\n",
       "      <td>778.074074</td>\n",
       "      <td>0.740072</td>\n",
       "      <td>0.666667</td>\n",
       "    </tr>\n",
       "    <tr>\n",
       "      <td rowspan=\"10\" valign=\"top\">single</td>\n",
       "      <td>apr</td>\n",
       "      <td>32.757971</td>\n",
       "      <td>32.387931</td>\n",
       "      <td>-46.212319</td>\n",
       "      <td>-45.483621</td>\n",
       "      <td>93.122864</td>\n",
       "      <td>93.162155</td>\n",
       "      <td>287.465217</td>\n",
       "      <td>323.724138</td>\n",
       "      <td>-1.800000</td>\n",
       "      <td>-1.800000</td>\n",
       "      <td>1.355190</td>\n",
       "      <td>1.312129</td>\n",
       "      <td>5092.680290</td>\n",
       "      <td>5087.410345</td>\n",
       "      <td>955.802899</td>\n",
       "      <td>904.887931</td>\n",
       "      <td>0.282609</td>\n",
       "      <td>0.353448</td>\n",
       "    </tr>\n",
       "    <tr>\n",
       "      <td>aug</td>\n",
       "      <td>33.067568</td>\n",
       "      <td>33.264822</td>\n",
       "      <td>-35.438964</td>\n",
       "      <td>-35.592490</td>\n",
       "      <td>93.269255</td>\n",
       "      <td>93.309826</td>\n",
       "      <td>236.018018</td>\n",
       "      <td>230.711462</td>\n",
       "      <td>0.453604</td>\n",
       "      <td>0.733597</td>\n",
       "      <td>3.988425</td>\n",
       "      <td>4.285802</td>\n",
       "      <td>5186.182883</td>\n",
       "      <td>5199.539526</td>\n",
       "      <td>942.343844</td>\n",
       "      <td>959.675889</td>\n",
       "      <td>0.180931</td>\n",
       "      <td>0.110672</td>\n",
       "    </tr>\n",
       "    <tr>\n",
       "      <td>dec</td>\n",
       "      <td>29.909091</td>\n",
       "      <td>38.800000</td>\n",
       "      <td>-33.293182</td>\n",
       "      <td>-33.000000</td>\n",
       "      <td>92.713977</td>\n",
       "      <td>92.713000</td>\n",
       "      <td>431.795455</td>\n",
       "      <td>302.400000</td>\n",
       "      <td>-2.936364</td>\n",
       "      <td>-3.000000</td>\n",
       "      <td>0.782182</td>\n",
       "      <td>0.711800</td>\n",
       "      <td>5026.972727</td>\n",
       "      <td>5023.500000</td>\n",
       "      <td>683.113636</td>\n",
       "      <td>800.400000</td>\n",
       "      <td>0.659091</td>\n",
       "      <td>0.600000</td>\n",
       "    </tr>\n",
       "    <tr>\n",
       "      <td>jul</td>\n",
       "      <td>32.186887</td>\n",
       "      <td>32.505650</td>\n",
       "      <td>-42.241249</td>\n",
       "      <td>-42.326271</td>\n",
       "      <td>93.887027</td>\n",
       "      <td>93.898780</td>\n",
       "      <td>270.620547</td>\n",
       "      <td>273.906780</td>\n",
       "      <td>1.061435</td>\n",
       "      <td>1.106780</td>\n",
       "      <td>4.572487</td>\n",
       "      <td>4.615952</td>\n",
       "      <td>5208.272741</td>\n",
       "      <td>5210.208475</td>\n",
       "      <td>973.418172</td>\n",
       "      <td>979.392655</td>\n",
       "      <td>0.071244</td>\n",
       "      <td>0.067797</td>\n",
       "    </tr>\n",
       "    <tr>\n",
       "      <td>jun</td>\n",
       "      <td>33.507246</td>\n",
       "      <td>32.582160</td>\n",
       "      <td>-41.421483</td>\n",
       "      <td>-41.400939</td>\n",
       "      <td>94.077805</td>\n",
       "      <td>94.072643</td>\n",
       "      <td>255.167945</td>\n",
       "      <td>243.018779</td>\n",
       "      <td>0.156863</td>\n",
       "      <td>0.123005</td>\n",
       "      <td>3.761575</td>\n",
       "      <td>3.715413</td>\n",
       "      <td>5175.308014</td>\n",
       "      <td>5172.853991</td>\n",
       "      <td>949.028133</td>\n",
       "      <td>928.990610</td>\n",
       "      <td>0.132140</td>\n",
       "      <td>0.197183</td>\n",
       "    </tr>\n",
       "    <tr>\n",
       "      <td>mar</td>\n",
       "      <td>31.246445</td>\n",
       "      <td>33.078947</td>\n",
       "      <td>-42.508057</td>\n",
       "      <td>-44.400000</td>\n",
       "      <td>93.102261</td>\n",
       "      <td>93.036789</td>\n",
       "      <td>245.255924</td>\n",
       "      <td>289.552632</td>\n",
       "      <td>-1.800000</td>\n",
       "      <td>-1.800000</td>\n",
       "      <td>1.153389</td>\n",
       "      <td>1.285632</td>\n",
       "      <td>5054.542654</td>\n",
       "      <td>5065.794737</td>\n",
       "      <td>829.767773</td>\n",
       "      <td>789.947368</td>\n",
       "      <td>0.488152</td>\n",
       "      <td>0.473684</td>\n",
       "    </tr>\n",
       "    <tr>\n",
       "      <td>may</td>\n",
       "      <td>33.636508</td>\n",
       "      <td>33.747899</td>\n",
       "      <td>-41.650526</td>\n",
       "      <td>-41.945210</td>\n",
       "      <td>93.409777</td>\n",
       "      <td>93.375827</td>\n",
       "      <td>260.707232</td>\n",
       "      <td>263.265546</td>\n",
       "      <td>-0.489965</td>\n",
       "      <td>-0.571765</td>\n",
       "      <td>2.888388</td>\n",
       "      <td>2.790703</td>\n",
       "      <td>5138.829022</td>\n",
       "      <td>5136.503025</td>\n",
       "      <td>978.123606</td>\n",
       "      <td>978.963025</td>\n",
       "      <td>0.203249</td>\n",
       "      <td>0.198319</td>\n",
       "    </tr>\n",
       "    <tr>\n",
       "      <td>nov</td>\n",
       "      <td>35.048667</td>\n",
       "      <td>34.814371</td>\n",
       "      <td>-40.988181</td>\n",
       "      <td>-41.086228</td>\n",
       "      <td>93.201520</td>\n",
       "      <td>93.206293</td>\n",
       "      <td>259.867903</td>\n",
       "      <td>220.293413</td>\n",
       "      <td>-0.524102</td>\n",
       "      <td>-0.497605</td>\n",
       "      <td>3.583548</td>\n",
       "      <td>3.602287</td>\n",
       "      <td>5165.453302</td>\n",
       "      <td>5166.849102</td>\n",
       "      <td>935.697567</td>\n",
       "      <td>927.592814</td>\n",
       "      <td>0.327926</td>\n",
       "      <td>0.287425</td>\n",
       "    </tr>\n",
       "    <tr>\n",
       "      <td>oct</td>\n",
       "      <td>32.291480</td>\n",
       "      <td>27.076923</td>\n",
       "      <td>-36.097309</td>\n",
       "      <td>-34.373077</td>\n",
       "      <td>93.319816</td>\n",
       "      <td>93.151269</td>\n",
       "      <td>291.910314</td>\n",
       "      <td>259.884615</td>\n",
       "      <td>-2.308520</td>\n",
       "      <td>-2.565385</td>\n",
       "      <td>1.166516</td>\n",
       "      <td>0.976038</td>\n",
       "      <td>5012.555605</td>\n",
       "      <td>5007.773077</td>\n",
       "      <td>816.591928</td>\n",
       "      <td>845.730769</td>\n",
       "      <td>0.609865</td>\n",
       "      <td>0.769231</td>\n",
       "    </tr>\n",
       "    <tr>\n",
       "      <td>sep</td>\n",
       "      <td>30.178571</td>\n",
       "      <td>28.571429</td>\n",
       "      <td>-34.933333</td>\n",
       "      <td>-34.933333</td>\n",
       "      <td>93.592333</td>\n",
       "      <td>93.592333</td>\n",
       "      <td>284.952381</td>\n",
       "      <td>256.619048</td>\n",
       "      <td>-1.866667</td>\n",
       "      <td>-1.866667</td>\n",
       "      <td>0.848548</td>\n",
       "      <td>0.848524</td>\n",
       "      <td>4981.566667</td>\n",
       "      <td>4981.566667</td>\n",
       "      <td>662.250000</td>\n",
       "      <td>621.380952</td>\n",
       "      <td>1.017857</td>\n",
       "      <td>0.666667</td>\n",
       "    </tr>\n",
       "  </tbody>\n",
       "</table>\n",
       "</div>"
      ],
      "text/plain": [
       "                      age            cons.conf.idx            cons.price.idx  \\\n",
       "loan                   no        yes            no        yes             no   \n",
       "marital  month                                                                 \n",
       "divorced apr    45.202335  45.888889    -46.175875 -45.711111      93.124829   \n",
       "         aug    43.873706  42.522727    -35.643685 -35.747727      93.323387   \n",
       "         dec    63.142857  66.400000    -33.921429 -35.580000      92.716071   \n",
       "         jul    44.560000  45.369318    -42.466133 -42.370455      93.898872   \n",
       "         jun    44.978000  43.557143    -41.646000 -41.557143      94.327076   \n",
       "         mar    58.320755  60.142857    -41.683019 -45.657143      93.130811   \n",
       "         may    43.533487  43.005291    -40.328868 -40.242328      93.555470   \n",
       "         nov    45.220833  45.342857    -41.289792 -41.401429      93.200935   \n",
       "         oct    60.224138  55.333333    -35.153448 -40.955556      93.232017   \n",
       "         sep    57.488372  50.857143    -34.097674 -34.200000      93.394814   \n",
       "married  apr    44.029664  42.675214    -46.368150 -46.565812      93.114461   \n",
       "         aug    44.832606  44.093697    -35.635429 -35.673595      93.321168   \n",
       "         dec    52.233333  49.291667    -33.573333 -34.612500      92.714911   \n",
       "         jul    41.540647  42.168210    -42.429163 -42.367130      93.897041   \n",
       "         jun    41.545045  41.586134    -41.636105 -41.638235      94.299724   \n",
       "         mar    46.514563  42.612903    -42.400000 -44.116129      93.106000   \n",
       "         may    40.613398  40.577659    -40.080829 -40.443305      93.584704   \n",
       "         nov    42.446561  42.585366    -41.357481 -41.104065      93.205812   \n",
       "         oct    49.340058  49.054545    -33.315562 -34.867273      93.054349   \n",
       "         sep    49.732852  47.962963    -33.358123 -32.794444      93.220011   \n",
       "single   apr    32.757971  32.387931    -46.212319 -45.483621      93.122864   \n",
       "         aug    33.067568  33.264822    -35.438964 -35.592490      93.269255   \n",
       "         dec    29.909091  38.800000    -33.293182 -33.000000      92.713977   \n",
       "         jul    32.186887  32.505650    -42.241249 -42.326271      93.887027   \n",
       "         jun    33.507246  32.582160    -41.421483 -41.400939      94.077805   \n",
       "         mar    31.246445  33.078947    -42.508057 -44.400000      93.102261   \n",
       "         may    33.636508  33.747899    -41.650526 -41.945210      93.409777   \n",
       "         nov    35.048667  34.814371    -40.988181 -41.086228      93.201520   \n",
       "         oct    32.291480  27.076923    -36.097309 -34.373077      93.319816   \n",
       "         sep    30.178571  28.571429    -34.933333 -34.933333      93.592333   \n",
       "\n",
       "                             duration             emp.var.rate            \\\n",
       "loan                  yes          no         yes           no       yes   \n",
       "marital  month                                                             \n",
       "divorced apr    93.149889  286.968872  333.074074    -1.800000 -1.800000   \n",
       "         aug    93.350875  213.706004  217.386364     0.686128  0.903409   \n",
       "         dec    92.721600  303.000000  262.000000    -2.800000 -2.440000   \n",
       "         jul    93.900256  275.906667  270.073864     1.237067  1.143750   \n",
       "         jun    94.322571  225.480000  232.042857     0.935800  0.827143   \n",
       "         mar    92.993286  252.490566  352.000000    -1.800000 -1.800000   \n",
       "         may    93.566873  256.662048  240.507937    -0.080985 -0.066138   \n",
       "         nov    93.205414  246.408333  276.285714    -0.397292 -0.364286   \n",
       "         oct    93.788444  294.758621  411.333333    -2.327586 -1.755556   \n",
       "         sep    93.419000  284.674419  290.714286    -2.116279 -2.085714   \n",
       "married  apr    93.103803  296.211553  276.141026    -1.800000 -1.800000   \n",
       "         aug    93.331245  231.776128  246.524702     0.833566  0.940204   \n",
       "         dec    92.718375  303.844444  395.500000    -2.875556 -2.650000   \n",
       "         jul    93.899583  274.524025  273.983025     1.207857  1.142593   \n",
       "         jun    94.309223  240.357242  244.142857     0.866771  0.889286   \n",
       "         mar    93.046613  241.330097  192.741935    -1.800000 -1.800000   \n",
       "         may    93.543473  263.795856  254.900536    -0.016340 -0.120352   \n",
       "         nov    93.167943  240.397770  249.991870    -0.383690 -0.376423   \n",
       "         oct    93.201145  281.824207  301.890909    -2.547262 -2.449091   \n",
       "         sep    93.086778  311.981949  291.407407    -2.337184 -2.505556   \n",
       "single   apr    93.162155  287.465217  323.724138    -1.800000 -1.800000   \n",
       "         aug    93.309826  236.018018  230.711462     0.453604  0.733597   \n",
       "         dec    92.713000  431.795455  302.400000    -2.936364 -3.000000   \n",
       "         jul    93.898780  270.620547  273.906780     1.061435  1.106780   \n",
       "         jun    94.072643  255.167945  243.018779     0.156863  0.123005   \n",
       "         mar    93.036789  245.255924  289.552632    -1.800000 -1.800000   \n",
       "         may    93.375827  260.707232  263.265546    -0.489965 -0.571765   \n",
       "         nov    93.206293  259.867903  220.293413    -0.524102 -0.497605   \n",
       "         oct    93.151269  291.910314  259.884615    -2.308520 -2.565385   \n",
       "         sep    93.592333  284.952381  256.619048    -1.866667 -1.866667   \n",
       "\n",
       "               euribor3m            nr.employed                    pdays  \\\n",
       "loan                  no       yes           no          yes          no   \n",
       "marital  month                                                             \n",
       "divorced apr    1.358374  1.329963  5092.416732  5089.055556  964.186770   \n",
       "         aug    4.219681  4.455455  5195.520290  5206.228409  949.668737   \n",
       "         dec    0.896214  1.305800  5034.414286  5054.060000  786.214286   \n",
       "         jul    4.778395  4.661733  5218.957867  5212.553977  992.398667   \n",
       "         jun    4.479470  4.305729  5207.130200  5196.978571  981.136000   \n",
       "         mar    1.094208  1.344571  5049.635849  5073.271429  830.547170   \n",
       "         may    3.398377  3.413111  5152.670285  5152.610582  989.855273   \n",
       "         nov    3.747417  3.784457  5174.540625  5176.430000  949.277083   \n",
       "         oct    1.317534  1.358111  5023.220690  5007.366667  844.758621   \n",
       "         sep    0.830512  0.826286  4987.416279  4986.700000  629.093023   \n",
       "married  apr    1.367101  1.379795  5093.807260  5095.236752  957.871194   \n",
       "         aug    4.394208  4.511191  5204.578282  5210.126746  968.642213   \n",
       "         dec    0.837544  1.044083  5030.291111  5042.600000  789.411111   \n",
       "         jul    4.744513  4.660869  5217.167694  5212.539815  987.032940   \n",
       "         jun    4.427733  4.443176  5205.303153  5205.790126  978.334026   \n",
       "         mar    1.146243  1.261581  5053.900000  5064.106452  835.135922   \n",
       "         may    3.478374  3.351461  5154.287555  5151.151645  980.623895   \n",
       "         nov    3.765648  3.812997  5175.007853  5179.416260  959.735595   \n",
       "         oct    1.226968  1.123273  5024.037464  5013.807273  758.677233   \n",
       "         sep    0.827935  0.826000  4992.593141  4996.538889  758.743682   \n",
       "single   apr    1.355190  1.312129  5092.680290  5087.410345  955.802899   \n",
       "         aug    3.988425  4.285802  5186.182883  5199.539526  942.343844   \n",
       "         dec    0.782182  0.711800  5026.972727  5023.500000  683.113636   \n",
       "         jul    4.572487  4.615952  5208.272741  5210.208475  973.418172   \n",
       "         jun    3.761575  3.715413  5175.308014  5172.853991  949.028133   \n",
       "         mar    1.153389  1.285632  5054.542654  5065.794737  829.767773   \n",
       "         may    2.888388  2.790703  5138.829022  5136.503025  978.123606   \n",
       "         nov    3.583548  3.602287  5165.453302  5166.849102  935.697567   \n",
       "         oct    1.166516  0.976038  5012.555605  5007.773077  816.591928   \n",
       "         sep    0.848548  0.848524  4981.566667  4981.566667  662.250000   \n",
       "\n",
       "                            previous            \n",
       "loan                   yes        no       yes  \n",
       "marital  month                                  \n",
       "divorced apr    962.444444  0.334630  0.425926  \n",
       "         aug    965.056818  0.140787  0.068182  \n",
       "         dec    800.400000  0.357143  0.800000  \n",
       "         jul    976.397727  0.017333  0.079545  \n",
       "         jun    970.671429  0.056000  0.071429  \n",
       "         mar    999.000000  0.528302  0.285714  \n",
       "         may    993.793651  0.150115  0.153439  \n",
       "         nov    956.357143  0.335417  0.300000  \n",
       "         oct    556.555556  0.586207  0.888889  \n",
       "         sep    857.142857  1.023256  0.571429  \n",
       "married  apr    956.555556  0.333333  0.337607  \n",
       "         aug    968.553663  0.091412  0.095400  \n",
       "         dec    668.000000  0.588889  0.750000  \n",
       "         jul    980.620370  0.035963  0.046296  \n",
       "         jun    980.180672  0.062717  0.065126  \n",
       "         mar    903.516129  0.480583  0.451613  \n",
       "         may    981.536343  0.149724  0.150727  \n",
       "         nov    969.336043  0.275093  0.268293  \n",
       "         oct    728.290909  0.674352  0.600000  \n",
       "         sep    778.074074  0.740072  0.666667  \n",
       "single   apr    904.887931  0.282609  0.353448  \n",
       "         aug    959.675889  0.180931  0.110672  \n",
       "         dec    800.400000  0.659091  0.600000  \n",
       "         jul    979.392655  0.071244  0.067797  \n",
       "         jun    928.990610  0.132140  0.197183  \n",
       "         mar    789.947368  0.488152  0.473684  \n",
       "         may    978.963025  0.203249  0.198319  \n",
       "         nov    927.592814  0.327926  0.287425  \n",
       "         oct    845.730769  0.609865  0.769231  \n",
       "         sep    621.380952  1.017857  0.666667  "
      ]
     },
     "execution_count": 88,
     "metadata": {},
     "output_type": "execute_result"
    }
   ],
   "source": [
    "df.pivot_table(df, columns=[\"loan\"], index=[\"marital\", \"month\"])"
   ]
  },
  {
   "cell_type": "code",
   "execution_count": 85,
   "metadata": {},
   "outputs": [
    {
     "name": "stdout",
     "output_type": "stream",
     "text": [
      "for value  job index is  0\n",
      "for value  marital index is  1\n",
      "for value  education index is  2\n",
      "for value  default index is  3\n",
      "for value  housing index is  4\n",
      "for value  loan index is  5\n",
      "for value  contact index is  6\n",
      "for value  month index is  7\n",
      "for value  day_of_week index is  8\n",
      "for value  poutcome index is  9\n"
     ]
    }
   ],
   "source": [
    "cat_columns=[\"job\",\"marital\",\"education\",\"default\",\"housing\",\"loan\",\"contact\",\"month\",\"day_of_week\",\"poutcome\"]\n",
    "for i, j in enumerate(cat_columns):\n",
    "    print(\"for value \",j, \"index is \",i)"
   ]
  },
  {
   "cell_type": "code",
   "execution_count": 89,
   "metadata": {},
   "outputs": [],
   "source": [
    "import matplotlib.ticker as mtick"
   ]
  },
  {
   "cell_type": "code",
   "execution_count": 90,
   "metadata": {},
   "outputs": [
    {
     "data": {
      "image/png": "[encoded data removed]",
      "text/plain": [
       "<Figure size 1224x648 with 9 Axes>"
      ]
     },
     "metadata": {
      "needs_background": "light"
     },
     "output_type": "display_data"
    }
   ],
   "source": [
    "cat_columns=[\"job\",\"marital\",\"education\",\"default\",\"housing\",\"loan\",\"contact\",\"month\",\"day_of_week\",\"poutcome\"]\n",
    "fig,axes=plt.subplots(nrows=3,ncols=3,figsize=(17,9))\n",
    "fig.tight_layout()\n",
    "for i, item in enumerate(cat_columns):\n",
    "    if i < 3:\n",
    "        ax =(df[item].value_counts()*100/len(df)).plot(kind = 'bar',ax=axes[i,0],rot = 0)\n",
    "        ax.set_ylabel('% Customers')\n",
    "        ax.yaxis.set_major_formatter(mtick.PercentFormatter())\n",
    "        \n",
    "        totals = []\n",
    "        for i in ax.patches:\n",
    "            totals.append(i.get_width())\n",
    "        total = sum(totals)\n",
    "        \n",
    "        for i in ax.patches:\n",
    "            ax.text(i.get_x()+.05, i.get_height(), \\\n",
    "            str(round((i.get_height()/total), 1))+'%',\n",
    "            fontsize=12,\n",
    "            color='black')\n",
    "        \n",
    "    elif i >=3 and i < 6:\n",
    "        ax =(df[item].value_counts()*100/len(df)).plot(kind = 'bar',ax=axes[i-3,1],rot = 0)\n",
    "        ax.set_ylabel('% Customers')\n",
    "        ax.yaxis.set_major_formatter(mtick.PercentFormatter())\n",
    "        \n",
    "        totals = []\n",
    "        for i in ax.patches:\n",
    "            totals.append(i.get_width())\n",
    "        total = sum(totals)\n",
    "        \n",
    "        for i in ax.patches:\n",
    "            ax.text(i.get_x()+.05, i.get_height()-6, \\\n",
    "            str(round((i.get_height()/total), 1))+'%',\n",
    "            fontsize=12,\n",
    "            color='black')\n",
    "        \n",
    "    elif i < 9:\n",
    "        ax =(df[item].value_counts()*100/len(df)).plot(kind = 'bar',ax=axes[i-6,2],rot = 0)\n",
    "        ax.set_ylabel('% Customers')\n",
    "        ax.yaxis.set_major_formatter(mtick.PercentFormatter())\n",
    "        \n",
    "        totals = []\n",
    "        for i in ax.patches:\n",
    "            totals.append(i.get_width())\n",
    "        total = sum(totals)\n",
    "        \n",
    "        for i in ax.patches:\n",
    "            ax.text(i.get_x()+.05, i.get_height()+5, \\\n",
    "            str(round((i.get_height()/total), 1))+'%',\n",
    "            fontsize=12,\n",
    "            color='black')\n",
    "        \n",
    "    ax.set_title(item)"
   ]
  },
  {
   "cell_type": "code",
   "execution_count": 91,
   "metadata": {},
   "outputs": [],
   "source": [
    "# df[\"Loan\"]=df[\"loan\"].map({\"yes\":1, \"no\":2})"
   ]
  },
  {
   "cell_type": "code",
   "execution_count": 92,
   "metadata": {},
   "outputs": [],
   "source": [
    "# df.drop(\"loan\", axis=1, inplace=True)"
   ]
  },
  {
   "cell_type": "code",
   "execution_count": 93,
   "metadata": {},
   "outputs": [
    {
     "data": {
      "text/plain": [
       "Index(['age', 'job', 'marital', 'education', 'default', 'housing', 'loan',\n",
       "       'contact', 'month', 'day_of_week', 'duration', 'campaign', 'pdays',\n",
       "       'previous', 'poutcome', 'emp.var.rate', 'cons.price.idx',\n",
       "       'cons.conf.idx', 'euribor3m', 'nr.employed', 'y'],\n",
       "      dtype='object')"
      ]
     },
     "execution_count": 93,
     "metadata": {},
     "output_type": "execute_result"
    }
   ],
   "source": [
    "df.columns"
   ]
  },
  {
   "cell_type": "code",
   "execution_count": 94,
   "metadata": {},
   "outputs": [],
   "source": [
    "df.drop([\"emp.var.rate\", \"pdays\", \"euribor3m\", \"nr.employed\"], axis=1, inplace=True)"
   ]
  },
  {
   "cell_type": "code",
   "execution_count": 95,
   "metadata": {},
   "outputs": [],
   "source": [
    "df.drop(\"cons.conf.idx\", axis=1, inplace=True)"
   ]
  },
  {
   "cell_type": "code",
   "execution_count": 96,
   "metadata": {},
   "outputs": [
    {
     "data": {
      "text/html": [
       "<div>\n",
       "<style scoped>\n",
       "    .dataframe tbody tr th:only-of-type {\n",
       "        vertical-align: middle;\n",
       "    }\n",
       "\n",
       "    .dataframe tbody tr th {\n",
       "        vertical-align: top;\n",
       "    }\n",
       "\n",
       "    .dataframe thead th {\n",
       "        text-align: right;\n",
       "    }\n",
       "</style>\n",
       "<table border=\"1\" class=\"dataframe\">\n",
       "  <thead>\n",
       "    <tr style=\"text-align: right;\">\n",
       "      <th></th>\n",
       "      <th>age</th>\n",
       "      <th>job</th>\n",
       "      <th>marital</th>\n",
       "      <th>education</th>\n",
       "      <th>default</th>\n",
       "      <th>housing</th>\n",
       "      <th>loan</th>\n",
       "      <th>contact</th>\n",
       "      <th>month</th>\n",
       "      <th>day_of_week</th>\n",
       "      <th>duration</th>\n",
       "      <th>campaign</th>\n",
       "      <th>previous</th>\n",
       "      <th>poutcome</th>\n",
       "      <th>cons.price.idx</th>\n",
       "      <th>y</th>\n",
       "    </tr>\n",
       "  </thead>\n",
       "  <tbody>\n",
       "    <tr>\n",
       "      <td>0</td>\n",
       "      <td>56</td>\n",
       "      <td>housemaid</td>\n",
       "      <td>married</td>\n",
       "      <td>basic.4y</td>\n",
       "      <td>no</td>\n",
       "      <td>no</td>\n",
       "      <td>no</td>\n",
       "      <td>telephone</td>\n",
       "      <td>may</td>\n",
       "      <td>mon</td>\n",
       "      <td>261</td>\n",
       "      <td>1</td>\n",
       "      <td>0</td>\n",
       "      <td>nonexistent</td>\n",
       "      <td>93.994</td>\n",
       "      <td>no</td>\n",
       "    </tr>\n",
       "    <tr>\n",
       "      <td>1</td>\n",
       "      <td>57</td>\n",
       "      <td>services</td>\n",
       "      <td>married</td>\n",
       "      <td>high.school</td>\n",
       "      <td>no</td>\n",
       "      <td>no</td>\n",
       "      <td>no</td>\n",
       "      <td>telephone</td>\n",
       "      <td>may</td>\n",
       "      <td>mon</td>\n",
       "      <td>149</td>\n",
       "      <td>1</td>\n",
       "      <td>0</td>\n",
       "      <td>nonexistent</td>\n",
       "      <td>93.994</td>\n",
       "      <td>no</td>\n",
       "    </tr>\n",
       "    <tr>\n",
       "      <td>2</td>\n",
       "      <td>37</td>\n",
       "      <td>services</td>\n",
       "      <td>married</td>\n",
       "      <td>high.school</td>\n",
       "      <td>no</td>\n",
       "      <td>yes</td>\n",
       "      <td>no</td>\n",
       "      <td>telephone</td>\n",
       "      <td>may</td>\n",
       "      <td>mon</td>\n",
       "      <td>226</td>\n",
       "      <td>1</td>\n",
       "      <td>0</td>\n",
       "      <td>nonexistent</td>\n",
       "      <td>93.994</td>\n",
       "      <td>no</td>\n",
       "    </tr>\n",
       "    <tr>\n",
       "      <td>3</td>\n",
       "      <td>40</td>\n",
       "      <td>admin.</td>\n",
       "      <td>married</td>\n",
       "      <td>basic.6y</td>\n",
       "      <td>no</td>\n",
       "      <td>no</td>\n",
       "      <td>no</td>\n",
       "      <td>telephone</td>\n",
       "      <td>may</td>\n",
       "      <td>mon</td>\n",
       "      <td>151</td>\n",
       "      <td>1</td>\n",
       "      <td>0</td>\n",
       "      <td>nonexistent</td>\n",
       "      <td>93.994</td>\n",
       "      <td>no</td>\n",
       "    </tr>\n",
       "    <tr>\n",
       "      <td>4</td>\n",
       "      <td>56</td>\n",
       "      <td>services</td>\n",
       "      <td>married</td>\n",
       "      <td>high.school</td>\n",
       "      <td>no</td>\n",
       "      <td>no</td>\n",
       "      <td>yes</td>\n",
       "      <td>telephone</td>\n",
       "      <td>may</td>\n",
       "      <td>mon</td>\n",
       "      <td>307</td>\n",
       "      <td>1</td>\n",
       "      <td>0</td>\n",
       "      <td>nonexistent</td>\n",
       "      <td>93.994</td>\n",
       "      <td>no</td>\n",
       "    </tr>\n",
       "  </tbody>\n",
       "</table>\n",
       "</div>"
      ],
      "text/plain": [
       "   age        job  marital    education default housing loan    contact month  \\\n",
       "0   56  housemaid  married     basic.4y      no      no   no  telephone   may   \n",
       "1   57   services  married  high.school      no      no   no  telephone   may   \n",
       "2   37   services  married  high.school      no     yes   no  telephone   may   \n",
       "3   40     admin.  married     basic.6y      no      no   no  telephone   may   \n",
       "4   56   services  married  high.school      no      no  yes  telephone   may   \n",
       "\n",
       "  day_of_week  duration campaign  previous     poutcome  cons.price.idx   y  \n",
       "0         mon       261        1         0  nonexistent          93.994  no  \n",
       "1         mon       149        1         0  nonexistent          93.994  no  \n",
       "2         mon       226        1         0  nonexistent          93.994  no  \n",
       "3         mon       151        1         0  nonexistent          93.994  no  \n",
       "4         mon       307        1         0  nonexistent          93.994  no  "
      ]
     },
     "execution_count": 96,
     "metadata": {},
     "output_type": "execute_result"
    }
   ],
   "source": [
    "df.head()"
   ]
  },
  {
   "cell_type": "code",
   "execution_count": 97,
   "metadata": {},
   "outputs": [
    {
     "data": {
      "text/plain": [
       "array(['housemaid', 'services', 'admin.', 'blue-collar', 'technician',\n",
       "       'retired', 'management', 'unemployed', 'self-employed',\n",
       "       'entrepreneur', 'student'], dtype=object)"
      ]
     },
     "execution_count": 97,
     "metadata": {},
     "output_type": "execute_result"
    }
   ],
   "source": [
    "df[\"job\"].unique()"
   ]
  },
  {
   "cell_type": "code",
   "execution_count": 98,
   "metadata": {},
   "outputs": [],
   "source": [
    "df[\"job\"]=df[\"job\"].map({\"housemaid\":1, \"services\":2, \"admin.\":3, \"blue-collar\":4, \"technician\":5, \"retired\":6, \"management\":7, \"unemployed\":8, \"self-employed\":9, \"entrepreneur\":10, \"student\":11})"
   ]
  },
  {
   "cell_type": "code",
   "execution_count": 99,
   "metadata": {},
   "outputs": [
    {
     "data": {
      "text/plain": [
       "array(['married', 'single', 'divorced'], dtype=object)"
      ]
     },
     "execution_count": 99,
     "metadata": {},
     "output_type": "execute_result"
    }
   ],
   "source": [
    "df[\"marital\"].unique()"
   ]
  },
  {
   "cell_type": "code",
   "execution_count": 100,
   "metadata": {},
   "outputs": [],
   "source": [
    "df[\"marital\"]=df[\"marital\"].map({\"married\":1, \"single\":2, \"divorced\":3})"
   ]
  },
  {
   "cell_type": "code",
   "execution_count": 101,
   "metadata": {},
   "outputs": [
    {
     "data": {
      "text/plain": [
       "array(['basic.4y', 'high.school', 'basic.6y', 'basic.9y',\n",
       "       'professional.course', 'university.degree', 'illiterate'],\n",
       "      dtype=object)"
      ]
     },
     "execution_count": 101,
     "metadata": {},
     "output_type": "execute_result"
    }
   ],
   "source": [
    "df[\"education\"].unique()"
   ]
  },
  {
   "cell_type": "code",
   "execution_count": 102,
   "metadata": {},
   "outputs": [],
   "source": [
    "df[\"education\"]=df[\"education\"].map({\"basic.4y\":1, \"high.school\":2, \"basic.6y\":3, \"basic.9y\":4, \"professional.course\":5, \"university.degree\":6, \"illiterate\":7})"
   ]
  },
  {
   "cell_type": "code",
   "execution_count": 103,
   "metadata": {},
   "outputs": [
    {
     "data": {
      "text/plain": [
       "array(['no', 'yes'], dtype=object)"
      ]
     },
     "execution_count": 103,
     "metadata": {},
     "output_type": "execute_result"
    }
   ],
   "source": [
    "df[\"default\"].unique()"
   ]
  },
  {
   "cell_type": "code",
   "execution_count": 104,
   "metadata": {},
   "outputs": [],
   "source": [
    "df[\"default\"]=df[\"default\"].map({\"no\":0, \"yes\":1})"
   ]
  },
  {
   "cell_type": "code",
   "execution_count": 105,
   "metadata": {},
   "outputs": [
    {
     "data": {
      "text/plain": [
       "array(['no', 'yes'], dtype=object)"
      ]
     },
     "execution_count": 105,
     "metadata": {},
     "output_type": "execute_result"
    }
   ],
   "source": [
    "df[\"housing\"].unique()"
   ]
  },
  {
   "cell_type": "code",
   "execution_count": 106,
   "metadata": {},
   "outputs": [],
   "source": [
    "df[\"housing\"]=df[\"housing\"].map({\"no\":0, \"yes\":1})"
   ]
  },
  {
   "cell_type": "code",
   "execution_count": 107,
   "metadata": {},
   "outputs": [],
   "source": [
    "df[\"loan\"]=df[\"loan\"].map({\"no\":0, \"yes\":1})"
   ]
  },
  {
   "cell_type": "code",
   "execution_count": 108,
   "metadata": {},
   "outputs": [
    {
     "data": {
      "text/plain": [
       "array(['telephone', 'cellular'], dtype=object)"
      ]
     },
     "execution_count": 108,
     "metadata": {},
     "output_type": "execute_result"
    }
   ],
   "source": [
    "df[\"contact\"].unique()"
   ]
  },
  {
   "cell_type": "code",
   "execution_count": 109,
   "metadata": {},
   "outputs": [],
   "source": [
    "df[\"contact\"]=df[\"contact\"].map({\"telephone\":1, \"cellular\":2})"
   ]
  },
  {
   "cell_type": "code",
   "execution_count": 110,
   "metadata": {},
   "outputs": [
    {
     "data": {
      "text/plain": [
       "array(['may', 'jun', 'jul', 'aug', 'oct', 'nov', 'dec', 'mar', 'apr',\n",
       "       'sep'], dtype=object)"
      ]
     },
     "execution_count": 110,
     "metadata": {},
     "output_type": "execute_result"
    }
   ],
   "source": [
    "df[\"month\"].unique()"
   ]
  },
  {
   "cell_type": "code",
   "execution_count": 111,
   "metadata": {},
   "outputs": [],
   "source": [
    "df[\"month\"]=df[\"month\"].map({\"mar\":3, \"apr\":4, \"may\":5, \"jun\":6, \"jul\":7, \"aug\":8, \"sep\":9, \"oct\":10, \"nov\":11, \"dec\":12})"
   ]
  },
  {
   "cell_type": "code",
   "execution_count": 112,
   "metadata": {},
   "outputs": [
    {
     "data": {
      "text/plain": [
       "array(['mon', 'tue', 'wed', 'thu', 'fri'], dtype=object)"
      ]
     },
     "execution_count": 112,
     "metadata": {},
     "output_type": "execute_result"
    }
   ],
   "source": [
    "df[\"day_of_week\"].unique()"
   ]
  },
  {
   "cell_type": "code",
   "execution_count": 113,
   "metadata": {},
   "outputs": [],
   "source": [
    "df[\"day_of_week\"]=df[\"day_of_week\"].map({\"mon\":1, \"tue\":2, \"wed\":3, \"thu\":4, \"fri\":5})"
   ]
  },
  {
   "cell_type": "code",
   "execution_count": 114,
   "metadata": {},
   "outputs": [
    {
     "data": {
      "text/plain": [
       "array(['nonexistent', 'failure', 'success'], dtype=object)"
      ]
     },
     "execution_count": 114,
     "metadata": {},
     "output_type": "execute_result"
    }
   ],
   "source": [
    "df[\"poutcome\"].unique()"
   ]
  },
  {
   "cell_type": "code",
   "execution_count": 115,
   "metadata": {},
   "outputs": [],
   "source": [
    "df[\"poutcome\"]=df[\"poutcome\"].map({\"nonexistent\":1, \"failure\":2, \"success\":3})"
   ]
  },
  {
   "cell_type": "code",
   "execution_count": 116,
   "metadata": {},
   "outputs": [
    {
     "data": {
      "text/plain": [
       "array(['no', 'yes'], dtype=object)"
      ]
     },
     "execution_count": 116,
     "metadata": {},
     "output_type": "execute_result"
    }
   ],
   "source": [
    "df[\"y\"].unique()"
   ]
  },
  {
   "cell_type": "code",
   "execution_count": 117,
   "metadata": {},
   "outputs": [],
   "source": [
    "df[\"y\"]=df[\"y\"].map({\"no\":0, \"yes\":1})"
   ]
  },
  {
   "cell_type": "code",
   "execution_count": 118,
   "metadata": {},
   "outputs": [],
   "source": [
    "# df.drop(\"campaign\", axis=1, inplace=True)"
   ]
  },
  {
   "cell_type": "code",
   "execution_count": 119,
   "metadata": {},
   "outputs": [],
   "source": [
    "from sklearn.model_selection import train_test_split\n",
    "from sklearn.linear_model import LogisticRegression\n",
    "from sklearn.metrics import confusion_matrix, classification_report, accuracy_score\n",
    "from sklearn import metrics as sm"
   ]
  },
  {
   "cell_type": "code",
   "execution_count": 120,
   "metadata": {},
   "outputs": [],
   "source": [
    "X_train, X_test, y_train, y_test=train_test_split(df.drop(\"loan\", axis=1), df[\"loan\"], test_size=0.25, random_state=42)"
   ]
  },
  {
   "cell_type": "code",
   "execution_count": 121,
   "metadata": {},
   "outputs": [
    {
     "name": "stdout",
     "output_type": "stream",
     "text": [
      "(30891, 15) (10297, 15) (30891,) (10297,)\n"
     ]
    }
   ],
   "source": [
    "print(X_train.shape, X_test.shape, y_train.shape, y_test.shape)"
   ]
  },
  {
   "cell_type": "markdown",
   "metadata": {},
   "source": [
    "### LOGISTIC Regression"
   ]
  },
  {
   "cell_type": "code",
   "execution_count": 122,
   "metadata": {},
   "outputs": [
    {
     "name": "stderr",
     "output_type": "stream",
     "text": [
      "C:\\Users\\lenovo\\Anaconda3\\lib\\site-packages\\sklearn\\linear_model\\logistic.py:432: FutureWarning: Default solver will be changed to 'lbfgs' in 0.22. Specify a solver to silence this warning.\n",
      "  FutureWarning)\n"
     ]
    },
    {
     "data": {
      "text/plain": [
       "LogisticRegression(C=1.0, class_weight='balanced', dual=False,\n",
       "                   fit_intercept=True, intercept_scaling=1, l1_ratio=None,\n",
       "                   max_iter=100, multi_class='warn', n_jobs=None, penalty='l2',\n",
       "                   random_state=None, solver='warn', tol=0.0001, verbose=0,\n",
       "                   warm_start=False)"
      ]
     },
     "execution_count": 122,
     "metadata": {},
     "output_type": "execute_result"
    }
   ],
   "source": [
    "logreg_model=LogisticRegression(class_weight='balanced')\n",
    "logreg_model.fit(X_train, y_train)"
   ]
  },
  {
   "cell_type": "code",
   "execution_count": 123,
   "metadata": {},
   "outputs": [
    {
     "name": "stdout",
     "output_type": "stream",
     "text": [
      "[0 0 1 1 1 0 0 1 1 1]\n"
     ]
    }
   ],
   "source": [
    "train_result=logreg_model.predict(X_train)\n",
    "print(train_result[:10])"
   ]
  },
  {
   "cell_type": "code",
   "execution_count": 124,
   "metadata": {},
   "outputs": [
    {
     "name": "stdout",
     "output_type": "stream",
     "text": [
      "[0 1 0 0 1 1 1 1 1 1]\n"
     ]
    }
   ],
   "source": [
    "final_result=logreg_model.predict(X_test)\n",
    "print(final_result[:10])"
   ]
  },
  {
   "cell_type": "code",
   "execution_count": 125,
   "metadata": {},
   "outputs": [
    {
     "name": "stdout",
     "output_type": "stream",
     "text": [
      "[[13227 12978]\n",
      " [ 2108  2578]]\n"
     ]
    }
   ],
   "source": [
    "print(confusion_matrix(y_train, train_result))"
   ]
  },
  {
   "cell_type": "code",
   "execution_count": 126,
   "metadata": {},
   "outputs": [
    {
     "name": "stdout",
     "output_type": "stream",
     "text": [
      "[[4444 4291]\n",
      " [ 716  846]]\n"
     ]
    }
   ],
   "source": [
    "print(confusion_matrix(y_test, final_result))"
   ]
  },
  {
   "cell_type": "code",
   "execution_count": 127,
   "metadata": {},
   "outputs": [
    {
     "name": "stdout",
     "output_type": "stream",
     "text": [
      "              precision    recall  f1-score   support\n",
      "\n",
      "           0       0.86      0.51      0.64      8735\n",
      "           1       0.16      0.54      0.25      1562\n",
      "\n",
      "    accuracy                           0.51     10297\n",
      "   macro avg       0.51      0.53      0.45     10297\n",
      "weighted avg       0.76      0.51      0.58     10297\n",
      "\n"
     ]
    }
   ],
   "source": [
    "print(classification_report(y_test, final_result))"
   ]
  },
  {
   "cell_type": "code",
   "execution_count": 128,
   "metadata": {},
   "outputs": [
    {
     "name": "stdout",
     "output_type": "stream",
     "text": [
      "Logistic Regression test accuracy: 0.5137418665630766\n"
     ]
    }
   ],
   "source": [
    "print(\"Logistic Regression test accuracy:\",accuracy_score(y_test,final_result))"
   ]
  },
  {
   "cell_type": "code",
   "execution_count": 129,
   "metadata": {},
   "outputs": [
    {
     "name": "stdout",
     "output_type": "stream",
     "text": [
      "Logistic Regression train accuracy: 0.5116376938266809\n"
     ]
    }
   ],
   "source": [
    "print(\"Logistic Regression train accuracy:\",accuracy_score(y_train, train_result))"
   ]
  },
  {
   "cell_type": "markdown",
   "metadata": {},
   "source": [
    "### Decision Tree"
   ]
  },
  {
   "cell_type": "code",
   "execution_count": 130,
   "metadata": {},
   "outputs": [],
   "source": [
    "from sklearn.tree import DecisionTreeClassifier"
   ]
  },
  {
   "cell_type": "code",
   "execution_count": 131,
   "metadata": {},
   "outputs": [],
   "source": [
    "dt_model=DecisionTreeClassifier(class_weight='balanced')"
   ]
  },
  {
   "cell_type": "code",
   "execution_count": 132,
   "metadata": {},
   "outputs": [
    {
     "data": {
      "text/plain": [
       "DecisionTreeClassifier(class_weight='balanced', criterion='gini',\n",
       "                       max_depth=None, max_features=None, max_leaf_nodes=None,\n",
       "                       min_impurity_decrease=0.0, min_impurity_split=None,\n",
       "                       min_samples_leaf=1, min_samples_split=2,\n",
       "                       min_weight_fraction_leaf=0.0, presort=False,\n",
       "                       random_state=None, splitter='best')"
      ]
     },
     "execution_count": 132,
     "metadata": {},
     "output_type": "execute_result"
    }
   ],
   "source": [
    "dt_model.fit(X_train, y_train)"
   ]
  },
  {
   "cell_type": "code",
   "execution_count": 138,
   "metadata": {},
   "outputs": [
    {
     "data": {
      "text/plain": [
       "array([0, 0, 0, 0, 0, 1, 0, 0, 0, 0], dtype=int64)"
      ]
     },
     "execution_count": 138,
     "metadata": {},
     "output_type": "execute_result"
    }
   ],
   "source": [
    "train_result1=dt_model.predict(X_train)\n",
    "train_result1[:10]"
   ]
  },
  {
   "cell_type": "code",
   "execution_count": 133,
   "metadata": {},
   "outputs": [
    {
     "data": {
      "text/plain": [
       "array([0, 0, 1, 0, 0, 0, 0, 0, 0, 1], dtype=int64)"
      ]
     },
     "execution_count": 133,
     "metadata": {},
     "output_type": "execute_result"
    }
   ],
   "source": [
    "final_result1=dt_model.predict(X_test)\n",
    "final_result1[:10]"
   ]
  },
  {
   "cell_type": "code",
   "execution_count": 134,
   "metadata": {},
   "outputs": [
    {
     "name": "stdout",
     "output_type": "stream",
     "text": [
      "[[7415 1320]\n",
      " [1326  236]]\n"
     ]
    }
   ],
   "source": [
    "print(confusion_matrix(y_test, final_result1))"
   ]
  },
  {
   "cell_type": "code",
   "execution_count": 135,
   "metadata": {},
   "outputs": [
    {
     "name": "stdout",
     "output_type": "stream",
     "text": [
      "              precision    recall  f1-score   support\n",
      "\n",
      "           0       0.85      0.85      0.85      8735\n",
      "           1       0.15      0.15      0.15      1562\n",
      "\n",
      "    accuracy                           0.74     10297\n",
      "   macro avg       0.50      0.50      0.50     10297\n",
      "weighted avg       0.74      0.74      0.74     10297\n",
      "\n"
     ]
    }
   ],
   "source": [
    "print(classification_report(y_test, final_result1))"
   ]
  },
  {
   "cell_type": "code",
   "execution_count": 136,
   "metadata": {},
   "outputs": [
    {
     "name": "stdout",
     "output_type": "stream",
     "text": [
      "Decision Tree Accuracy: 0.743031951053705\n"
     ]
    }
   ],
   "source": [
    "print(\"Decision Tree Accuracy:\",sm.accuracy_score(y_test, final_result1))"
   ]
  },
  {
   "cell_type": "code",
   "execution_count": 139,
   "metadata": {},
   "outputs": [
    {
     "name": "stdout",
     "output_type": "stream",
     "text": [
      "Decision Tree Accuracy: 0.9999676281117478\n"
     ]
    }
   ],
   "source": [
    "print(\"Decision Tree Accuracy:\",sm.accuracy_score(y_train, train_result1))"
   ]
  },
  {
   "cell_type": "markdown",
   "metadata": {
    "collapsed": true
   },
   "source": [
    "### Random Forest"
   ]
  },
  {
   "cell_type": "code",
   "execution_count": 127,
   "metadata": {
    "collapsed": true
   },
   "outputs": [],
   "source": [
    "from sklearn.ensemble import RandomForestClassifier"
   ]
  },
  {
   "cell_type": "code",
   "execution_count": 128,
   "metadata": {},
   "outputs": [
    {
     "data": {
      "text/plain": [
       "RandomForestClassifier(bootstrap=True, ccp_alpha=0.0, class_weight=None,\n",
       "                       criterion='gini', max_depth=None, max_features='auto',\n",
       "                       max_leaf_nodes=None, max_samples=None,\n",
       "                       min_impurity_decrease=0.0, min_impurity_split=None,\n",
       "                       min_samples_leaf=1, min_samples_split=2,\n",
       "                       min_weight_fraction_leaf=0.0, n_estimators=100,\n",
       "                       n_jobs=None, oob_score=False, random_state=None,\n",
       "                       verbose=0, warm_start=False)"
      ]
     },
     "execution_count": 128,
     "metadata": {},
     "output_type": "execute_result"
    }
   ],
   "source": [
    "randfo_model=RandomForestClassifier()\n",
    "randfo_model.fit(X_train, y_train)"
   ]
  },
  {
   "cell_type": "code",
   "execution_count": 129,
   "metadata": {},
   "outputs": [
    {
     "data": {
      "text/plain": [
       "array([0, 0, 0, 0, 0, 1, 1, 0, 0, 0], dtype=int64)"
      ]
     },
     "execution_count": 129,
     "metadata": {},
     "output_type": "execute_result"
    }
   ],
   "source": [
    "train_result2=randfo_model.predict(X_train)\n",
    "train_result2[:10]"
   ]
  },
  {
   "cell_type": "code",
   "execution_count": 130,
   "metadata": {},
   "outputs": [
    {
     "data": {
      "text/plain": [
       "array([0, 0, 0, 0, 0, 0, 0, 0, 0, 0], dtype=int64)"
      ]
     },
     "execution_count": 130,
     "metadata": {},
     "output_type": "execute_result"
    }
   ],
   "source": [
    "result=randfo_model.predict(X_test)\n",
    "result[:10]"
   ]
  },
  {
   "cell_type": "code",
   "execution_count": 131,
   "metadata": {},
   "outputs": [
    {
     "name": "stdout",
     "output_type": "stream",
     "text": [
      "[[3419   24]\n",
      " [ 667    9]]\n"
     ]
    }
   ],
   "source": [
    "print(confusion_matrix(y_test, result))"
   ]
  },
  {
   "cell_type": "code",
   "execution_count": 132,
   "metadata": {},
   "outputs": [
    {
     "name": "stdout",
     "output_type": "stream",
     "text": [
      "              precision    recall  f1-score   support\n",
      "\n",
      "           0       0.84      0.99      0.91      3443\n",
      "           1       0.27      0.01      0.03       676\n",
      "\n",
      "    accuracy                           0.83      4119\n",
      "   macro avg       0.55      0.50      0.47      4119\n",
      "weighted avg       0.74      0.83      0.76      4119\n",
      "\n"
     ]
    }
   ],
   "source": [
    "print(classification_report(y_test, result))"
   ]
  },
  {
   "cell_type": "code",
   "execution_count": 133,
   "metadata": {},
   "outputs": [
    {
     "name": "stdout",
     "output_type": "stream",
     "text": [
      "Random Forest Accuracy: 0.8322408351541636\n"
     ]
    }
   ],
   "source": [
    "print(\"Random Forest Accuracy:\", sm.accuracy_score(y_test, result))"
   ]
  },
  {
   "cell_type": "code",
   "execution_count": 134,
   "metadata": {},
   "outputs": [
    {
     "name": "stdout",
     "output_type": "stream",
     "text": [
      "Random Forest Accuracy: 0.9998920931236343\n"
     ]
    }
   ],
   "source": [
    "print(\"Random Forest Accuracy:\", sm.accuracy_score(y_train, train_result2))"
   ]
  },
  {
   "cell_type": "code",
   "execution_count": 135,
   "metadata": {
    "collapsed": true
   },
   "outputs": [],
   "source": [
    "from sklearn.preprocessing import StandardScaler\n",
    "scaler=StandardScaler()\n",
    "scaler.fit(X_train)\n",
    "\n",
    "X_train=scaler.transform(X_train)\n",
    "X_test=scaler.transform(X_test)"
   ]
  },
  {
   "cell_type": "markdown",
   "metadata": {},
   "source": [
    "### SVM Method "
   ]
  },
  {
   "cell_type": "code",
   "execution_count": 136,
   "metadata": {
    "collapsed": true
   },
   "outputs": [],
   "source": [
    "from sklearn.svm import LinearSVC"
   ]
  },
  {
   "cell_type": "code",
   "execution_count": 137,
   "metadata": {},
   "outputs": [
    {
     "name": "stderr",
     "output_type": "stream",
     "text": [
      "C:\\Users\\PC\\Anaconda3\\lib\\site-packages\\sklearn\\svm\\_base.py:947: ConvergenceWarning: Liblinear failed to converge, increase the number of iterations.\n",
      "  \"the number of iterations.\", ConvergenceWarning)\n"
     ]
    }
   ],
   "source": [
    "svc=LinearSVC(C=1.0)\n",
    "model=svc.fit(X_train, y_train)"
   ]
  },
  {
   "cell_type": "code",
   "execution_count": 138,
   "metadata": {
    "collapsed": true
   },
   "outputs": [],
   "source": [
    "test_predictions=svc.predict(X_test)\n",
    "train_predictions=svc.predict(X_train)"
   ]
  },
  {
   "cell_type": "code",
   "execution_count": 139,
   "metadata": {},
   "outputs": [
    {
     "name": "stderr",
     "output_type": "stream",
     "text": [
      "C:\\Users\\PC\\Anaconda3\\lib\\site-packages\\sklearn\\metrics\\_classification.py:1272: UndefinedMetricWarning: Precision and F-score are ill-defined and being set to 0.0 in labels with no predicted samples. Use `zero_division` parameter to control this behavior.\n",
      "  _warn_prf(average, modifier, msg_start, len(result))\n"
     ]
    },
    {
     "name": "stdout",
     "output_type": "stream",
     "text": [
      "[[3443    0]\n",
      " [ 676    0]]\n",
      "              precision    recall  f1-score   support\n",
      "\n",
      "           0       0.84      1.00      0.91      3443\n",
      "           1       0.00      0.00      0.00       676\n",
      "\n",
      "    accuracy                           0.84      4119\n",
      "   macro avg       0.42      0.50      0.46      4119\n",
      "weighted avg       0.70      0.84      0.76      4119\n",
      "\n",
      "Train Accuracy: 84.9685721222585\n",
      "Test Accuracy: 83.5882495751396\n"
     ]
    }
   ],
   "source": [
    "print(confusion_matrix(y_test, test_predictions))\n",
    "print(classification_report(y_test, test_predictions))\n",
    "print(\"Train Accuracy:\", accuracy_score(y_train, train_predictions)*100)\n",
    "print(\"Test Accuracy:\", accuracy_score(y_test, test_predictions)*100)"
   ]
  },
  {
   "cell_type": "code",
   "execution_count": 140,
   "metadata": {
    "collapsed": true
   },
   "outputs": [],
   "source": [
    "from sklearn.svm import SVC"
   ]
  },
  {
   "cell_type": "code",
   "execution_count": 141,
   "metadata": {},
   "outputs": [
    {
     "name": "stdout",
     "output_type": "stream",
     "text": [
      "[[3443    0]\n",
      " [ 676    0]]\n",
      "              precision    recall  f1-score   support\n",
      "\n",
      "           0       0.84      1.00      0.91      3443\n",
      "           1       0.00      0.00      0.00       676\n",
      "\n",
      "    accuracy                           0.84      4119\n",
      "   macro avg       0.42      0.50      0.46      4119\n",
      "weighted avg       0.70      0.84      0.76      4119\n",
      "\n",
      "Train Accuracy: 84.9685721222585\n",
      "Test Accuracy: 83.5882495751396\n"
     ]
    },
    {
     "name": "stderr",
     "output_type": "stream",
     "text": [
      "C:\\Users\\PC\\Anaconda3\\lib\\site-packages\\sklearn\\metrics\\_classification.py:1272: UndefinedMetricWarning: Precision and F-score are ill-defined and being set to 0.0 in labels with no predicted samples. Use `zero_division` parameter to control this behavior.\n",
      "  _warn_prf(average, modifier, msg_start, len(result))\n"
     ]
    }
   ],
   "source": [
    "linear_svm=SVC(kernel=\"linear\", C=1, gamma=0.01, random_state=0)\n",
    "linear_svm.fit(X_train, y_train)\n",
    "\n",
    "test_predictions=linear_svm.predict(X_test)\n",
    "train_predictions=linear_svm.predict(X_train)\n",
    "\n",
    "print(confusion_matrix(y_test, test_predictions))\n",
    "\n",
    "print(classification_report(y_test, test_predictions))\n",
    "\n",
    "print(\"Train Accuracy:\", accuracy_score(y_train, train_predictions)*100)\n",
    "print(\"Test Accuracy:\", accuracy_score(y_test, test_predictions)*100)"
   ]
  },
  {
   "cell_type": "code",
   "execution_count": 142,
   "metadata": {},
   "outputs": [
    {
     "name": "stdout",
     "output_type": "stream",
     "text": [
      "[[3443    0]\n",
      " [ 676    0]]\n",
      "              precision    recall  f1-score   support\n",
      "\n",
      "           0       0.84      1.00      0.91      3443\n",
      "           1       0.00      0.00      0.00       676\n",
      "\n",
      "    accuracy                           0.84      4119\n",
      "   macro avg       0.42      0.50      0.46      4119\n",
      "weighted avg       0.70      0.84      0.76      4119\n",
      "\n",
      "Test Accuracy: 83.5882495751396\n",
      "Train Accuracy: 84.9685721222585\n"
     ]
    },
    {
     "name": "stderr",
     "output_type": "stream",
     "text": [
      "C:\\Users\\PC\\Anaconda3\\lib\\site-packages\\sklearn\\metrics\\_classification.py:1272: UndefinedMetricWarning: Precision and F-score are ill-defined and being set to 0.0 in labels with no predicted samples. Use `zero_division` parameter to control this behavior.\n",
      "  _warn_prf(average, modifier, msg_start, len(result))\n"
     ]
    }
   ],
   "source": [
    "linear_svm=SVC(kernel=\"rbf\", C=1, gamma=0.01, random_state=0)\n",
    "linear_svm.fit(X_train, y_train)\n",
    "\n",
    "test_predictions=linear_svm.predict(X_test)\n",
    "train_predictions=linear_svm.predict(X_train)\n",
    "\n",
    "print(confusion_matrix(y_test, test_predictions))\n",
    "\n",
    "print(classification_report(y_test, test_predictions))\n",
    "\n",
    "print(\"Test Accuracy:\", accuracy_score(y_test, test_predictions)*100)\n",
    "print(\"Train Accuracy:\", accuracy_score(y_train, train_predictions)*100)"
   ]
  },
  {
   "cell_type": "code",
   "execution_count": 143,
   "metadata": {},
   "outputs": [
    {
     "name": "stdout",
     "output_type": "stream",
     "text": [
      "[[3443    0]\n",
      " [ 676    0]]\n",
      "              precision    recall  f1-score   support\n",
      "\n",
      "           0       0.84      1.00      0.91      3443\n",
      "           1       0.00      0.00      0.00       676\n",
      "\n",
      "    accuracy                           0.84      4119\n",
      "   macro avg       0.42      0.50      0.46      4119\n",
      "weighted avg       0.70      0.84      0.76      4119\n",
      "\n",
      "Train Accuracy: 84.9685721222585\n",
      "Test Accuracy: 83.5882495751396\n"
     ]
    },
    {
     "name": "stderr",
     "output_type": "stream",
     "text": [
      "C:\\Users\\PC\\Anaconda3\\lib\\site-packages\\sklearn\\metrics\\_classification.py:1272: UndefinedMetricWarning: Precision and F-score are ill-defined and being set to 0.0 in labels with no predicted samples. Use `zero_division` parameter to control this behavior.\n",
      "  _warn_prf(average, modifier, msg_start, len(result))\n"
     ]
    }
   ],
   "source": [
    "linear_svm=SVC(kernel=\"poly\", C=1, gamma=0.01, random_state=0)\n",
    "linear_svm.fit(X_train, y_train)\n",
    "\n",
    "test_predictions=linear_svm.predict(X_test)\n",
    "train_predicitons=linear_svm.predict(X_train)\n",
    "\n",
    "print(confusion_matrix(y_test, test_predictions))\n",
    "\n",
    "print(classification_report(y_test, test_predictions))\n",
    "\n",
    "print(\"Train Accuracy:\", accuracy_score(y_train, train_predictions)*100)\n",
    "print(\"Test Accuracy:\", accuracy_score(y_test, test_predictions)*100)"
   ]
  },
  {
   "cell_type": "markdown",
   "metadata": {},
   "source": [
    "### Naive Bayes "
   ]
  },
  {
   "cell_type": "code",
   "execution_count": 144,
   "metadata": {
    "collapsed": true
   },
   "outputs": [],
   "source": [
    "from sklearn.naive_bayes import GaussianNB"
   ]
  },
  {
   "cell_type": "code",
   "execution_count": 145,
   "metadata": {
    "collapsed": true
   },
   "outputs": [],
   "source": [
    "nb=GaussianNB(var_smoothing=0.01)\n",
    "nb.fit(X_train, y_train)\n",
    "\n",
    "y_pred=nb.predict(X_test)"
   ]
  },
  {
   "cell_type": "code",
   "execution_count": 146,
   "metadata": {
    "collapsed": true
   },
   "outputs": [],
   "source": [
    "train_pres=nb.predict(X_train)"
   ]
  },
  {
   "cell_type": "code",
   "execution_count": 147,
   "metadata": {},
   "outputs": [
    {
     "name": "stdout",
     "output_type": "stream",
     "text": [
      "[[  21 3422]\n",
      " [   1  675]]\n",
      "              precision    recall  f1-score   support\n",
      "\n",
      "           0       0.95      0.01      0.01      3443\n",
      "           1       0.16      1.00      0.28       676\n",
      "\n",
      "    accuracy                           0.17      4119\n",
      "   macro avg       0.56      0.50      0.15      4119\n",
      "weighted avg       0.82      0.17      0.06      4119\n",
      "\n",
      "Train Accuracy: 15.347055491111172\n",
      "Test Accuracy: 16.89730517115805\n"
     ]
    }
   ],
   "source": [
    "print(confusion_matrix(y_test, y_pred))\n",
    "\n",
    "print(classification_report(y_test, y_pred))\n",
    "\n",
    "print(\"Train Accuracy:\", accuracy_score(y_train, train_pres)*100)\n",
    "print(\"Test Accuracy:\", accuracy_score(y_test, y_pred)*100)"
   ]
  },
  {
   "cell_type": "markdown",
   "metadata": {},
   "source": [
    "### KNN Model"
   ]
  },
  {
   "cell_type": "code",
   "execution_count": 148,
   "metadata": {
    "collapsed": true
   },
   "outputs": [],
   "source": [
    "from sklearn.neighbors import KNeighborsClassifier"
   ]
  },
  {
   "cell_type": "code",
   "execution_count": 149,
   "metadata": {},
   "outputs": [
    {
     "data": {
      "text/plain": [
       "KNeighborsClassifier(algorithm='auto', leaf_size=30, metric='minkowski',\n",
       "                     metric_params=None, n_jobs=None, n_neighbors=5, p=2,\n",
       "                     weights='uniform')"
      ]
     },
     "execution_count": 149,
     "metadata": {},
     "output_type": "execute_result"
    }
   ],
   "source": [
    "classifier=KNeighborsClassifier(n_neighbors=5)\n",
    "classifier.fit(X_train, y_train)"
   ]
  },
  {
   "cell_type": "code",
   "execution_count": 150,
   "metadata": {
    "collapsed": true
   },
   "outputs": [],
   "source": [
    "y_pred=classifier.predict(X_test)\n",
    "train_pred=classifier.predict(X_train)"
   ]
  },
  {
   "cell_type": "code",
   "execution_count": 151,
   "metadata": {},
   "outputs": [
    {
     "name": "stdout",
     "output_type": "stream",
     "text": [
      "[[3351   92]\n",
      " [ 651   25]]\n",
      "              precision    recall  f1-score   support\n",
      "\n",
      "           0       0.84      0.97      0.90      3443\n",
      "           1       0.21      0.04      0.06       676\n",
      "\n",
      "    accuracy                           0.82      4119\n",
      "   macro avg       0.53      0.51      0.48      4119\n",
      "weighted avg       0.73      0.82      0.76      4119\n",
      "\n",
      "Train Accuracy: 85.61331570854352\n",
      "Test Accuracy: 81.96164117504249\n"
     ]
    }
   ],
   "source": [
    "print(confusion_matrix(y_test, y_pred))\n",
    "\n",
    "print(classification_report(y_test, y_pred))\n",
    "\n",
    "print(\"Train Accuracy:\",accuracy_score(y_train, train_pred)*100)\n",
    "print(\"Test Accuracy:\",accuracy_score(y_test, y_pred)*100)"
   ]
  },
  {
   "cell_type": "markdown",
   "metadata": {
    "collapsed": true
   },
   "source": [
    "### Finetuning methods"
   ]
  },
  {
   "cell_type": "code",
   "execution_count": 1,
   "metadata": {},
   "outputs": [],
   "source": [
    "from sklearn.model_selection import GridSearchCV, RandomizedSearchCV, cross_val_score"
   ]
  },
  {
   "cell_type": "code",
   "execution_count": null,
   "metadata": {},
   "outputs": [],
   "source": [
    "params={\"max_depth\": range(1,8,2),\n",
    "        \"max_features\": [\"sqrt\"],\n",
    "       \"n_estimators\": [10,20,30,40,50],\n",
    "       \"min_samples_leaf\": [1,2,4],\n",
    "       \"min_samples_split\": [2,3,6]}\n",
    "Grid_randomF=GridSearchCV(RandomForestClassifier(random_state=15), params)\n",
    "\n",
    "Grid_randomF.fit(X_train, y_train)\n",
    "print(Grid_randomF.best_params_)"
   ]
  },
  {
   "cell_type": "code",
   "execution_count": null,
   "metadata": {},
   "outputs": [],
   "source": [
    "clf=RandomForestClassifier(random_state=0, n_jobs=-1, class_weight=\"balanced\", oob_score=True, **Grid_randomF.best_params_)\n",
    "clf.fit(X_train, y_train)"
   ]
  },
  {
   "cell_type": "code",
   "execution_count": null,
   "metadata": {},
   "outputs": [],
   "source": [
    "clf_score=cross_val_score(clf, X_train, y_train, cv=10)\n",
    "print(clf_score)\n",
    "clf_score.mean()"
   ]
  },
  {
   "cell_type": "code",
   "execution_count": null,
   "metadata": {
    "collapsed": true
   },
   "outputs": [],
   "source": []
  },
  {
   "cell_type": "code",
   "execution_count": null,
   "metadata": {
    "collapsed": true
   },
   "outputs": [],
   "source": []
  }
 ],
 "metadata": {
  "kernelspec": {
   "display_name": "Python 3",
   "language": "python",
   "name": "python3"
  },
  "language_info": {
   "codemirror_mode": {
    "name": "ipython",
    "version": 3
   },
   "file_extension": ".py",
   "mimetype": "text/x-python",
   "name": "python",
   "nbconvert_exporter": "python",
   "pygments_lexer": "ipython3",
   "version": "3.7.6"
  }
 },
 "nbformat": 4,
 "nbformat_minor": 2
}
